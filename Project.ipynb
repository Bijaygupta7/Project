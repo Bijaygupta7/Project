{
 "cells": [
  {
   "cell_type": "code",
   "execution_count": 78,
   "id": "41510fd9-6bad-4d97-8f5e-217f132fe687",
   "metadata": {},
   "outputs": [],
   "source": [
    "import numpy as np\n",
    "import pandas as pd\n",
    "import matplotlib.pyplot as plt\n",
    "import seaborn as sns\n",
    "sns.set()"
   ]
  },
  {
   "cell_type": "code",
   "execution_count": 79,
   "id": "ed044e1b-ecbb-41ee-a9f2-f0556a073f3f",
   "metadata": {},
   "outputs": [],
   "source": [
    "train_data = pd.read_csv(\"dubai_properties.csv\")"
   ]
  },
  {
   "cell_type": "code",
   "execution_count": 80,
   "id": "b85ce40d-463f-43f6-8cc8-a750371b3113",
   "metadata": {},
   "outputs": [],
   "source": [
    "pd.set_option('display.max_columns', None)"
   ]
  },
  {
   "cell_type": "code",
   "execution_count": 81,
   "id": "c743a76f-9bdf-46b3-976a-b94e68312807",
   "metadata": {},
   "outputs": [
    {
     "data": {
      "text/html": [
       "<div>\n",
       "<style scoped>\n",
       "    .dataframe tbody tr th:only-of-type {\n",
       "        vertical-align: middle;\n",
       "    }\n",
       "\n",
       "    .dataframe tbody tr th {\n",
       "        vertical-align: top;\n",
       "    }\n",
       "\n",
       "    .dataframe thead th {\n",
       "        text-align: right;\n",
       "    }\n",
       "</style>\n",
       "<table border=\"1\" class=\"dataframe\">\n",
       "  <thead>\n",
       "    <tr style=\"text-align: right;\">\n",
       "      <th></th>\n",
       "      <th>Address</th>\n",
       "      <th>Rent</th>\n",
       "      <th>Beds</th>\n",
       "      <th>Baths</th>\n",
       "      <th>Type</th>\n",
       "      <th>Area_in_sqft</th>\n",
       "      <th>Rent_per_sqft</th>\n",
       "      <th>Rent_category</th>\n",
       "      <th>Frequency</th>\n",
       "      <th>Furnishing</th>\n",
       "      <th>Purpose</th>\n",
       "      <th>Posted_date</th>\n",
       "      <th>Age_of_listing_in_days</th>\n",
       "      <th>Location</th>\n",
       "      <th>City</th>\n",
       "      <th>Latitude</th>\n",
       "      <th>Longitude</th>\n",
       "    </tr>\n",
       "  </thead>\n",
       "  <tbody>\n",
       "    <tr>\n",
       "      <th>0</th>\n",
       "      <td>The Gate Tower 2, The Gate Tower, Shams Gate D...</td>\n",
       "      <td>124000</td>\n",
       "      <td>3</td>\n",
       "      <td>4</td>\n",
       "      <td>Apartment</td>\n",
       "      <td>1785</td>\n",
       "      <td>69.467787</td>\n",
       "      <td>Medium</td>\n",
       "      <td>Yearly</td>\n",
       "      <td>Unfurnished</td>\n",
       "      <td>For Rent</td>\n",
       "      <td>2024-03-07</td>\n",
       "      <td>45</td>\n",
       "      <td>Al Reem Island</td>\n",
       "      <td>Abu Dhabi</td>\n",
       "      <td>24.493598</td>\n",
       "      <td>54.407841</td>\n",
       "    </tr>\n",
       "    <tr>\n",
       "      <th>1</th>\n",
       "      <td>Water's Edge, Yas Island, Abu Dhabi</td>\n",
       "      <td>140000</td>\n",
       "      <td>3</td>\n",
       "      <td>4</td>\n",
       "      <td>Apartment</td>\n",
       "      <td>1422</td>\n",
       "      <td>98.452883</td>\n",
       "      <td>Medium</td>\n",
       "      <td>Yearly</td>\n",
       "      <td>Unfurnished</td>\n",
       "      <td>For Rent</td>\n",
       "      <td>2024-03-08</td>\n",
       "      <td>44</td>\n",
       "      <td>Yas Island</td>\n",
       "      <td>Abu Dhabi</td>\n",
       "      <td>24.494022</td>\n",
       "      <td>54.607372</td>\n",
       "    </tr>\n",
       "    <tr>\n",
       "      <th>2</th>\n",
       "      <td>Al Raha Lofts, Al Raha Beach, Abu Dhabi</td>\n",
       "      <td>99000</td>\n",
       "      <td>2</td>\n",
       "      <td>3</td>\n",
       "      <td>Apartment</td>\n",
       "      <td>1314</td>\n",
       "      <td>75.342466</td>\n",
       "      <td>Medium</td>\n",
       "      <td>Yearly</td>\n",
       "      <td>Furnished</td>\n",
       "      <td>For Rent</td>\n",
       "      <td>2024-03-21</td>\n",
       "      <td>31</td>\n",
       "      <td>Al Raha Beach</td>\n",
       "      <td>Abu Dhabi</td>\n",
       "      <td>24.485931</td>\n",
       "      <td>54.600939</td>\n",
       "    </tr>\n",
       "    <tr>\n",
       "      <th>3</th>\n",
       "      <td>Marina Heights, Marina Square, Al Reem Island,...</td>\n",
       "      <td>220000</td>\n",
       "      <td>3</td>\n",
       "      <td>4</td>\n",
       "      <td>Penthouse</td>\n",
       "      <td>3843</td>\n",
       "      <td>57.246942</td>\n",
       "      <td>High</td>\n",
       "      <td>Yearly</td>\n",
       "      <td>Unfurnished</td>\n",
       "      <td>For Rent</td>\n",
       "      <td>2024-02-24</td>\n",
       "      <td>57</td>\n",
       "      <td>Al Reem Island</td>\n",
       "      <td>Abu Dhabi</td>\n",
       "      <td>24.493598</td>\n",
       "      <td>54.407841</td>\n",
       "    </tr>\n",
       "    <tr>\n",
       "      <th>4</th>\n",
       "      <td>West Yas, Yas Island, Abu Dhabi</td>\n",
       "      <td>350000</td>\n",
       "      <td>5</td>\n",
       "      <td>7</td>\n",
       "      <td>Villa</td>\n",
       "      <td>6860</td>\n",
       "      <td>51.020408</td>\n",
       "      <td>High</td>\n",
       "      <td>Yearly</td>\n",
       "      <td>Unfurnished</td>\n",
       "      <td>For Rent</td>\n",
       "      <td>2024-02-16</td>\n",
       "      <td>65</td>\n",
       "      <td>Yas Island</td>\n",
       "      <td>Abu Dhabi</td>\n",
       "      <td>24.494022</td>\n",
       "      <td>54.607372</td>\n",
       "    </tr>\n",
       "    <tr>\n",
       "      <th>5</th>\n",
       "      <td>Reflection, Shams Abu Dhabi, Al Reem Island, A...</td>\n",
       "      <td>75000</td>\n",
       "      <td>1</td>\n",
       "      <td>1</td>\n",
       "      <td>Apartment</td>\n",
       "      <td>706</td>\n",
       "      <td>106.232295</td>\n",
       "      <td>Medium</td>\n",
       "      <td>Yearly</td>\n",
       "      <td>Furnished</td>\n",
       "      <td>For Rent</td>\n",
       "      <td>2023-12-12</td>\n",
       "      <td>131</td>\n",
       "      <td>Al Reem Island</td>\n",
       "      <td>Abu Dhabi</td>\n",
       "      <td>24.493598</td>\n",
       "      <td>54.407841</td>\n",
       "    </tr>\n",
       "    <tr>\n",
       "      <th>6</th>\n",
       "      <td>Water's Edge, Yas Island, Abu Dhabi</td>\n",
       "      <td>65000</td>\n",
       "      <td>1</td>\n",
       "      <td>1</td>\n",
       "      <td>Apartment</td>\n",
       "      <td>698</td>\n",
       "      <td>93.123209</td>\n",
       "      <td>Low</td>\n",
       "      <td>Yearly</td>\n",
       "      <td>Unfurnished</td>\n",
       "      <td>For Rent</td>\n",
       "      <td>2024-03-11</td>\n",
       "      <td>41</td>\n",
       "      <td>Yas Island</td>\n",
       "      <td>Abu Dhabi</td>\n",
       "      <td>24.494022</td>\n",
       "      <td>54.607372</td>\n",
       "    </tr>\n",
       "    <tr>\n",
       "      <th>7</th>\n",
       "      <td>Noya, Yas Island, Abu Dhabi</td>\n",
       "      <td>170000</td>\n",
       "      <td>3</td>\n",
       "      <td>4</td>\n",
       "      <td>Townhouse</td>\n",
       "      <td>1989</td>\n",
       "      <td>85.470085</td>\n",
       "      <td>High</td>\n",
       "      <td>Yearly</td>\n",
       "      <td>Unfurnished</td>\n",
       "      <td>For Rent</td>\n",
       "      <td>2024-02-22</td>\n",
       "      <td>59</td>\n",
       "      <td>Yas Island</td>\n",
       "      <td>Abu Dhabi</td>\n",
       "      <td>24.494022</td>\n",
       "      <td>54.607372</td>\n",
       "    </tr>\n",
       "    <tr>\n",
       "      <th>8</th>\n",
       "      <td>Ansam 3, Ansam, Yas Island, Abu Dhabi</td>\n",
       "      <td>75000</td>\n",
       "      <td>1</td>\n",
       "      <td>2</td>\n",
       "      <td>Apartment</td>\n",
       "      <td>886</td>\n",
       "      <td>84.650113</td>\n",
       "      <td>Medium</td>\n",
       "      <td>Yearly</td>\n",
       "      <td>Unfurnished</td>\n",
       "      <td>For Rent</td>\n",
       "      <td>2024-04-05</td>\n",
       "      <td>16</td>\n",
       "      <td>Yas Island</td>\n",
       "      <td>Abu Dhabi</td>\n",
       "      <td>24.494022</td>\n",
       "      <td>54.607372</td>\n",
       "    </tr>\n",
       "    <tr>\n",
       "      <th>9</th>\n",
       "      <td>Marina Heights I, Marina Heights, Marina Squar...</td>\n",
       "      <td>160000</td>\n",
       "      <td>2</td>\n",
       "      <td>3</td>\n",
       "      <td>Apartment</td>\n",
       "      <td>1430</td>\n",
       "      <td>111.888112</td>\n",
       "      <td>High</td>\n",
       "      <td>Yearly</td>\n",
       "      <td>Unfurnished</td>\n",
       "      <td>For Rent</td>\n",
       "      <td>2024-04-05</td>\n",
       "      <td>16</td>\n",
       "      <td>Al Reem Island</td>\n",
       "      <td>Abu Dhabi</td>\n",
       "      <td>24.493598</td>\n",
       "      <td>54.407841</td>\n",
       "    </tr>\n",
       "    <tr>\n",
       "      <th>10</th>\n",
       "      <td>Bloom Marina, Al Bateen, Abu Dhabi</td>\n",
       "      <td>110000</td>\n",
       "      <td>2</td>\n",
       "      <td>2</td>\n",
       "      <td>Apartment</td>\n",
       "      <td>1356</td>\n",
       "      <td>81.120944</td>\n",
       "      <td>Medium</td>\n",
       "      <td>Yearly</td>\n",
       "      <td>Unfurnished</td>\n",
       "      <td>For Rent</td>\n",
       "      <td>2023-01-29</td>\n",
       "      <td>448</td>\n",
       "      <td>Al Bateen</td>\n",
       "      <td>Abu Dhabi</td>\n",
       "      <td>24.204894</td>\n",
       "      <td>55.619661</td>\n",
       "    </tr>\n",
       "    <tr>\n",
       "      <th>11</th>\n",
       "      <td>Noya, Yas Island, Abu Dhabi</td>\n",
       "      <td>174000</td>\n",
       "      <td>3</td>\n",
       "      <td>4</td>\n",
       "      <td>Townhouse</td>\n",
       "      <td>1816</td>\n",
       "      <td>95.814978</td>\n",
       "      <td>High</td>\n",
       "      <td>Yearly</td>\n",
       "      <td>Unfurnished</td>\n",
       "      <td>For Rent</td>\n",
       "      <td>2024-03-25</td>\n",
       "      <td>27</td>\n",
       "      <td>Yas Island</td>\n",
       "      <td>Abu Dhabi</td>\n",
       "      <td>24.494022</td>\n",
       "      <td>54.607372</td>\n",
       "    </tr>\n",
       "    <tr>\n",
       "      <th>12</th>\n",
       "      <td>West Yas, Yas Island, Abu Dhabi</td>\n",
       "      <td>330000</td>\n",
       "      <td>5</td>\n",
       "      <td>7</td>\n",
       "      <td>Villa</td>\n",
       "      <td>5907</td>\n",
       "      <td>55.865922</td>\n",
       "      <td>High</td>\n",
       "      <td>Yearly</td>\n",
       "      <td>Unfurnished</td>\n",
       "      <td>For Rent</td>\n",
       "      <td>2024-03-22</td>\n",
       "      <td>30</td>\n",
       "      <td>Yas Island</td>\n",
       "      <td>Abu Dhabi</td>\n",
       "      <td>24.494022</td>\n",
       "      <td>54.607372</td>\n",
       "    </tr>\n",
       "    <tr>\n",
       "      <th>13</th>\n",
       "      <td>Contemporary Style, Al Reef Villas, Al Reef, A...</td>\n",
       "      <td>149000</td>\n",
       "      <td>5</td>\n",
       "      <td>6</td>\n",
       "      <td>Villa</td>\n",
       "      <td>3750</td>\n",
       "      <td>39.733333</td>\n",
       "      <td>High</td>\n",
       "      <td>Yearly</td>\n",
       "      <td>Unfurnished</td>\n",
       "      <td>For Rent</td>\n",
       "      <td>2024-04-02</td>\n",
       "      <td>19</td>\n",
       "      <td>Al Reef</td>\n",
       "      <td>Abu Dhabi</td>\n",
       "      <td>24.466437</td>\n",
       "      <td>54.656891</td>\n",
       "    </tr>\n",
       "    <tr>\n",
       "      <th>14</th>\n",
       "      <td>Fairmont Marina Residences, The Marina, Abu Dhabi</td>\n",
       "      <td>150000</td>\n",
       "      <td>1</td>\n",
       "      <td>2</td>\n",
       "      <td>Apartment</td>\n",
       "      <td>1022</td>\n",
       "      <td>146.771037</td>\n",
       "      <td>High</td>\n",
       "      <td>Yearly</td>\n",
       "      <td>Furnished</td>\n",
       "      <td>For Rent</td>\n",
       "      <td>2024-03-18</td>\n",
       "      <td>34</td>\n",
       "      <td>The Marina</td>\n",
       "      <td>Abu Dhabi</td>\n",
       "      <td>24.479853</td>\n",
       "      <td>54.319951</td>\n",
       "    </tr>\n",
       "    <tr>\n",
       "      <th>15</th>\n",
       "      <td>Building 45, Al Reef Downtown, Al Reef, Abu Dhabi</td>\n",
       "      <td>80000</td>\n",
       "      <td>2</td>\n",
       "      <td>2</td>\n",
       "      <td>Apartment</td>\n",
       "      <td>1477</td>\n",
       "      <td>54.163846</td>\n",
       "      <td>Medium</td>\n",
       "      <td>Yearly</td>\n",
       "      <td>Unfurnished</td>\n",
       "      <td>For Rent</td>\n",
       "      <td>2024-03-14</td>\n",
       "      <td>38</td>\n",
       "      <td>Al Reef</td>\n",
       "      <td>Abu Dhabi</td>\n",
       "      <td>24.466437</td>\n",
       "      <td>54.656891</td>\n",
       "    </tr>\n",
       "    <tr>\n",
       "      <th>16</th>\n",
       "      <td>Marina Heights I, Marina Heights, Marina Squar...</td>\n",
       "      <td>125000</td>\n",
       "      <td>3</td>\n",
       "      <td>4</td>\n",
       "      <td>Apartment</td>\n",
       "      <td>1744</td>\n",
       "      <td>71.674312</td>\n",
       "      <td>Medium</td>\n",
       "      <td>Yearly</td>\n",
       "      <td>Unfurnished</td>\n",
       "      <td>For Rent</td>\n",
       "      <td>2023-12-01</td>\n",
       "      <td>142</td>\n",
       "      <td>Al Reem Island</td>\n",
       "      <td>Abu Dhabi</td>\n",
       "      <td>24.493598</td>\n",
       "      <td>54.407841</td>\n",
       "    </tr>\n",
       "    <tr>\n",
       "      <th>17</th>\n",
       "      <td>Contemporary Style, Al Reef Villas, Al Reef, A...</td>\n",
       "      <td>129995</td>\n",
       "      <td>4</td>\n",
       "      <td>5</td>\n",
       "      <td>Villa</td>\n",
       "      <td>2828</td>\n",
       "      <td>45.967115</td>\n",
       "      <td>Medium</td>\n",
       "      <td>Yearly</td>\n",
       "      <td>Unfurnished</td>\n",
       "      <td>For Rent</td>\n",
       "      <td>2024-03-11</td>\n",
       "      <td>41</td>\n",
       "      <td>Al Reef</td>\n",
       "      <td>Abu Dhabi</td>\n",
       "      <td>24.466437</td>\n",
       "      <td>54.656891</td>\n",
       "    </tr>\n",
       "    <tr>\n",
       "      <th>18</th>\n",
       "      <td>Building 26, Al Reef Downtown, Al Reef, Abu Dhabi</td>\n",
       "      <td>62900</td>\n",
       "      <td>2</td>\n",
       "      <td>2</td>\n",
       "      <td>Apartment</td>\n",
       "      <td>1237</td>\n",
       "      <td>50.848828</td>\n",
       "      <td>Low</td>\n",
       "      <td>Yearly</td>\n",
       "      <td>Unfurnished</td>\n",
       "      <td>For Rent</td>\n",
       "      <td>2024-04-02</td>\n",
       "      <td>19</td>\n",
       "      <td>Al Reef</td>\n",
       "      <td>Abu Dhabi</td>\n",
       "      <td>24.466437</td>\n",
       "      <td>54.656891</td>\n",
       "    </tr>\n",
       "    <tr>\n",
       "      <th>19</th>\n",
       "      <td>Noya, Yas Island, Abu Dhabi</td>\n",
       "      <td>145000</td>\n",
       "      <td>2</td>\n",
       "      <td>4</td>\n",
       "      <td>Townhouse</td>\n",
       "      <td>1821</td>\n",
       "      <td>79.626579</td>\n",
       "      <td>High</td>\n",
       "      <td>Yearly</td>\n",
       "      <td>Unfurnished</td>\n",
       "      <td>For Rent</td>\n",
       "      <td>2024-02-27</td>\n",
       "      <td>54</td>\n",
       "      <td>Yas Island</td>\n",
       "      <td>Abu Dhabi</td>\n",
       "      <td>24.494022</td>\n",
       "      <td>54.607372</td>\n",
       "    </tr>\n",
       "    <tr>\n",
       "      <th>20</th>\n",
       "      <td>Al Heel Tower, Al Khalidiyah, Abu Dhabi</td>\n",
       "      <td>95000</td>\n",
       "      <td>3</td>\n",
       "      <td>3</td>\n",
       "      <td>Apartment</td>\n",
       "      <td>1689</td>\n",
       "      <td>56.246300</td>\n",
       "      <td>Medium</td>\n",
       "      <td>Yearly</td>\n",
       "      <td>Unfurnished</td>\n",
       "      <td>For Rent</td>\n",
       "      <td>2023-01-29</td>\n",
       "      <td>448</td>\n",
       "      <td>Al Khalidiyah</td>\n",
       "      <td>Abu Dhabi</td>\n",
       "      <td>24.469344</td>\n",
       "      <td>54.348806</td>\n",
       "    </tr>\n",
       "    <tr>\n",
       "      <th>21</th>\n",
       "      <td>Bloom Central Residential, Bloom Central, Al T...</td>\n",
       "      <td>140000</td>\n",
       "      <td>3</td>\n",
       "      <td>3</td>\n",
       "      <td>Apartment</td>\n",
       "      <td>2195</td>\n",
       "      <td>63.781321</td>\n",
       "      <td>Medium</td>\n",
       "      <td>Yearly</td>\n",
       "      <td>Unfurnished</td>\n",
       "      <td>For Rent</td>\n",
       "      <td>2024-03-06</td>\n",
       "      <td>46</td>\n",
       "      <td>Al Tibbiya</td>\n",
       "      <td>Abu Dhabi</td>\n",
       "      <td>NaN</td>\n",
       "      <td>NaN</td>\n",
       "    </tr>\n",
       "    <tr>\n",
       "      <th>22</th>\n",
       "      <td>Water's Edge, Yas Island, Abu Dhabi</td>\n",
       "      <td>50000</td>\n",
       "      <td>0</td>\n",
       "      <td>1</td>\n",
       "      <td>Apartment</td>\n",
       "      <td>490</td>\n",
       "      <td>102.040816</td>\n",
       "      <td>Low</td>\n",
       "      <td>Yearly</td>\n",
       "      <td>Unfurnished</td>\n",
       "      <td>For Rent</td>\n",
       "      <td>2024-03-29</td>\n",
       "      <td>23</td>\n",
       "      <td>Yas Island</td>\n",
       "      <td>Abu Dhabi</td>\n",
       "      <td>24.494022</td>\n",
       "      <td>54.607372</td>\n",
       "    </tr>\n",
       "    <tr>\n",
       "      <th>23</th>\n",
       "      <td>Noya, Yas Island, Abu Dhabi</td>\n",
       "      <td>180000</td>\n",
       "      <td>3</td>\n",
       "      <td>4</td>\n",
       "      <td>Townhouse</td>\n",
       "      <td>1816</td>\n",
       "      <td>99.118943</td>\n",
       "      <td>High</td>\n",
       "      <td>Yearly</td>\n",
       "      <td>Unfurnished</td>\n",
       "      <td>For Rent</td>\n",
       "      <td>2024-02-28</td>\n",
       "      <td>53</td>\n",
       "      <td>Yas Island</td>\n",
       "      <td>Abu Dhabi</td>\n",
       "      <td>24.494022</td>\n",
       "      <td>54.607372</td>\n",
       "    </tr>\n",
       "    <tr>\n",
       "      <th>24</th>\n",
       "      <td>Al Maha Tower, Marina Square, Al Reem Island, ...</td>\n",
       "      <td>60000</td>\n",
       "      <td>1</td>\n",
       "      <td>2</td>\n",
       "      <td>Apartment</td>\n",
       "      <td>861</td>\n",
       "      <td>69.686411</td>\n",
       "      <td>Low</td>\n",
       "      <td>Yearly</td>\n",
       "      <td>Unfurnished</td>\n",
       "      <td>For Rent</td>\n",
       "      <td>2024-03-30</td>\n",
       "      <td>22</td>\n",
       "      <td>Al Reem Island</td>\n",
       "      <td>Abu Dhabi</td>\n",
       "      <td>24.493598</td>\n",
       "      <td>54.407841</td>\n",
       "    </tr>\n",
       "    <tr>\n",
       "      <th>25</th>\n",
       "      <td>Al Waha Tower, Al Khalidiyah, Abu Dhabi</td>\n",
       "      <td>85000</td>\n",
       "      <td>3</td>\n",
       "      <td>3</td>\n",
       "      <td>Apartment</td>\n",
       "      <td>1819</td>\n",
       "      <td>46.728972</td>\n",
       "      <td>Medium</td>\n",
       "      <td>Yearly</td>\n",
       "      <td>Unfurnished</td>\n",
       "      <td>For Rent</td>\n",
       "      <td>2023-01-29</td>\n",
       "      <td>448</td>\n",
       "      <td>Al Khalidiyah</td>\n",
       "      <td>Abu Dhabi</td>\n",
       "      <td>24.469344</td>\n",
       "      <td>54.348806</td>\n",
       "    </tr>\n",
       "    <tr>\n",
       "      <th>26</th>\n",
       "      <td>Al Heel Tower, Al Khalidiyah, Abu Dhabi</td>\n",
       "      <td>75000</td>\n",
       "      <td>2</td>\n",
       "      <td>2</td>\n",
       "      <td>Apartment</td>\n",
       "      <td>1228</td>\n",
       "      <td>61.074919</td>\n",
       "      <td>Medium</td>\n",
       "      <td>Yearly</td>\n",
       "      <td>Unfurnished</td>\n",
       "      <td>For Rent</td>\n",
       "      <td>2023-01-29</td>\n",
       "      <td>448</td>\n",
       "      <td>Al Khalidiyah</td>\n",
       "      <td>Abu Dhabi</td>\n",
       "      <td>24.469344</td>\n",
       "      <td>54.348806</td>\n",
       "    </tr>\n",
       "    <tr>\n",
       "      <th>27</th>\n",
       "      <td>Noya, Yas Island, Abu Dhabi</td>\n",
       "      <td>150000</td>\n",
       "      <td>2</td>\n",
       "      <td>4</td>\n",
       "      <td>Townhouse</td>\n",
       "      <td>1335</td>\n",
       "      <td>112.359551</td>\n",
       "      <td>High</td>\n",
       "      <td>Yearly</td>\n",
       "      <td>Unfurnished</td>\n",
       "      <td>For Rent</td>\n",
       "      <td>2024-02-15</td>\n",
       "      <td>66</td>\n",
       "      <td>Yas Island</td>\n",
       "      <td>Abu Dhabi</td>\n",
       "      <td>24.494022</td>\n",
       "      <td>54.607372</td>\n",
       "    </tr>\n",
       "    <tr>\n",
       "      <th>28</th>\n",
       "      <td>Al Reef Downtown, Al Reef, Abu Dhabi</td>\n",
       "      <td>47999</td>\n",
       "      <td>1</td>\n",
       "      <td>2</td>\n",
       "      <td>Apartment</td>\n",
       "      <td>850</td>\n",
       "      <td>56.469412</td>\n",
       "      <td>Low</td>\n",
       "      <td>Yearly</td>\n",
       "      <td>Unfurnished</td>\n",
       "      <td>For Rent</td>\n",
       "      <td>2024-02-13</td>\n",
       "      <td>68</td>\n",
       "      <td>Al Reef</td>\n",
       "      <td>Abu Dhabi</td>\n",
       "      <td>24.466437</td>\n",
       "      <td>54.656891</td>\n",
       "    </tr>\n",
       "    <tr>\n",
       "      <th>29</th>\n",
       "      <td>Noya, Yas Island, Abu Dhabi</td>\n",
       "      <td>170000</td>\n",
       "      <td>3</td>\n",
       "      <td>4</td>\n",
       "      <td>Townhouse</td>\n",
       "      <td>1816</td>\n",
       "      <td>93.612335</td>\n",
       "      <td>High</td>\n",
       "      <td>Yearly</td>\n",
       "      <td>Unfurnished</td>\n",
       "      <td>For Rent</td>\n",
       "      <td>2024-04-06</td>\n",
       "      <td>15</td>\n",
       "      <td>Yas Island</td>\n",
       "      <td>Abu Dhabi</td>\n",
       "      <td>24.494022</td>\n",
       "      <td>54.607372</td>\n",
       "    </tr>\n",
       "    <tr>\n",
       "      <th>30</th>\n",
       "      <td>Sun Tower, Shams Gate District, Shams Abu Dhab...</td>\n",
       "      <td>104999</td>\n",
       "      <td>2</td>\n",
       "      <td>2</td>\n",
       "      <td>Apartment</td>\n",
       "      <td>1240</td>\n",
       "      <td>84.676613</td>\n",
       "      <td>Medium</td>\n",
       "      <td>Yearly</td>\n",
       "      <td>Unfurnished</td>\n",
       "      <td>For Rent</td>\n",
       "      <td>2024-01-15</td>\n",
       "      <td>97</td>\n",
       "      <td>Al Reem Island</td>\n",
       "      <td>Abu Dhabi</td>\n",
       "      <td>24.493598</td>\n",
       "      <td>54.407841</td>\n",
       "    </tr>\n",
       "    <tr>\n",
       "      <th>31</th>\n",
       "      <td>Ocean Terrace Residence, Marina Square, Al Ree...</td>\n",
       "      <td>109900</td>\n",
       "      <td>2</td>\n",
       "      <td>3</td>\n",
       "      <td>Apartment</td>\n",
       "      <td>1507</td>\n",
       "      <td>72.926344</td>\n",
       "      <td>Medium</td>\n",
       "      <td>Yearly</td>\n",
       "      <td>Unfurnished</td>\n",
       "      <td>For Rent</td>\n",
       "      <td>2024-03-21</td>\n",
       "      <td>31</td>\n",
       "      <td>Al Reem Island</td>\n",
       "      <td>Abu Dhabi</td>\n",
       "      <td>24.493598</td>\n",
       "      <td>54.407841</td>\n",
       "    </tr>\n",
       "    <tr>\n",
       "      <th>32</th>\n",
       "      <td>Bloom Marina, Al Bateen, Abu Dhabi</td>\n",
       "      <td>105000</td>\n",
       "      <td>2</td>\n",
       "      <td>3</td>\n",
       "      <td>Apartment</td>\n",
       "      <td>1260</td>\n",
       "      <td>83.333333</td>\n",
       "      <td>Medium</td>\n",
       "      <td>Yearly</td>\n",
       "      <td>Unfurnished</td>\n",
       "      <td>For Rent</td>\n",
       "      <td>2023-01-29</td>\n",
       "      <td>448</td>\n",
       "      <td>Al Bateen</td>\n",
       "      <td>Abu Dhabi</td>\n",
       "      <td>24.204894</td>\n",
       "      <td>55.619661</td>\n",
       "    </tr>\n",
       "    <tr>\n",
       "      <th>33</th>\n",
       "      <td>The Cedars, Yas Acres, Yas Island, Abu Dhabi</td>\n",
       "      <td>260000</td>\n",
       "      <td>3</td>\n",
       "      <td>4</td>\n",
       "      <td>Townhouse</td>\n",
       "      <td>3390</td>\n",
       "      <td>76.696165</td>\n",
       "      <td>High</td>\n",
       "      <td>Yearly</td>\n",
       "      <td>Unfurnished</td>\n",
       "      <td>For Rent</td>\n",
       "      <td>2024-02-06</td>\n",
       "      <td>75</td>\n",
       "      <td>Yas Island</td>\n",
       "      <td>Abu Dhabi</td>\n",
       "      <td>24.494022</td>\n",
       "      <td>54.607372</td>\n",
       "    </tr>\n",
       "    <tr>\n",
       "      <th>34</th>\n",
       "      <td>Building 20, Al Reef Downtown, Al Reef, Abu Dhabi</td>\n",
       "      <td>65999</td>\n",
       "      <td>2</td>\n",
       "      <td>2</td>\n",
       "      <td>Apartment</td>\n",
       "      <td>1237</td>\n",
       "      <td>53.354082</td>\n",
       "      <td>Medium</td>\n",
       "      <td>Yearly</td>\n",
       "      <td>Unfurnished</td>\n",
       "      <td>For Rent</td>\n",
       "      <td>2023-12-18</td>\n",
       "      <td>125</td>\n",
       "      <td>Al Reef</td>\n",
       "      <td>Abu Dhabi</td>\n",
       "      <td>24.466437</td>\n",
       "      <td>54.656891</td>\n",
       "    </tr>\n",
       "    <tr>\n",
       "      <th>35</th>\n",
       "      <td>Noya, Yas Island, Abu Dhabi</td>\n",
       "      <td>175000</td>\n",
       "      <td>3</td>\n",
       "      <td>4</td>\n",
       "      <td>Townhouse</td>\n",
       "      <td>1753</td>\n",
       "      <td>99.828865</td>\n",
       "      <td>High</td>\n",
       "      <td>Yearly</td>\n",
       "      <td>Unfurnished</td>\n",
       "      <td>For Rent</td>\n",
       "      <td>2024-02-04</td>\n",
       "      <td>77</td>\n",
       "      <td>Yas Island</td>\n",
       "      <td>Abu Dhabi</td>\n",
       "      <td>24.494022</td>\n",
       "      <td>54.607372</td>\n",
       "    </tr>\n",
       "    <tr>\n",
       "      <th>36</th>\n",
       "      <td>Al Tharwaniyah Community, Al Raha Gardens, Abu...</td>\n",
       "      <td>235000</td>\n",
       "      <td>5</td>\n",
       "      <td>8</td>\n",
       "      <td>Villa</td>\n",
       "      <td>6217</td>\n",
       "      <td>37.799582</td>\n",
       "      <td>High</td>\n",
       "      <td>Yearly</td>\n",
       "      <td>Unfurnished</td>\n",
       "      <td>For Rent</td>\n",
       "      <td>2023-12-05</td>\n",
       "      <td>138</td>\n",
       "      <td>Al Raha Gardens</td>\n",
       "      <td>Abu Dhabi</td>\n",
       "      <td>24.427721</td>\n",
       "      <td>54.551689</td>\n",
       "    </tr>\n",
       "    <tr>\n",
       "      <th>37</th>\n",
       "      <td>Zone 36, Mohammed Bin Zayed City, Abu Dhabi</td>\n",
       "      <td>43999</td>\n",
       "      <td>1</td>\n",
       "      <td>1</td>\n",
       "      <td>Apartment</td>\n",
       "      <td>1200</td>\n",
       "      <td>36.665833</td>\n",
       "      <td>Low</td>\n",
       "      <td>Yearly</td>\n",
       "      <td>Unfurnished</td>\n",
       "      <td>For Rent</td>\n",
       "      <td>2023-12-01</td>\n",
       "      <td>142</td>\n",
       "      <td>Mohammed Bin Zayed City</td>\n",
       "      <td>Abu Dhabi</td>\n",
       "      <td>24.333959</td>\n",
       "      <td>54.553556</td>\n",
       "    </tr>\n",
       "    <tr>\n",
       "      <th>38</th>\n",
       "      <td>Desert Style, Al Reef Villas, Al Reef, Abu Dhabi</td>\n",
       "      <td>75000</td>\n",
       "      <td>2</td>\n",
       "      <td>3</td>\n",
       "      <td>Villa</td>\n",
       "      <td>1210</td>\n",
       "      <td>61.983471</td>\n",
       "      <td>Medium</td>\n",
       "      <td>Yearly</td>\n",
       "      <td>Unfurnished</td>\n",
       "      <td>For Rent</td>\n",
       "      <td>2023-11-23</td>\n",
       "      <td>150</td>\n",
       "      <td>Al Reef</td>\n",
       "      <td>Abu Dhabi</td>\n",
       "      <td>24.466437</td>\n",
       "      <td>54.656891</td>\n",
       "    </tr>\n",
       "    <tr>\n",
       "      <th>39</th>\n",
       "      <td>Pixel, Makers District, Al Reem Island, Abu Dhabi</td>\n",
       "      <td>180000</td>\n",
       "      <td>3</td>\n",
       "      <td>4</td>\n",
       "      <td>Apartment</td>\n",
       "      <td>1567</td>\n",
       "      <td>114.869177</td>\n",
       "      <td>High</td>\n",
       "      <td>Yearly</td>\n",
       "      <td>Unfurnished</td>\n",
       "      <td>For Rent</td>\n",
       "      <td>2024-01-11</td>\n",
       "      <td>101</td>\n",
       "      <td>Al Reem Island</td>\n",
       "      <td>Abu Dhabi</td>\n",
       "      <td>24.493598</td>\n",
       "      <td>54.407841</td>\n",
       "    </tr>\n",
       "    <tr>\n",
       "      <th>40</th>\n",
       "      <td>Mediterranean Style, Al Reef Villas, Al Reef, ...</td>\n",
       "      <td>78000</td>\n",
       "      <td>2</td>\n",
       "      <td>3</td>\n",
       "      <td>Villa</td>\n",
       "      <td>1832</td>\n",
       "      <td>42.576419</td>\n",
       "      <td>Medium</td>\n",
       "      <td>Yearly</td>\n",
       "      <td>Unfurnished</td>\n",
       "      <td>For Rent</td>\n",
       "      <td>2023-11-21</td>\n",
       "      <td>152</td>\n",
       "      <td>Al Reef</td>\n",
       "      <td>Abu Dhabi</td>\n",
       "      <td>24.466437</td>\n",
       "      <td>54.656891</td>\n",
       "    </tr>\n",
       "    <tr>\n",
       "      <th>41</th>\n",
       "      <td>Zone 12, Mohammed Bin Zayed City, Abu Dhabi</td>\n",
       "      <td>140000</td>\n",
       "      <td>4</td>\n",
       "      <td>4</td>\n",
       "      <td>Villa</td>\n",
       "      <td>3716</td>\n",
       "      <td>37.674919</td>\n",
       "      <td>Medium</td>\n",
       "      <td>Yearly</td>\n",
       "      <td>Unfurnished</td>\n",
       "      <td>For Rent</td>\n",
       "      <td>2023-11-07</td>\n",
       "      <td>166</td>\n",
       "      <td>Mohammed Bin Zayed City</td>\n",
       "      <td>Abu Dhabi</td>\n",
       "      <td>24.333959</td>\n",
       "      <td>54.553556</td>\n",
       "    </tr>\n",
       "    <tr>\n",
       "      <th>42</th>\n",
       "      <td>MSH16, Shakhbout City, Abu Dhabi</td>\n",
       "      <td>135000</td>\n",
       "      <td>5</td>\n",
       "      <td>5</td>\n",
       "      <td>Villa</td>\n",
       "      <td>15480</td>\n",
       "      <td>8.720930</td>\n",
       "      <td>Medium</td>\n",
       "      <td>Yearly</td>\n",
       "      <td>Unfurnished</td>\n",
       "      <td>For Rent</td>\n",
       "      <td>2023-11-07</td>\n",
       "      <td>166</td>\n",
       "      <td>Shakhbout City</td>\n",
       "      <td>Abu Dhabi</td>\n",
       "      <td>24.359500</td>\n",
       "      <td>54.632334</td>\n",
       "    </tr>\n",
       "    <tr>\n",
       "      <th>43</th>\n",
       "      <td>Al Reef Villas, Al Reef, Abu Dhabi</td>\n",
       "      <td>100000</td>\n",
       "      <td>3</td>\n",
       "      <td>4</td>\n",
       "      <td>Villa</td>\n",
       "      <td>2424</td>\n",
       "      <td>41.254125</td>\n",
       "      <td>Medium</td>\n",
       "      <td>Yearly</td>\n",
       "      <td>Unfurnished</td>\n",
       "      <td>For Rent</td>\n",
       "      <td>2023-10-23</td>\n",
       "      <td>181</td>\n",
       "      <td>Al Reef</td>\n",
       "      <td>Abu Dhabi</td>\n",
       "      <td>24.466437</td>\n",
       "      <td>54.656891</td>\n",
       "    </tr>\n",
       "    <tr>\n",
       "      <th>44</th>\n",
       "      <td>Madinat Al Riyadh, Abu Dhabi</td>\n",
       "      <td>17999</td>\n",
       "      <td>0</td>\n",
       "      <td>1</td>\n",
       "      <td>Apartment</td>\n",
       "      <td>650</td>\n",
       "      <td>27.690769</td>\n",
       "      <td>Low</td>\n",
       "      <td>Yearly</td>\n",
       "      <td>Unfurnished</td>\n",
       "      <td>For Rent</td>\n",
       "      <td>2023-10-31</td>\n",
       "      <td>173</td>\n",
       "      <td>Madinat Al Riyadh</td>\n",
       "      <td>Abu Dhabi</td>\n",
       "      <td>24.353232</td>\n",
       "      <td>54.749892</td>\n",
       "    </tr>\n",
       "    <tr>\n",
       "      <th>45</th>\n",
       "      <td>Bloom Central Residential, Bloom Central, Al T...</td>\n",
       "      <td>115000</td>\n",
       "      <td>2</td>\n",
       "      <td>2</td>\n",
       "      <td>Apartment</td>\n",
       "      <td>1646</td>\n",
       "      <td>69.866343</td>\n",
       "      <td>Medium</td>\n",
       "      <td>Yearly</td>\n",
       "      <td>Unfurnished</td>\n",
       "      <td>For Rent</td>\n",
       "      <td>2023-02-13</td>\n",
       "      <td>433</td>\n",
       "      <td>Al Tibbiya</td>\n",
       "      <td>Abu Dhabi</td>\n",
       "      <td>NaN</td>\n",
       "      <td>NaN</td>\n",
       "    </tr>\n",
       "    <tr>\n",
       "      <th>46</th>\n",
       "      <td>Fairmont Marina Residences, The Marina, Abu Dhabi</td>\n",
       "      <td>250000</td>\n",
       "      <td>2</td>\n",
       "      <td>2</td>\n",
       "      <td>Apartment</td>\n",
       "      <td>1783</td>\n",
       "      <td>140.213124</td>\n",
       "      <td>High</td>\n",
       "      <td>Yearly</td>\n",
       "      <td>Furnished</td>\n",
       "      <td>For Rent</td>\n",
       "      <td>2023-12-07</td>\n",
       "      <td>136</td>\n",
       "      <td>The Marina</td>\n",
       "      <td>Abu Dhabi</td>\n",
       "      <td>24.479853</td>\n",
       "      <td>54.319951</td>\n",
       "    </tr>\n",
       "    <tr>\n",
       "      <th>47</th>\n",
       "      <td>Noya, Yas Island, Abu Dhabi</td>\n",
       "      <td>175000</td>\n",
       "      <td>3</td>\n",
       "      <td>4</td>\n",
       "      <td>Townhouse</td>\n",
       "      <td>1851</td>\n",
       "      <td>94.543490</td>\n",
       "      <td>High</td>\n",
       "      <td>Yearly</td>\n",
       "      <td>Unfurnished</td>\n",
       "      <td>For Rent</td>\n",
       "      <td>2024-03-17</td>\n",
       "      <td>35</td>\n",
       "      <td>Yas Island</td>\n",
       "      <td>Abu Dhabi</td>\n",
       "      <td>24.494022</td>\n",
       "      <td>54.607372</td>\n",
       "    </tr>\n",
       "    <tr>\n",
       "      <th>48</th>\n",
       "      <td>Arabian Style, Al Reef Villas, Al Reef, Abu Dhabi</td>\n",
       "      <td>109998</td>\n",
       "      <td>3</td>\n",
       "      <td>4</td>\n",
       "      <td>Villa</td>\n",
       "      <td>2424</td>\n",
       "      <td>45.378713</td>\n",
       "      <td>Medium</td>\n",
       "      <td>Yearly</td>\n",
       "      <td>Unfurnished</td>\n",
       "      <td>For Rent</td>\n",
       "      <td>2024-01-29</td>\n",
       "      <td>83</td>\n",
       "      <td>Al Reef</td>\n",
       "      <td>Abu Dhabi</td>\n",
       "      <td>24.466437</td>\n",
       "      <td>54.656891</td>\n",
       "    </tr>\n",
       "    <tr>\n",
       "      <th>49</th>\n",
       "      <td>Desert Style, Al Reef Villas, Al Reef, Abu Dhabi</td>\n",
       "      <td>130000</td>\n",
       "      <td>3</td>\n",
       "      <td>4</td>\n",
       "      <td>Villa</td>\n",
       "      <td>1874</td>\n",
       "      <td>69.370331</td>\n",
       "      <td>Medium</td>\n",
       "      <td>Yearly</td>\n",
       "      <td>Unfurnished</td>\n",
       "      <td>For Rent</td>\n",
       "      <td>2024-03-04</td>\n",
       "      <td>48</td>\n",
       "      <td>Al Reef</td>\n",
       "      <td>Abu Dhabi</td>\n",
       "      <td>24.466437</td>\n",
       "      <td>54.656891</td>\n",
       "    </tr>\n",
       "  </tbody>\n",
       "</table>\n",
       "</div>"
      ],
      "text/plain": [
       "                                              Address    Rent  Beds  Baths  \\\n",
       "0   The Gate Tower 2, The Gate Tower, Shams Gate D...  124000     3      4   \n",
       "1                 Water's Edge, Yas Island, Abu Dhabi  140000     3      4   \n",
       "2             Al Raha Lofts, Al Raha Beach, Abu Dhabi   99000     2      3   \n",
       "3   Marina Heights, Marina Square, Al Reem Island,...  220000     3      4   \n",
       "4                     West Yas, Yas Island, Abu Dhabi  350000     5      7   \n",
       "5   Reflection, Shams Abu Dhabi, Al Reem Island, A...   75000     1      1   \n",
       "6                 Water's Edge, Yas Island, Abu Dhabi   65000     1      1   \n",
       "7                         Noya, Yas Island, Abu Dhabi  170000     3      4   \n",
       "8               Ansam 3, Ansam, Yas Island, Abu Dhabi   75000     1      2   \n",
       "9   Marina Heights I, Marina Heights, Marina Squar...  160000     2      3   \n",
       "10                 Bloom Marina, Al Bateen, Abu Dhabi  110000     2      2   \n",
       "11                        Noya, Yas Island, Abu Dhabi  174000     3      4   \n",
       "12                    West Yas, Yas Island, Abu Dhabi  330000     5      7   \n",
       "13  Contemporary Style, Al Reef Villas, Al Reef, A...  149000     5      6   \n",
       "14  Fairmont Marina Residences, The Marina, Abu Dhabi  150000     1      2   \n",
       "15  Building 45, Al Reef Downtown, Al Reef, Abu Dhabi   80000     2      2   \n",
       "16  Marina Heights I, Marina Heights, Marina Squar...  125000     3      4   \n",
       "17  Contemporary Style, Al Reef Villas, Al Reef, A...  129995     4      5   \n",
       "18  Building 26, Al Reef Downtown, Al Reef, Abu Dhabi   62900     2      2   \n",
       "19                        Noya, Yas Island, Abu Dhabi  145000     2      4   \n",
       "20            Al Heel Tower, Al Khalidiyah, Abu Dhabi   95000     3      3   \n",
       "21  Bloom Central Residential, Bloom Central, Al T...  140000     3      3   \n",
       "22                Water's Edge, Yas Island, Abu Dhabi   50000     0      1   \n",
       "23                        Noya, Yas Island, Abu Dhabi  180000     3      4   \n",
       "24  Al Maha Tower, Marina Square, Al Reem Island, ...   60000     1      2   \n",
       "25            Al Waha Tower, Al Khalidiyah, Abu Dhabi   85000     3      3   \n",
       "26            Al Heel Tower, Al Khalidiyah, Abu Dhabi   75000     2      2   \n",
       "27                        Noya, Yas Island, Abu Dhabi  150000     2      4   \n",
       "28               Al Reef Downtown, Al Reef, Abu Dhabi   47999     1      2   \n",
       "29                        Noya, Yas Island, Abu Dhabi  170000     3      4   \n",
       "30  Sun Tower, Shams Gate District, Shams Abu Dhab...  104999     2      2   \n",
       "31  Ocean Terrace Residence, Marina Square, Al Ree...  109900     2      3   \n",
       "32                 Bloom Marina, Al Bateen, Abu Dhabi  105000     2      3   \n",
       "33       The Cedars, Yas Acres, Yas Island, Abu Dhabi  260000     3      4   \n",
       "34  Building 20, Al Reef Downtown, Al Reef, Abu Dhabi   65999     2      2   \n",
       "35                        Noya, Yas Island, Abu Dhabi  175000     3      4   \n",
       "36  Al Tharwaniyah Community, Al Raha Gardens, Abu...  235000     5      8   \n",
       "37        Zone 36, Mohammed Bin Zayed City, Abu Dhabi   43999     1      1   \n",
       "38   Desert Style, Al Reef Villas, Al Reef, Abu Dhabi   75000     2      3   \n",
       "39  Pixel, Makers District, Al Reem Island, Abu Dhabi  180000     3      4   \n",
       "40  Mediterranean Style, Al Reef Villas, Al Reef, ...   78000     2      3   \n",
       "41        Zone 12, Mohammed Bin Zayed City, Abu Dhabi  140000     4      4   \n",
       "42                   MSH16, Shakhbout City, Abu Dhabi  135000     5      5   \n",
       "43                 Al Reef Villas, Al Reef, Abu Dhabi  100000     3      4   \n",
       "44                       Madinat Al Riyadh, Abu Dhabi   17999     0      1   \n",
       "45  Bloom Central Residential, Bloom Central, Al T...  115000     2      2   \n",
       "46  Fairmont Marina Residences, The Marina, Abu Dhabi  250000     2      2   \n",
       "47                        Noya, Yas Island, Abu Dhabi  175000     3      4   \n",
       "48  Arabian Style, Al Reef Villas, Al Reef, Abu Dhabi  109998     3      4   \n",
       "49   Desert Style, Al Reef Villas, Al Reef, Abu Dhabi  130000     3      4   \n",
       "\n",
       "         Type  Area_in_sqft  Rent_per_sqft Rent_category Frequency  \\\n",
       "0   Apartment          1785      69.467787        Medium    Yearly   \n",
       "1   Apartment          1422      98.452883        Medium    Yearly   \n",
       "2   Apartment          1314      75.342466        Medium    Yearly   \n",
       "3   Penthouse          3843      57.246942          High    Yearly   \n",
       "4       Villa          6860      51.020408          High    Yearly   \n",
       "5   Apartment           706     106.232295        Medium    Yearly   \n",
       "6   Apartment           698      93.123209           Low    Yearly   \n",
       "7   Townhouse          1989      85.470085          High    Yearly   \n",
       "8   Apartment           886      84.650113        Medium    Yearly   \n",
       "9   Apartment          1430     111.888112          High    Yearly   \n",
       "10  Apartment          1356      81.120944        Medium    Yearly   \n",
       "11  Townhouse          1816      95.814978          High    Yearly   \n",
       "12      Villa          5907      55.865922          High    Yearly   \n",
       "13      Villa          3750      39.733333          High    Yearly   \n",
       "14  Apartment          1022     146.771037          High    Yearly   \n",
       "15  Apartment          1477      54.163846        Medium    Yearly   \n",
       "16  Apartment          1744      71.674312        Medium    Yearly   \n",
       "17      Villa          2828      45.967115        Medium    Yearly   \n",
       "18  Apartment          1237      50.848828           Low    Yearly   \n",
       "19  Townhouse          1821      79.626579          High    Yearly   \n",
       "20  Apartment          1689      56.246300        Medium    Yearly   \n",
       "21  Apartment          2195      63.781321        Medium    Yearly   \n",
       "22  Apartment           490     102.040816           Low    Yearly   \n",
       "23  Townhouse          1816      99.118943          High    Yearly   \n",
       "24  Apartment           861      69.686411           Low    Yearly   \n",
       "25  Apartment          1819      46.728972        Medium    Yearly   \n",
       "26  Apartment          1228      61.074919        Medium    Yearly   \n",
       "27  Townhouse          1335     112.359551          High    Yearly   \n",
       "28  Apartment           850      56.469412           Low    Yearly   \n",
       "29  Townhouse          1816      93.612335          High    Yearly   \n",
       "30  Apartment          1240      84.676613        Medium    Yearly   \n",
       "31  Apartment          1507      72.926344        Medium    Yearly   \n",
       "32  Apartment          1260      83.333333        Medium    Yearly   \n",
       "33  Townhouse          3390      76.696165          High    Yearly   \n",
       "34  Apartment          1237      53.354082        Medium    Yearly   \n",
       "35  Townhouse          1753      99.828865          High    Yearly   \n",
       "36      Villa          6217      37.799582          High    Yearly   \n",
       "37  Apartment          1200      36.665833           Low    Yearly   \n",
       "38      Villa          1210      61.983471        Medium    Yearly   \n",
       "39  Apartment          1567     114.869177          High    Yearly   \n",
       "40      Villa          1832      42.576419        Medium    Yearly   \n",
       "41      Villa          3716      37.674919        Medium    Yearly   \n",
       "42      Villa         15480       8.720930        Medium    Yearly   \n",
       "43      Villa          2424      41.254125        Medium    Yearly   \n",
       "44  Apartment           650      27.690769           Low    Yearly   \n",
       "45  Apartment          1646      69.866343        Medium    Yearly   \n",
       "46  Apartment          1783     140.213124          High    Yearly   \n",
       "47  Townhouse          1851      94.543490          High    Yearly   \n",
       "48      Villa          2424      45.378713        Medium    Yearly   \n",
       "49      Villa          1874      69.370331        Medium    Yearly   \n",
       "\n",
       "     Furnishing   Purpose Posted_date  Age_of_listing_in_days  \\\n",
       "0   Unfurnished  For Rent  2024-03-07                      45   \n",
       "1   Unfurnished  For Rent  2024-03-08                      44   \n",
       "2     Furnished  For Rent  2024-03-21                      31   \n",
       "3   Unfurnished  For Rent  2024-02-24                      57   \n",
       "4   Unfurnished  For Rent  2024-02-16                      65   \n",
       "5     Furnished  For Rent  2023-12-12                     131   \n",
       "6   Unfurnished  For Rent  2024-03-11                      41   \n",
       "7   Unfurnished  For Rent  2024-02-22                      59   \n",
       "8   Unfurnished  For Rent  2024-04-05                      16   \n",
       "9   Unfurnished  For Rent  2024-04-05                      16   \n",
       "10  Unfurnished  For Rent  2023-01-29                     448   \n",
       "11  Unfurnished  For Rent  2024-03-25                      27   \n",
       "12  Unfurnished  For Rent  2024-03-22                      30   \n",
       "13  Unfurnished  For Rent  2024-04-02                      19   \n",
       "14    Furnished  For Rent  2024-03-18                      34   \n",
       "15  Unfurnished  For Rent  2024-03-14                      38   \n",
       "16  Unfurnished  For Rent  2023-12-01                     142   \n",
       "17  Unfurnished  For Rent  2024-03-11                      41   \n",
       "18  Unfurnished  For Rent  2024-04-02                      19   \n",
       "19  Unfurnished  For Rent  2024-02-27                      54   \n",
       "20  Unfurnished  For Rent  2023-01-29                     448   \n",
       "21  Unfurnished  For Rent  2024-03-06                      46   \n",
       "22  Unfurnished  For Rent  2024-03-29                      23   \n",
       "23  Unfurnished  For Rent  2024-02-28                      53   \n",
       "24  Unfurnished  For Rent  2024-03-30                      22   \n",
       "25  Unfurnished  For Rent  2023-01-29                     448   \n",
       "26  Unfurnished  For Rent  2023-01-29                     448   \n",
       "27  Unfurnished  For Rent  2024-02-15                      66   \n",
       "28  Unfurnished  For Rent  2024-02-13                      68   \n",
       "29  Unfurnished  For Rent  2024-04-06                      15   \n",
       "30  Unfurnished  For Rent  2024-01-15                      97   \n",
       "31  Unfurnished  For Rent  2024-03-21                      31   \n",
       "32  Unfurnished  For Rent  2023-01-29                     448   \n",
       "33  Unfurnished  For Rent  2024-02-06                      75   \n",
       "34  Unfurnished  For Rent  2023-12-18                     125   \n",
       "35  Unfurnished  For Rent  2024-02-04                      77   \n",
       "36  Unfurnished  For Rent  2023-12-05                     138   \n",
       "37  Unfurnished  For Rent  2023-12-01                     142   \n",
       "38  Unfurnished  For Rent  2023-11-23                     150   \n",
       "39  Unfurnished  For Rent  2024-01-11                     101   \n",
       "40  Unfurnished  For Rent  2023-11-21                     152   \n",
       "41  Unfurnished  For Rent  2023-11-07                     166   \n",
       "42  Unfurnished  For Rent  2023-11-07                     166   \n",
       "43  Unfurnished  For Rent  2023-10-23                     181   \n",
       "44  Unfurnished  For Rent  2023-10-31                     173   \n",
       "45  Unfurnished  For Rent  2023-02-13                     433   \n",
       "46    Furnished  For Rent  2023-12-07                     136   \n",
       "47  Unfurnished  For Rent  2024-03-17                      35   \n",
       "48  Unfurnished  For Rent  2024-01-29                      83   \n",
       "49  Unfurnished  For Rent  2024-03-04                      48   \n",
       "\n",
       "                   Location       City   Latitude  Longitude  \n",
       "0            Al Reem Island  Abu Dhabi  24.493598  54.407841  \n",
       "1                Yas Island  Abu Dhabi  24.494022  54.607372  \n",
       "2             Al Raha Beach  Abu Dhabi  24.485931  54.600939  \n",
       "3            Al Reem Island  Abu Dhabi  24.493598  54.407841  \n",
       "4                Yas Island  Abu Dhabi  24.494022  54.607372  \n",
       "5            Al Reem Island  Abu Dhabi  24.493598  54.407841  \n",
       "6                Yas Island  Abu Dhabi  24.494022  54.607372  \n",
       "7                Yas Island  Abu Dhabi  24.494022  54.607372  \n",
       "8                Yas Island  Abu Dhabi  24.494022  54.607372  \n",
       "9            Al Reem Island  Abu Dhabi  24.493598  54.407841  \n",
       "10                Al Bateen  Abu Dhabi  24.204894  55.619661  \n",
       "11               Yas Island  Abu Dhabi  24.494022  54.607372  \n",
       "12               Yas Island  Abu Dhabi  24.494022  54.607372  \n",
       "13                  Al Reef  Abu Dhabi  24.466437  54.656891  \n",
       "14               The Marina  Abu Dhabi  24.479853  54.319951  \n",
       "15                  Al Reef  Abu Dhabi  24.466437  54.656891  \n",
       "16           Al Reem Island  Abu Dhabi  24.493598  54.407841  \n",
       "17                  Al Reef  Abu Dhabi  24.466437  54.656891  \n",
       "18                  Al Reef  Abu Dhabi  24.466437  54.656891  \n",
       "19               Yas Island  Abu Dhabi  24.494022  54.607372  \n",
       "20            Al Khalidiyah  Abu Dhabi  24.469344  54.348806  \n",
       "21               Al Tibbiya  Abu Dhabi        NaN        NaN  \n",
       "22               Yas Island  Abu Dhabi  24.494022  54.607372  \n",
       "23               Yas Island  Abu Dhabi  24.494022  54.607372  \n",
       "24           Al Reem Island  Abu Dhabi  24.493598  54.407841  \n",
       "25            Al Khalidiyah  Abu Dhabi  24.469344  54.348806  \n",
       "26            Al Khalidiyah  Abu Dhabi  24.469344  54.348806  \n",
       "27               Yas Island  Abu Dhabi  24.494022  54.607372  \n",
       "28                  Al Reef  Abu Dhabi  24.466437  54.656891  \n",
       "29               Yas Island  Abu Dhabi  24.494022  54.607372  \n",
       "30           Al Reem Island  Abu Dhabi  24.493598  54.407841  \n",
       "31           Al Reem Island  Abu Dhabi  24.493598  54.407841  \n",
       "32                Al Bateen  Abu Dhabi  24.204894  55.619661  \n",
       "33               Yas Island  Abu Dhabi  24.494022  54.607372  \n",
       "34                  Al Reef  Abu Dhabi  24.466437  54.656891  \n",
       "35               Yas Island  Abu Dhabi  24.494022  54.607372  \n",
       "36          Al Raha Gardens  Abu Dhabi  24.427721  54.551689  \n",
       "37  Mohammed Bin Zayed City  Abu Dhabi  24.333959  54.553556  \n",
       "38                  Al Reef  Abu Dhabi  24.466437  54.656891  \n",
       "39           Al Reem Island  Abu Dhabi  24.493598  54.407841  \n",
       "40                  Al Reef  Abu Dhabi  24.466437  54.656891  \n",
       "41  Mohammed Bin Zayed City  Abu Dhabi  24.333959  54.553556  \n",
       "42           Shakhbout City  Abu Dhabi  24.359500  54.632334  \n",
       "43                  Al Reef  Abu Dhabi  24.466437  54.656891  \n",
       "44        Madinat Al Riyadh  Abu Dhabi  24.353232  54.749892  \n",
       "45               Al Tibbiya  Abu Dhabi        NaN        NaN  \n",
       "46               The Marina  Abu Dhabi  24.479853  54.319951  \n",
       "47               Yas Island  Abu Dhabi  24.494022  54.607372  \n",
       "48                  Al Reef  Abu Dhabi  24.466437  54.656891  \n",
       "49                  Al Reef  Abu Dhabi  24.466437  54.656891  "
      ]
     },
     "execution_count": 81,
     "metadata": {},
     "output_type": "execute_result"
    }
   ],
   "source": [
    "train_data.head(50)"
   ]
  },
  {
   "cell_type": "code",
   "execution_count": 82,
   "id": "5e1418be-7d0a-41e3-9a71-87517296c2e7",
   "metadata": {},
   "outputs": [
    {
     "data": {
      "text/plain": [
       "City\n",
       "Dubai             34250\n",
       "Abu Dhabi         23324\n",
       "Sharjah            9516\n",
       "Ajman              4704\n",
       "Al Ain             1040\n",
       "Ras Al Khaimah      816\n",
       "Umm Al Quwain        65\n",
       "Fujairah             27\n",
       "Name: count, dtype: int64"
      ]
     },
     "execution_count": 82,
     "metadata": {},
     "output_type": "execute_result"
    }
   ],
   "source": [
    "train_data[\"City\"].value_counts()\n"
   ]
  },
  {
   "cell_type": "code",
   "execution_count": 83,
   "id": "2a1ce589-6431-43c9-920e-e8aa83136af1",
   "metadata": {},
   "outputs": [
    {
     "name": "stdout",
     "output_type": "stream",
     "text": [
      "<class 'pandas.core.frame.DataFrame'>\n",
      "RangeIndex: 73742 entries, 0 to 73741\n",
      "Data columns (total 17 columns):\n",
      " #   Column                  Non-Null Count  Dtype  \n",
      "---  ------                  --------------  -----  \n",
      " 0   Address                 73742 non-null  object \n",
      " 1   Rent                    73742 non-null  int64  \n",
      " 2   Beds                    73742 non-null  int64  \n",
      " 3   Baths                   73742 non-null  int64  \n",
      " 4   Type                    73742 non-null  object \n",
      " 5   Area_in_sqft            73742 non-null  int64  \n",
      " 6   Rent_per_sqft           73742 non-null  float64\n",
      " 7   Rent_category           73742 non-null  object \n",
      " 8   Frequency               73742 non-null  object \n",
      " 9   Furnishing              73742 non-null  object \n",
      " 10  Purpose                 73742 non-null  object \n",
      " 11  Posted_date             73742 non-null  object \n",
      " 12  Age_of_listing_in_days  73742 non-null  int64  \n",
      " 13  Location                73742 non-null  object \n",
      " 14  City                    73742 non-null  object \n",
      " 15  Latitude                73023 non-null  float64\n",
      " 16  Longitude               73023 non-null  float64\n",
      "dtypes: float64(3), int64(5), object(9)\n",
      "memory usage: 9.6+ MB\n"
     ]
    }
   ],
   "source": [
    "train_data.info()\n"
   ]
  },
  {
   "cell_type": "code",
   "execution_count": 84,
   "id": "8faaaa2e-6205-4644-9949-7bbff1338a63",
   "metadata": {},
   "outputs": [
    {
     "data": {
      "text/plain": [
       "Address                     0\n",
       "Rent                        0\n",
       "Beds                        0\n",
       "Baths                       0\n",
       "Type                        0\n",
       "Area_in_sqft                0\n",
       "Rent_per_sqft               0\n",
       "Rent_category               0\n",
       "Frequency                   0\n",
       "Furnishing                  0\n",
       "Purpose                     0\n",
       "Posted_date                 0\n",
       "Age_of_listing_in_days      0\n",
       "Location                    0\n",
       "City                        0\n",
       "Latitude                  719\n",
       "Longitude                 719\n",
       "dtype: int64"
      ]
     },
     "execution_count": 84,
     "metadata": {},
     "output_type": "execute_result"
    }
   ],
   "source": [
    "train_data.isnull().sum()"
   ]
  },
  {
   "cell_type": "code",
   "execution_count": 85,
   "id": "064d2339-15c8-4eb2-9692-3e113cfedd14",
   "metadata": {},
   "outputs": [
    {
     "data": {
      "application/vnd.plotly.v1+json": {
       "config": {
        "plotlyServerURL": "https://plot.ly"
       },
       "data": [
        {
         "alignmentgroup": "True",
         "hovertemplate": "City=%{x}<br>Number of Properties=%{y}<extra></extra>",
         "legendgroup": "",
         "marker": {
          "color": "#636efa",
          "pattern": {
           "shape": ""
          }
         },
         "name": "",
         "offsetgroup": "",
         "orientation": "v",
         "showlegend": false,
         "textposition": "auto",
         "type": "bar",
         "x": [
          "Dubai",
          "Abu Dhabi",
          "Sharjah",
          "Ajman",
          "Al Ain",
          "Ras Al Khaimah",
          "Umm Al Quwain",
          "Fujairah"
         ],
         "xaxis": "x",
         "y": [
          34250,
          23324,
          9516,
          4704,
          1040,
          816,
          65,
          27
         ],
         "yaxis": "y"
        }
       ],
       "layout": {
        "autosize": true,
        "barmode": "relative",
        "legend": {
         "tracegroupgap": 0
        },
        "template": {
         "data": {
          "bar": [
           {
            "error_x": {
             "color": "#2a3f5f"
            },
            "error_y": {
             "color": "#2a3f5f"
            },
            "marker": {
             "line": {
              "color": "#E5ECF6",
              "width": 0.5
             },
             "pattern": {
              "fillmode": "overlay",
              "size": 10,
              "solidity": 0.2
             }
            },
            "type": "bar"
           }
          ],
          "barpolar": [
           {
            "marker": {
             "line": {
              "color": "#E5ECF6",
              "width": 0.5
             },
             "pattern": {
              "fillmode": "overlay",
              "size": 10,
              "solidity": 0.2
             }
            },
            "type": "barpolar"
           }
          ],
          "carpet": [
           {
            "aaxis": {
             "endlinecolor": "#2a3f5f",
             "gridcolor": "white",
             "linecolor": "white",
             "minorgridcolor": "white",
             "startlinecolor": "#2a3f5f"
            },
            "baxis": {
             "endlinecolor": "#2a3f5f",
             "gridcolor": "white",
             "linecolor": "white",
             "minorgridcolor": "white",
             "startlinecolor": "#2a3f5f"
            },
            "type": "carpet"
           }
          ],
          "choropleth": [
           {
            "colorbar": {
             "outlinewidth": 0,
             "ticks": ""
            },
            "type": "choropleth"
           }
          ],
          "contour": [
           {
            "colorbar": {
             "outlinewidth": 0,
             "ticks": ""
            },
            "colorscale": [
             [
              0,
              "#0d0887"
             ],
             [
              0.1111111111111111,
              "#46039f"
             ],
             [
              0.2222222222222222,
              "#7201a8"
             ],
             [
              0.3333333333333333,
              "#9c179e"
             ],
             [
              0.4444444444444444,
              "#bd3786"
             ],
             [
              0.5555555555555556,
              "#d8576b"
             ],
             [
              0.6666666666666666,
              "#ed7953"
             ],
             [
              0.7777777777777778,
              "#fb9f3a"
             ],
             [
              0.8888888888888888,
              "#fdca26"
             ],
             [
              1,
              "#f0f921"
             ]
            ],
            "type": "contour"
           }
          ],
          "contourcarpet": [
           {
            "colorbar": {
             "outlinewidth": 0,
             "ticks": ""
            },
            "type": "contourcarpet"
           }
          ],
          "heatmap": [
           {
            "colorbar": {
             "outlinewidth": 0,
             "ticks": ""
            },
            "colorscale": [
             [
              0,
              "#0d0887"
             ],
             [
              0.1111111111111111,
              "#46039f"
             ],
             [
              0.2222222222222222,
              "#7201a8"
             ],
             [
              0.3333333333333333,
              "#9c179e"
             ],
             [
              0.4444444444444444,
              "#bd3786"
             ],
             [
              0.5555555555555556,
              "#d8576b"
             ],
             [
              0.6666666666666666,
              "#ed7953"
             ],
             [
              0.7777777777777778,
              "#fb9f3a"
             ],
             [
              0.8888888888888888,
              "#fdca26"
             ],
             [
              1,
              "#f0f921"
             ]
            ],
            "type": "heatmap"
           }
          ],
          "heatmapgl": [
           {
            "colorbar": {
             "outlinewidth": 0,
             "ticks": ""
            },
            "colorscale": [
             [
              0,
              "#0d0887"
             ],
             [
              0.1111111111111111,
              "#46039f"
             ],
             [
              0.2222222222222222,
              "#7201a8"
             ],
             [
              0.3333333333333333,
              "#9c179e"
             ],
             [
              0.4444444444444444,
              "#bd3786"
             ],
             [
              0.5555555555555556,
              "#d8576b"
             ],
             [
              0.6666666666666666,
              "#ed7953"
             ],
             [
              0.7777777777777778,
              "#fb9f3a"
             ],
             [
              0.8888888888888888,
              "#fdca26"
             ],
             [
              1,
              "#f0f921"
             ]
            ],
            "type": "heatmapgl"
           }
          ],
          "histogram": [
           {
            "marker": {
             "pattern": {
              "fillmode": "overlay",
              "size": 10,
              "solidity": 0.2
             }
            },
            "type": "histogram"
           }
          ],
          "histogram2d": [
           {
            "colorbar": {
             "outlinewidth": 0,
             "ticks": ""
            },
            "colorscale": [
             [
              0,
              "#0d0887"
             ],
             [
              0.1111111111111111,
              "#46039f"
             ],
             [
              0.2222222222222222,
              "#7201a8"
             ],
             [
              0.3333333333333333,
              "#9c179e"
             ],
             [
              0.4444444444444444,
              "#bd3786"
             ],
             [
              0.5555555555555556,
              "#d8576b"
             ],
             [
              0.6666666666666666,
              "#ed7953"
             ],
             [
              0.7777777777777778,
              "#fb9f3a"
             ],
             [
              0.8888888888888888,
              "#fdca26"
             ],
             [
              1,
              "#f0f921"
             ]
            ],
            "type": "histogram2d"
           }
          ],
          "histogram2dcontour": [
           {
            "colorbar": {
             "outlinewidth": 0,
             "ticks": ""
            },
            "colorscale": [
             [
              0,
              "#0d0887"
             ],
             [
              0.1111111111111111,
              "#46039f"
             ],
             [
              0.2222222222222222,
              "#7201a8"
             ],
             [
              0.3333333333333333,
              "#9c179e"
             ],
             [
              0.4444444444444444,
              "#bd3786"
             ],
             [
              0.5555555555555556,
              "#d8576b"
             ],
             [
              0.6666666666666666,
              "#ed7953"
             ],
             [
              0.7777777777777778,
              "#fb9f3a"
             ],
             [
              0.8888888888888888,
              "#fdca26"
             ],
             [
              1,
              "#f0f921"
             ]
            ],
            "type": "histogram2dcontour"
           }
          ],
          "mesh3d": [
           {
            "colorbar": {
             "outlinewidth": 0,
             "ticks": ""
            },
            "type": "mesh3d"
           }
          ],
          "parcoords": [
           {
            "line": {
             "colorbar": {
              "outlinewidth": 0,
              "ticks": ""
             }
            },
            "type": "parcoords"
           }
          ],
          "pie": [
           {
            "automargin": true,
            "type": "pie"
           }
          ],
          "scatter": [
           {
            "fillpattern": {
             "fillmode": "overlay",
             "size": 10,
             "solidity": 0.2
            },
            "type": "scatter"
           }
          ],
          "scatter3d": [
           {
            "line": {
             "colorbar": {
              "outlinewidth": 0,
              "ticks": ""
             }
            },
            "marker": {
             "colorbar": {
              "outlinewidth": 0,
              "ticks": ""
             }
            },
            "type": "scatter3d"
           }
          ],
          "scattercarpet": [
           {
            "marker": {
             "colorbar": {
              "outlinewidth": 0,
              "ticks": ""
             }
            },
            "type": "scattercarpet"
           }
          ],
          "scattergeo": [
           {
            "marker": {
             "colorbar": {
              "outlinewidth": 0,
              "ticks": ""
             }
            },
            "type": "scattergeo"
           }
          ],
          "scattergl": [
           {
            "marker": {
             "colorbar": {
              "outlinewidth": 0,
              "ticks": ""
             }
            },
            "type": "scattergl"
           }
          ],
          "scattermapbox": [
           {
            "marker": {
             "colorbar": {
              "outlinewidth": 0,
              "ticks": ""
             }
            },
            "type": "scattermapbox"
           }
          ],
          "scatterpolar": [
           {
            "marker": {
             "colorbar": {
              "outlinewidth": 0,
              "ticks": ""
             }
            },
            "type": "scatterpolar"
           }
          ],
          "scatterpolargl": [
           {
            "marker": {
             "colorbar": {
              "outlinewidth": 0,
              "ticks": ""
             }
            },
            "type": "scatterpolargl"
           }
          ],
          "scatterternary": [
           {
            "marker": {
             "colorbar": {
              "outlinewidth": 0,
              "ticks": ""
             }
            },
            "type": "scatterternary"
           }
          ],
          "surface": [
           {
            "colorbar": {
             "outlinewidth": 0,
             "ticks": ""
            },
            "colorscale": [
             [
              0,
              "#0d0887"
             ],
             [
              0.1111111111111111,
              "#46039f"
             ],
             [
              0.2222222222222222,
              "#7201a8"
             ],
             [
              0.3333333333333333,
              "#9c179e"
             ],
             [
              0.4444444444444444,
              "#bd3786"
             ],
             [
              0.5555555555555556,
              "#d8576b"
             ],
             [
              0.6666666666666666,
              "#ed7953"
             ],
             [
              0.7777777777777778,
              "#fb9f3a"
             ],
             [
              0.8888888888888888,
              "#fdca26"
             ],
             [
              1,
              "#f0f921"
             ]
            ],
            "type": "surface"
           }
          ],
          "table": [
           {
            "cells": {
             "fill": {
              "color": "#EBF0F8"
             },
             "line": {
              "color": "white"
             }
            },
            "header": {
             "fill": {
              "color": "#C8D4E3"
             },
             "line": {
              "color": "white"
             }
            },
            "type": "table"
           }
          ]
         },
         "layout": {
          "annotationdefaults": {
           "arrowcolor": "#2a3f5f",
           "arrowhead": 0,
           "arrowwidth": 1
          },
          "autotypenumbers": "strict",
          "coloraxis": {
           "colorbar": {
            "outlinewidth": 0,
            "ticks": ""
           }
          },
          "colorscale": {
           "diverging": [
            [
             0,
             "#8e0152"
            ],
            [
             0.1,
             "#c51b7d"
            ],
            [
             0.2,
             "#de77ae"
            ],
            [
             0.3,
             "#f1b6da"
            ],
            [
             0.4,
             "#fde0ef"
            ],
            [
             0.5,
             "#f7f7f7"
            ],
            [
             0.6,
             "#e6f5d0"
            ],
            [
             0.7,
             "#b8e186"
            ],
            [
             0.8,
             "#7fbc41"
            ],
            [
             0.9,
             "#4d9221"
            ],
            [
             1,
             "#276419"
            ]
           ],
           "sequential": [
            [
             0,
             "#0d0887"
            ],
            [
             0.1111111111111111,
             "#46039f"
            ],
            [
             0.2222222222222222,
             "#7201a8"
            ],
            [
             0.3333333333333333,
             "#9c179e"
            ],
            [
             0.4444444444444444,
             "#bd3786"
            ],
            [
             0.5555555555555556,
             "#d8576b"
            ],
            [
             0.6666666666666666,
             "#ed7953"
            ],
            [
             0.7777777777777778,
             "#fb9f3a"
            ],
            [
             0.8888888888888888,
             "#fdca26"
            ],
            [
             1,
             "#f0f921"
            ]
           ],
           "sequentialminus": [
            [
             0,
             "#0d0887"
            ],
            [
             0.1111111111111111,
             "#46039f"
            ],
            [
             0.2222222222222222,
             "#7201a8"
            ],
            [
             0.3333333333333333,
             "#9c179e"
            ],
            [
             0.4444444444444444,
             "#bd3786"
            ],
            [
             0.5555555555555556,
             "#d8576b"
            ],
            [
             0.6666666666666666,
             "#ed7953"
            ],
            [
             0.7777777777777778,
             "#fb9f3a"
            ],
            [
             0.8888888888888888,
             "#fdca26"
            ],
            [
             1,
             "#f0f921"
            ]
           ]
          },
          "colorway": [
           "#636efa",
           "#EF553B",
           "#00cc96",
           "#ab63fa",
           "#FFA15A",
           "#19d3f3",
           "#FF6692",
           "#B6E880",
           "#FF97FF",
           "#FECB52"
          ],
          "font": {
           "color": "#2a3f5f"
          },
          "geo": {
           "bgcolor": "white",
           "lakecolor": "white",
           "landcolor": "#E5ECF6",
           "showlakes": true,
           "showland": true,
           "subunitcolor": "white"
          },
          "hoverlabel": {
           "align": "left"
          },
          "hovermode": "closest",
          "mapbox": {
           "style": "light"
          },
          "paper_bgcolor": "white",
          "plot_bgcolor": "#E5ECF6",
          "polar": {
           "angularaxis": {
            "gridcolor": "white",
            "linecolor": "white",
            "ticks": ""
           },
           "bgcolor": "#E5ECF6",
           "radialaxis": {
            "gridcolor": "white",
            "linecolor": "white",
            "ticks": ""
           }
          },
          "scene": {
           "xaxis": {
            "backgroundcolor": "#E5ECF6",
            "gridcolor": "white",
            "gridwidth": 2,
            "linecolor": "white",
            "showbackground": true,
            "ticks": "",
            "zerolinecolor": "white"
           },
           "yaxis": {
            "backgroundcolor": "#E5ECF6",
            "gridcolor": "white",
            "gridwidth": 2,
            "linecolor": "white",
            "showbackground": true,
            "ticks": "",
            "zerolinecolor": "white"
           },
           "zaxis": {
            "backgroundcolor": "#E5ECF6",
            "gridcolor": "white",
            "gridwidth": 2,
            "linecolor": "white",
            "showbackground": true,
            "ticks": "",
            "zerolinecolor": "white"
           }
          },
          "shapedefaults": {
           "line": {
            "color": "#2a3f5f"
           }
          },
          "ternary": {
           "aaxis": {
            "gridcolor": "white",
            "linecolor": "white",
            "ticks": ""
           },
           "baxis": {
            "gridcolor": "white",
            "linecolor": "white",
            "ticks": ""
           },
           "bgcolor": "#E5ECF6",
           "caxis": {
            "gridcolor": "white",
            "linecolor": "white",
            "ticks": ""
           }
          },
          "title": {
           "x": 0.05
          },
          "xaxis": {
           "automargin": true,
           "gridcolor": "white",
           "linecolor": "white",
           "ticks": "",
           "title": {
            "standoff": 15
           },
           "zerolinecolor": "white",
           "zerolinewidth": 2
          },
          "yaxis": {
           "automargin": true,
           "gridcolor": "white",
           "linecolor": "white",
           "ticks": "",
           "title": {
            "standoff": 15
           },
           "zerolinecolor": "white",
           "zerolinewidth": 2
          }
         }
        },
        "title": {
         "text": "Rental Property Distribution by City"
        },
        "xaxis": {
         "anchor": "y",
         "autorange": true,
         "domain": [
          0,
          1
         ],
         "range": [
          -0.5,
          7.5
         ],
         "title": {
          "text": "City"
         },
         "type": "category"
        },
        "yaxis": {
         "anchor": "x",
         "autorange": true,
         "domain": [
          0,
          1
         ],
         "range": [
          0,
          36052.63157894737
         ],
         "title": {
          "text": "Number of Properties"
         },
         "type": "linear"
        }
       }
      },
      "image/png": "[encoded data removed]",
      "text/html": [
       "<div>                            <div id=\"30191d30-712b-41cb-b674-898a0c350455\" class=\"plotly-graph-div\" style=\"height:525px; width:100%;\"></div>            <script type=\"text/javascript\">                require([\"plotly\"], function(Plotly) {                    window.PLOTLYENV=window.PLOTLYENV || {};                                    if (document.getElementById(\"30191d30-712b-41cb-b674-898a0c350455\")) {                    Plotly.newPlot(                        \"30191d30-712b-41cb-b674-898a0c350455\",                        [{\"alignmentgroup\":\"True\",\"hovertemplate\":\"City=%{x}<br>Number of Properties=%{y}<extra></extra>\",\"legendgroup\":\"\",\"marker\":{\"color\":\"#636efa\",\"pattern\":{\"shape\":\"\"}},\"name\":\"\",\"offsetgroup\":\"\",\"orientation\":\"v\",\"showlegend\":false,\"textposition\":\"auto\",\"x\":[\"Dubai\",\"Abu Dhabi\",\"Sharjah\",\"Ajman\",\"Al Ain\",\"Ras Al Khaimah\",\"Umm Al Quwain\",\"Fujairah\"],\"xaxis\":\"x\",\"y\":[34250,23324,9516,4704,1040,816,65,27],\"yaxis\":\"y\",\"type\":\"bar\"}],                        {\"template\":{\"data\":{\"histogram2dcontour\":[{\"type\":\"histogram2dcontour\",\"colorbar\":{\"outlinewidth\":0,\"ticks\":\"\"},\"colorscale\":[[0.0,\"#0d0887\"],[0.1111111111111111,\"#46039f\"],[0.2222222222222222,\"#7201a8\"],[0.3333333333333333,\"#9c179e\"],[0.4444444444444444,\"#bd3786\"],[0.5555555555555556,\"#d8576b\"],[0.6666666666666666,\"#ed7953\"],[0.7777777777777778,\"#fb9f3a\"],[0.8888888888888888,\"#fdca26\"],[1.0,\"#f0f921\"]]}],\"choropleth\":[{\"type\":\"choropleth\",\"colorbar\":{\"outlinewidth\":0,\"ticks\":\"\"}}],\"histogram2d\":[{\"type\":\"histogram2d\",\"colorbar\":{\"outlinewidth\":0,\"ticks\":\"\"},\"colorscale\":[[0.0,\"#0d0887\"],[0.1111111111111111,\"#46039f\"],[0.2222222222222222,\"#7201a8\"],[0.3333333333333333,\"#9c179e\"],[0.4444444444444444,\"#bd3786\"],[0.5555555555555556,\"#d8576b\"],[0.6666666666666666,\"#ed7953\"],[0.7777777777777778,\"#fb9f3a\"],[0.8888888888888888,\"#fdca26\"],[1.0,\"#f0f921\"]]}],\"heatmap\":[{\"type\":\"heatmap\",\"colorbar\":{\"outlinewidth\":0,\"ticks\":\"\"},\"colorscale\":[[0.0,\"#0d0887\"],[0.1111111111111111,\"#46039f\"],[0.2222222222222222,\"#7201a8\"],[0.3333333333333333,\"#9c179e\"],[0.4444444444444444,\"#bd3786\"],[0.5555555555555556,\"#d8576b\"],[0.6666666666666666,\"#ed7953\"],[0.7777777777777778,\"#fb9f3a\"],[0.8888888888888888,\"#fdca26\"],[1.0,\"#f0f921\"]]}],\"heatmapgl\":[{\"type\":\"heatmapgl\",\"colorbar\":{\"outlinewidth\":0,\"ticks\":\"\"},\"colorscale\":[[0.0,\"#0d0887\"],[0.1111111111111111,\"#46039f\"],[0.2222222222222222,\"#7201a8\"],[0.3333333333333333,\"#9c179e\"],[0.4444444444444444,\"#bd3786\"],[0.5555555555555556,\"#d8576b\"],[0.6666666666666666,\"#ed7953\"],[0.7777777777777778,\"#fb9f3a\"],[0.8888888888888888,\"#fdca26\"],[1.0,\"#f0f921\"]]}],\"contourcarpet\":[{\"type\":\"contourcarpet\",\"colorbar\":{\"outlinewidth\":0,\"ticks\":\"\"}}],\"contour\":[{\"type\":\"contour\",\"colorbar\":{\"outlinewidth\":0,\"ticks\":\"\"},\"colorscale\":[[0.0,\"#0d0887\"],[0.1111111111111111,\"#46039f\"],[0.2222222222222222,\"#7201a8\"],[0.3333333333333333,\"#9c179e\"],[0.4444444444444444,\"#bd3786\"],[0.5555555555555556,\"#d8576b\"],[0.6666666666666666,\"#ed7953\"],[0.7777777777777778,\"#fb9f3a\"],[0.8888888888888888,\"#fdca26\"],[1.0,\"#f0f921\"]]}],\"surface\":[{\"type\":\"surface\",\"colorbar\":{\"outlinewidth\":0,\"ticks\":\"\"},\"colorscale\":[[0.0,\"#0d0887\"],[0.1111111111111111,\"#46039f\"],[0.2222222222222222,\"#7201a8\"],[0.3333333333333333,\"#9c179e\"],[0.4444444444444444,\"#bd3786\"],[0.5555555555555556,\"#d8576b\"],[0.6666666666666666,\"#ed7953\"],[0.7777777777777778,\"#fb9f3a\"],[0.8888888888888888,\"#fdca26\"],[1.0,\"#f0f921\"]]}],\"mesh3d\":[{\"type\":\"mesh3d\",\"colorbar\":{\"outlinewidth\":0,\"ticks\":\"\"}}],\"scatter\":[{\"fillpattern\":{\"fillmode\":\"overlay\",\"size\":10,\"solidity\":0.2},\"type\":\"scatter\"}],\"parcoords\":[{\"type\":\"parcoords\",\"line\":{\"colorbar\":{\"outlinewidth\":0,\"ticks\":\"\"}}}],\"scatterpolargl\":[{\"type\":\"scatterpolargl\",\"marker\":{\"colorbar\":{\"outlinewidth\":0,\"ticks\":\"\"}}}],\"bar\":[{\"error_x\":{\"color\":\"#2a3f5f\"},\"error_y\":{\"color\":\"#2a3f5f\"},\"marker\":{\"line\":{\"color\":\"#E5ECF6\",\"width\":0.5},\"pattern\":{\"fillmode\":\"overlay\",\"size\":10,\"solidity\":0.2}},\"type\":\"bar\"}],\"scattergeo\":[{\"type\":\"scattergeo\",\"marker\":{\"colorbar\":{\"outlinewidth\":0,\"ticks\":\"\"}}}],\"scatterpolar\":[{\"type\":\"scatterpolar\",\"marker\":{\"colorbar\":{\"outlinewidth\":0,\"ticks\":\"\"}}}],\"histogram\":[{\"marker\":{\"pattern\":{\"fillmode\":\"overlay\",\"size\":10,\"solidity\":0.2}},\"type\":\"histogram\"}],\"scattergl\":[{\"type\":\"scattergl\",\"marker\":{\"colorbar\":{\"outlinewidth\":0,\"ticks\":\"\"}}}],\"scatter3d\":[{\"type\":\"scatter3d\",\"line\":{\"colorbar\":{\"outlinewidth\":0,\"ticks\":\"\"}},\"marker\":{\"colorbar\":{\"outlinewidth\":0,\"ticks\":\"\"}}}],\"scattermapbox\":[{\"type\":\"scattermapbox\",\"marker\":{\"colorbar\":{\"outlinewidth\":0,\"ticks\":\"\"}}}],\"scatterternary\":[{\"type\":\"scatterternary\",\"marker\":{\"colorbar\":{\"outlinewidth\":0,\"ticks\":\"\"}}}],\"scattercarpet\":[{\"type\":\"scattercarpet\",\"marker\":{\"colorbar\":{\"outlinewidth\":0,\"ticks\":\"\"}}}],\"carpet\":[{\"aaxis\":{\"endlinecolor\":\"#2a3f5f\",\"gridcolor\":\"white\",\"linecolor\":\"white\",\"minorgridcolor\":\"white\",\"startlinecolor\":\"#2a3f5f\"},\"baxis\":{\"endlinecolor\":\"#2a3f5f\",\"gridcolor\":\"white\",\"linecolor\":\"white\",\"minorgridcolor\":\"white\",\"startlinecolor\":\"#2a3f5f\"},\"type\":\"carpet\"}],\"table\":[{\"cells\":{\"fill\":{\"color\":\"#EBF0F8\"},\"line\":{\"color\":\"white\"}},\"header\":{\"fill\":{\"color\":\"#C8D4E3\"},\"line\":{\"color\":\"white\"}},\"type\":\"table\"}],\"barpolar\":[{\"marker\":{\"line\":{\"color\":\"#E5ECF6\",\"width\":0.5},\"pattern\":{\"fillmode\":\"overlay\",\"size\":10,\"solidity\":0.2}},\"type\":\"barpolar\"}],\"pie\":[{\"automargin\":true,\"type\":\"pie\"}]},\"layout\":{\"autotypenumbers\":\"strict\",\"colorway\":[\"#636efa\",\"#EF553B\",\"#00cc96\",\"#ab63fa\",\"#FFA15A\",\"#19d3f3\",\"#FF6692\",\"#B6E880\",\"#FF97FF\",\"#FECB52\"],\"font\":{\"color\":\"#2a3f5f\"},\"hovermode\":\"closest\",\"hoverlabel\":{\"align\":\"left\"},\"paper_bgcolor\":\"white\",\"plot_bgcolor\":\"#E5ECF6\",\"polar\":{\"bgcolor\":\"#E5ECF6\",\"angularaxis\":{\"gridcolor\":\"white\",\"linecolor\":\"white\",\"ticks\":\"\"},\"radialaxis\":{\"gridcolor\":\"white\",\"linecolor\":\"white\",\"ticks\":\"\"}},\"ternary\":{\"bgcolor\":\"#E5ECF6\",\"aaxis\":{\"gridcolor\":\"white\",\"linecolor\":\"white\",\"ticks\":\"\"},\"baxis\":{\"gridcolor\":\"white\",\"linecolor\":\"white\",\"ticks\":\"\"},\"caxis\":{\"gridcolor\":\"white\",\"linecolor\":\"white\",\"ticks\":\"\"}},\"coloraxis\":{\"colorbar\":{\"outlinewidth\":0,\"ticks\":\"\"}},\"colorscale\":{\"sequential\":[[0.0,\"#0d0887\"],[0.1111111111111111,\"#46039f\"],[0.2222222222222222,\"#7201a8\"],[0.3333333333333333,\"#9c179e\"],[0.4444444444444444,\"#bd3786\"],[0.5555555555555556,\"#d8576b\"],[0.6666666666666666,\"#ed7953\"],[0.7777777777777778,\"#fb9f3a\"],[0.8888888888888888,\"#fdca26\"],[1.0,\"#f0f921\"]],\"sequentialminus\":[[0.0,\"#0d0887\"],[0.1111111111111111,\"#46039f\"],[0.2222222222222222,\"#7201a8\"],[0.3333333333333333,\"#9c179e\"],[0.4444444444444444,\"#bd3786\"],[0.5555555555555556,\"#d8576b\"],[0.6666666666666666,\"#ed7953\"],[0.7777777777777778,\"#fb9f3a\"],[0.8888888888888888,\"#fdca26\"],[1.0,\"#f0f921\"]],\"diverging\":[[0,\"#8e0152\"],[0.1,\"#c51b7d\"],[0.2,\"#de77ae\"],[0.3,\"#f1b6da\"],[0.4,\"#fde0ef\"],[0.5,\"#f7f7f7\"],[0.6,\"#e6f5d0\"],[0.7,\"#b8e186\"],[0.8,\"#7fbc41\"],[0.9,\"#4d9221\"],[1,\"#276419\"]]},\"xaxis\":{\"gridcolor\":\"white\",\"linecolor\":\"white\",\"ticks\":\"\",\"title\":{\"standoff\":15},\"zerolinecolor\":\"white\",\"automargin\":true,\"zerolinewidth\":2},\"yaxis\":{\"gridcolor\":\"white\",\"linecolor\":\"white\",\"ticks\":\"\",\"title\":{\"standoff\":15},\"zerolinecolor\":\"white\",\"automargin\":true,\"zerolinewidth\":2},\"scene\":{\"xaxis\":{\"backgroundcolor\":\"#E5ECF6\",\"gridcolor\":\"white\",\"linecolor\":\"white\",\"showbackground\":true,\"ticks\":\"\",\"zerolinecolor\":\"white\",\"gridwidth\":2},\"yaxis\":{\"backgroundcolor\":\"#E5ECF6\",\"gridcolor\":\"white\",\"linecolor\":\"white\",\"showbackground\":true,\"ticks\":\"\",\"zerolinecolor\":\"white\",\"gridwidth\":2},\"zaxis\":{\"backgroundcolor\":\"#E5ECF6\",\"gridcolor\":\"white\",\"linecolor\":\"white\",\"showbackground\":true,\"ticks\":\"\",\"zerolinecolor\":\"white\",\"gridwidth\":2}},\"shapedefaults\":{\"line\":{\"color\":\"#2a3f5f\"}},\"annotationdefaults\":{\"arrowcolor\":\"#2a3f5f\",\"arrowhead\":0,\"arrowwidth\":1},\"geo\":{\"bgcolor\":\"white\",\"landcolor\":\"#E5ECF6\",\"subunitcolor\":\"white\",\"showland\":true,\"showlakes\":true,\"lakecolor\":\"white\"},\"title\":{\"x\":0.05},\"mapbox\":{\"style\":\"light\"}}},\"xaxis\":{\"anchor\":\"y\",\"domain\":[0.0,1.0],\"title\":{\"text\":\"City\"}},\"yaxis\":{\"anchor\":\"x\",\"domain\":[0.0,1.0],\"title\":{\"text\":\"Number of Properties\"}},\"legend\":{\"tracegroupgap\":0},\"title\":{\"text\":\"Rental Property Distribution by City\"},\"barmode\":\"relative\"},                        {\"responsive\": true}                    ).then(function(){\n",
       "                            \n",
       "var gd = document.getElementById('30191d30-712b-41cb-b674-898a0c350455');\n",
       "var x = new MutationObserver(function (mutations, observer) {{\n",
       "        var display = window.getComputedStyle(gd).display;\n",
       "        if (!display || display === 'none') {{\n",
       "            console.log([gd, 'removed!']);\n",
       "            Plotly.purge(gd);\n",
       "            observer.disconnect();\n",
       "        }}\n",
       "}});\n",
       "\n",
       "// Listen for the removal of the full notebook cells\n",
       "var notebookContainer = gd.closest('#notebook-container');\n",
       "if (notebookContainer) {{\n",
       "    x.observe(notebookContainer, {childList: true});\n",
       "}}\n",
       "\n",
       "// Listen for the clearing of the current output cell\n",
       "var outputEl = gd.closest('.output');\n",
       "if (outputEl) {{\n",
       "    x.observe(outputEl, {childList: true});\n",
       "}}\n",
       "\n",
       "                        })                };                });            </script>        </div>"
      ]
     },
     "metadata": {},
     "output_type": "display_data"
    }
   ],
   "source": [
    "import plotly.express as px\n",
    "plt.style.use('Solarize_Light2')\n",
    "\n",
    "city_distribution = train_data['City'].value_counts().reset_index()\n",
    "city_distribution.columns = ['City', 'Number of Properties']\n",
    "\n",
    "fig = px.bar(city_distribution, x='City', y='Number of Properties', \n",
    "             title='Rental Property Distribution by City', \n",
    "             labels={'Number of Properties': 'Number of Properties'})\n",
    "fig.update_layout(xaxis_title='City', yaxis_title='Number of Properties')\n",
    "fig.show()"
   ]
  },
  {
   "cell_type": "code",
   "execution_count": 86,
   "id": "c0e09dbd-f730-4496-a8f9-9849a4809686",
   "metadata": {},
   "outputs": [
    {
     "data": {
      "application/vnd.plotly.v1+json": {
       "config": {
        "plotlyServerURL": "https://plot.ly"
       },
       "data": [
        {
         "hovertemplate": "Month=%{x}<br>Average Rent (AED)=%{y}<extra></extra>",
         "legendgroup": "",
         "line": {
          "color": "#636efa",
          "dash": "solid"
         },
         "marker": {
          "symbol": "circle"
         },
         "mode": "lines",
         "name": "",
         "orientation": "v",
         "showlegend": false,
         "type": "scatter",
         "x": [
          "2018-01",
          "2019-05",
          "2019-07",
          "2020-03",
          "2020-06",
          "2020-11",
          "2020-12",
          "2021-03",
          "2021-07",
          "2021-08",
          "2021-09",
          "2021-10",
          "2021-11",
          "2021-12",
          "2022-01",
          "2022-03",
          "2022-04",
          "2022-05",
          "2022-06",
          "2022-07",
          "2022-08",
          "2022-09",
          "2022-10",
          "2022-11",
          "2022-12",
          "2023-01",
          "2023-02",
          "2023-03",
          "2023-04",
          "2023-05",
          "2023-06",
          "2023-07",
          "2023-08",
          "2023-09",
          "2023-10",
          "2023-11",
          "2023-12",
          "2024-01",
          "2024-02",
          "2024-03",
          "2024-04"
         ],
         "xaxis": "x",
         "y": [
          15000,
          40000,
          15000,
          30000,
          26500,
          50000,
          37454.545454545456,
          41100,
          22874.875,
          29000,
          26666.666666666668,
          31000,
          39388.88888888889,
          161666.66666666666,
          26000,
          58500,
          27375,
          40750,
          32999.71428571428,
          58999.833333333336,
          49849.8,
          87650,
          110362.66666666667,
          119502.94117647059,
          47454.51515151515,
          66970.19047619047,
          98749.92105263157,
          92159.66326530612,
          108339.50943396226,
          94765.56862745098,
          96014.29032258065,
          103922.91408114559,
          155934.4968553459,
          156171.8051623647,
          148957.16176470587,
          163409.4918755164,
          147688.36755386565,
          174589.69213641158,
          161483.86706363442,
          136578.58148417607,
          137197.56178207192
         ],
         "yaxis": "y"
        }
       ],
       "layout": {
        "autosize": true,
        "legend": {
         "tracegroupgap": 0
        },
        "template": {
         "data": {
          "bar": [
           {
            "error_x": {
             "color": "#2a3f5f"
            },
            "error_y": {
             "color": "#2a3f5f"
            },
            "marker": {
             "line": {
              "color": "#E5ECF6",
              "width": 0.5
             },
             "pattern": {
              "fillmode": "overlay",
              "size": 10,
              "solidity": 0.2
             }
            },
            "type": "bar"
           }
          ],
          "barpolar": [
           {
            "marker": {
             "line": {
              "color": "#E5ECF6",
              "width": 0.5
             },
             "pattern": {
              "fillmode": "overlay",
              "size": 10,
              "solidity": 0.2
             }
            },
            "type": "barpolar"
           }
          ],
          "carpet": [
           {
            "aaxis": {
             "endlinecolor": "#2a3f5f",
             "gridcolor": "white",
             "linecolor": "white",
             "minorgridcolor": "white",
             "startlinecolor": "#2a3f5f"
            },
            "baxis": {
             "endlinecolor": "#2a3f5f",
             "gridcolor": "white",
             "linecolor": "white",
             "minorgridcolor": "white",
             "startlinecolor": "#2a3f5f"
            },
            "type": "carpet"
           }
          ],
          "choropleth": [
           {
            "colorbar": {
             "outlinewidth": 0,
             "ticks": ""
            },
            "type": "choropleth"
           }
          ],
          "contour": [
           {
            "colorbar": {
             "outlinewidth": 0,
             "ticks": ""
            },
            "colorscale": [
             [
              0,
              "#0d0887"
             ],
             [
              0.1111111111111111,
              "#46039f"
             ],
             [
              0.2222222222222222,
              "#7201a8"
             ],
             [
              0.3333333333333333,
              "#9c179e"
             ],
             [
              0.4444444444444444,
              "#bd3786"
             ],
             [
              0.5555555555555556,
              "#d8576b"
             ],
             [
              0.6666666666666666,
              "#ed7953"
             ],
             [
              0.7777777777777778,
              "#fb9f3a"
             ],
             [
              0.8888888888888888,
              "#fdca26"
             ],
             [
              1,
              "#f0f921"
             ]
            ],
            "type": "contour"
           }
          ],
          "contourcarpet": [
           {
            "colorbar": {
             "outlinewidth": 0,
             "ticks": ""
            },
            "type": "contourcarpet"
           }
          ],
          "heatmap": [
           {
            "colorbar": {
             "outlinewidth": 0,
             "ticks": ""
            },
            "colorscale": [
             [
              0,
              "#0d0887"
             ],
             [
              0.1111111111111111,
              "#46039f"
             ],
             [
              0.2222222222222222,
              "#7201a8"
             ],
             [
              0.3333333333333333,
              "#9c179e"
             ],
             [
              0.4444444444444444,
              "#bd3786"
             ],
             [
              0.5555555555555556,
              "#d8576b"
             ],
             [
              0.6666666666666666,
              "#ed7953"
             ],
             [
              0.7777777777777778,
              "#fb9f3a"
             ],
             [
              0.8888888888888888,
              "#fdca26"
             ],
             [
              1,
              "#f0f921"
             ]
            ],
            "type": "heatmap"
           }
          ],
          "heatmapgl": [
           {
            "colorbar": {
             "outlinewidth": 0,
             "ticks": ""
            },
            "colorscale": [
             [
              0,
              "#0d0887"
             ],
             [
              0.1111111111111111,
              "#46039f"
             ],
             [
              0.2222222222222222,
              "#7201a8"
             ],
             [
              0.3333333333333333,
              "#9c179e"
             ],
             [
              0.4444444444444444,
              "#bd3786"
             ],
             [
              0.5555555555555556,
              "#d8576b"
             ],
             [
              0.6666666666666666,
              "#ed7953"
             ],
             [
              0.7777777777777778,
              "#fb9f3a"
             ],
             [
              0.8888888888888888,
              "#fdca26"
             ],
             [
              1,
              "#f0f921"
             ]
            ],
            "type": "heatmapgl"
           }
          ],
          "histogram": [
           {
            "marker": {
             "pattern": {
              "fillmode": "overlay",
              "size": 10,
              "solidity": 0.2
             }
            },
            "type": "histogram"
           }
          ],
          "histogram2d": [
           {
            "colorbar": {
             "outlinewidth": 0,
             "ticks": ""
            },
            "colorscale": [
             [
              0,
              "#0d0887"
             ],
             [
              0.1111111111111111,
              "#46039f"
             ],
             [
              0.2222222222222222,
              "#7201a8"
             ],
             [
              0.3333333333333333,
              "#9c179e"
             ],
             [
              0.4444444444444444,
              "#bd3786"
             ],
             [
              0.5555555555555556,
              "#d8576b"
             ],
             [
              0.6666666666666666,
              "#ed7953"
             ],
             [
              0.7777777777777778,
              "#fb9f3a"
             ],
             [
              0.8888888888888888,
              "#fdca26"
             ],
             [
              1,
              "#f0f921"
             ]
            ],
            "type": "histogram2d"
           }
          ],
          "histogram2dcontour": [
           {
            "colorbar": {
             "outlinewidth": 0,
             "ticks": ""
            },
            "colorscale": [
             [
              0,
              "#0d0887"
             ],
             [
              0.1111111111111111,
              "#46039f"
             ],
             [
              0.2222222222222222,
              "#7201a8"
             ],
             [
              0.3333333333333333,
              "#9c179e"
             ],
             [
              0.4444444444444444,
              "#bd3786"
             ],
             [
              0.5555555555555556,
              "#d8576b"
             ],
             [
              0.6666666666666666,
              "#ed7953"
             ],
             [
              0.7777777777777778,
              "#fb9f3a"
             ],
             [
              0.8888888888888888,
              "#fdca26"
             ],
             [
              1,
              "#f0f921"
             ]
            ],
            "type": "histogram2dcontour"
           }
          ],
          "mesh3d": [
           {
            "colorbar": {
             "outlinewidth": 0,
             "ticks": ""
            },
            "type": "mesh3d"
           }
          ],
          "parcoords": [
           {
            "line": {
             "colorbar": {
              "outlinewidth": 0,
              "ticks": ""
             }
            },
            "type": "parcoords"
           }
          ],
          "pie": [
           {
            "automargin": true,
            "type": "pie"
           }
          ],
          "scatter": [
           {
            "fillpattern": {
             "fillmode": "overlay",
             "size": 10,
             "solidity": 0.2
            },
            "type": "scatter"
           }
          ],
          "scatter3d": [
           {
            "line": {
             "colorbar": {
              "outlinewidth": 0,
              "ticks": ""
             }
            },
            "marker": {
             "colorbar": {
              "outlinewidth": 0,
              "ticks": ""
             }
            },
            "type": "scatter3d"
           }
          ],
          "scattercarpet": [
           {
            "marker": {
             "colorbar": {
              "outlinewidth": 0,
              "ticks": ""
             }
            },
            "type": "scattercarpet"
           }
          ],
          "scattergeo": [
           {
            "marker": {
             "colorbar": {
              "outlinewidth": 0,
              "ticks": ""
             }
            },
            "type": "scattergeo"
           }
          ],
          "scattergl": [
           {
            "marker": {
             "colorbar": {
              "outlinewidth": 0,
              "ticks": ""
             }
            },
            "type": "scattergl"
           }
          ],
          "scattermapbox": [
           {
            "marker": {
             "colorbar": {
              "outlinewidth": 0,
              "ticks": ""
             }
            },
            "type": "scattermapbox"
           }
          ],
          "scatterpolar": [
           {
            "marker": {
             "colorbar": {
              "outlinewidth": 0,
              "ticks": ""
             }
            },
            "type": "scatterpolar"
           }
          ],
          "scatterpolargl": [
           {
            "marker": {
             "colorbar": {
              "outlinewidth": 0,
              "ticks": ""
             }
            },
            "type": "scatterpolargl"
           }
          ],
          "scatterternary": [
           {
            "marker": {
             "colorbar": {
              "outlinewidth": 0,
              "ticks": ""
             }
            },
            "type": "scatterternary"
           }
          ],
          "surface": [
           {
            "colorbar": {
             "outlinewidth": 0,
             "ticks": ""
            },
            "colorscale": [
             [
              0,
              "#0d0887"
             ],
             [
              0.1111111111111111,
              "#46039f"
             ],
             [
              0.2222222222222222,
              "#7201a8"
             ],
             [
              0.3333333333333333,
              "#9c179e"
             ],
             [
              0.4444444444444444,
              "#bd3786"
             ],
             [
              0.5555555555555556,
              "#d8576b"
             ],
             [
              0.6666666666666666,
              "#ed7953"
             ],
             [
              0.7777777777777778,
              "#fb9f3a"
             ],
             [
              0.8888888888888888,
              "#fdca26"
             ],
             [
              1,
              "#f0f921"
             ]
            ],
            "type": "surface"
           }
          ],
          "table": [
           {
            "cells": {
             "fill": {
              "color": "#EBF0F8"
             },
             "line": {
              "color": "white"
             }
            },
            "header": {
             "fill": {
              "color": "#C8D4E3"
             },
             "line": {
              "color": "white"
             }
            },
            "type": "table"
           }
          ]
         },
         "layout": {
          "annotationdefaults": {
           "arrowcolor": "#2a3f5f",
           "arrowhead": 0,
           "arrowwidth": 1
          },
          "autotypenumbers": "strict",
          "coloraxis": {
           "colorbar": {
            "outlinewidth": 0,
            "ticks": ""
           }
          },
          "colorscale": {
           "diverging": [
            [
             0,
             "#8e0152"
            ],
            [
             0.1,
             "#c51b7d"
            ],
            [
             0.2,
             "#de77ae"
            ],
            [
             0.3,
             "#f1b6da"
            ],
            [
             0.4,
             "#fde0ef"
            ],
            [
             0.5,
             "#f7f7f7"
            ],
            [
             0.6,
             "#e6f5d0"
            ],
            [
             0.7,
             "#b8e186"
            ],
            [
             0.8,
             "#7fbc41"
            ],
            [
             0.9,
             "#4d9221"
            ],
            [
             1,
             "#276419"
            ]
           ],
           "sequential": [
            [
             0,
             "#0d0887"
            ],
            [
             0.1111111111111111,
             "#46039f"
            ],
            [
             0.2222222222222222,
             "#7201a8"
            ],
            [
             0.3333333333333333,
             "#9c179e"
            ],
            [
             0.4444444444444444,
             "#bd3786"
            ],
            [
             0.5555555555555556,
             "#d8576b"
            ],
            [
             0.6666666666666666,
             "#ed7953"
            ],
            [
             0.7777777777777778,
             "#fb9f3a"
            ],
            [
             0.8888888888888888,
             "#fdca26"
            ],
            [
             1,
             "#f0f921"
            ]
           ],
           "sequentialminus": [
            [
             0,
             "#0d0887"
            ],
            [
             0.1111111111111111,
             "#46039f"
            ],
            [
             0.2222222222222222,
             "#7201a8"
            ],
            [
             0.3333333333333333,
             "#9c179e"
            ],
            [
             0.4444444444444444,
             "#bd3786"
            ],
            [
             0.5555555555555556,
             "#d8576b"
            ],
            [
             0.6666666666666666,
             "#ed7953"
            ],
            [
             0.7777777777777778,
             "#fb9f3a"
            ],
            [
             0.8888888888888888,
             "#fdca26"
            ],
            [
             1,
             "#f0f921"
            ]
           ]
          },
          "colorway": [
           "#636efa",
           "#EF553B",
           "#00cc96",
           "#ab63fa",
           "#FFA15A",
           "#19d3f3",
           "#FF6692",
           "#B6E880",
           "#FF97FF",
           "#FECB52"
          ],
          "font": {
           "color": "#2a3f5f"
          },
          "geo": {
           "bgcolor": "white",
           "lakecolor": "white",
           "landcolor": "#E5ECF6",
           "showlakes": true,
           "showland": true,
           "subunitcolor": "white"
          },
          "hoverlabel": {
           "align": "left"
          },
          "hovermode": "closest",
          "mapbox": {
           "style": "light"
          },
          "paper_bgcolor": "white",
          "plot_bgcolor": "#E5ECF6",
          "polar": {
           "angularaxis": {
            "gridcolor": "white",
            "linecolor": "white",
            "ticks": ""
           },
           "bgcolor": "#E5ECF6",
           "radialaxis": {
            "gridcolor": "white",
            "linecolor": "white",
            "ticks": ""
           }
          },
          "scene": {
           "xaxis": {
            "backgroundcolor": "#E5ECF6",
            "gridcolor": "white",
            "gridwidth": 2,
            "linecolor": "white",
            "showbackground": true,
            "ticks": "",
            "zerolinecolor": "white"
           },
           "yaxis": {
            "backgroundcolor": "#E5ECF6",
            "gridcolor": "white",
            "gridwidth": 2,
            "linecolor": "white",
            "showbackground": true,
            "ticks": "",
            "zerolinecolor": "white"
           },
           "zaxis": {
            "backgroundcolor": "#E5ECF6",
            "gridcolor": "white",
            "gridwidth": 2,
            "linecolor": "white",
            "showbackground": true,
            "ticks": "",
            "zerolinecolor": "white"
           }
          },
          "shapedefaults": {
           "line": {
            "color": "#2a3f5f"
           }
          },
          "ternary": {
           "aaxis": {
            "gridcolor": "white",
            "linecolor": "white",
            "ticks": ""
           },
           "baxis": {
            "gridcolor": "white",
            "linecolor": "white",
            "ticks": ""
           },
           "bgcolor": "#E5ECF6",
           "caxis": {
            "gridcolor": "white",
            "linecolor": "white",
            "ticks": ""
           }
          },
          "title": {
           "x": 0.05
          },
          "xaxis": {
           "automargin": true,
           "gridcolor": "white",
           "linecolor": "white",
           "ticks": "",
           "title": {
            "standoff": 15
           },
           "zerolinecolor": "white",
           "zerolinewidth": 2
          },
          "yaxis": {
           "automargin": true,
           "gridcolor": "white",
           "linecolor": "white",
           "ticks": "",
           "title": {
            "standoff": 15
           },
           "zerolinecolor": "white",
           "zerolinewidth": 2
          }
         }
        },
        "title": {
         "text": "Average Monthly Rent Prices Over Time"
        },
        "xaxis": {
         "anchor": "y",
         "autorange": true,
         "domain": [
          0,
          1
         ],
         "range": [
          "2018-01-01",
          "2024-04-01"
         ],
         "title": {
          "text": "Month"
         },
         "type": "date"
        },
        "yaxis": {
         "anchor": "x",
         "autorange": true,
         "domain": [
          0,
          1
         ],
         "range": [
          6133.905992421578,
          183455.78614399
         ],
         "title": {
          "text": "Average Rent (AED)"
         },
         "type": "linear"
        }
       }
      },
      "image/png": "[encoded data removed]",
      "text/html": [
       "<div>                            <div id=\"97cc7107-8396-44a9-8dbe-0c3f00f07d67\" class=\"plotly-graph-div\" style=\"height:525px; width:100%;\"></div>            <script type=\"text/javascript\">                require([\"plotly\"], function(Plotly) {                    window.PLOTLYENV=window.PLOTLYENV || {};                                    if (document.getElementById(\"97cc7107-8396-44a9-8dbe-0c3f00f07d67\")) {                    Plotly.newPlot(                        \"97cc7107-8396-44a9-8dbe-0c3f00f07d67\",                        [{\"hovertemplate\":\"Month=%{x}<br>Average Rent (AED)=%{y}<extra></extra>\",\"legendgroup\":\"\",\"line\":{\"color\":\"#636efa\",\"dash\":\"solid\"},\"marker\":{\"symbol\":\"circle\"},\"mode\":\"lines\",\"name\":\"\",\"orientation\":\"v\",\"showlegend\":false,\"x\":[\"2018-01\",\"2019-05\",\"2019-07\",\"2020-03\",\"2020-06\",\"2020-11\",\"2020-12\",\"2021-03\",\"2021-07\",\"2021-08\",\"2021-09\",\"2021-10\",\"2021-11\",\"2021-12\",\"2022-01\",\"2022-03\",\"2022-04\",\"2022-05\",\"2022-06\",\"2022-07\",\"2022-08\",\"2022-09\",\"2022-10\",\"2022-11\",\"2022-12\",\"2023-01\",\"2023-02\",\"2023-03\",\"2023-04\",\"2023-05\",\"2023-06\",\"2023-07\",\"2023-08\",\"2023-09\",\"2023-10\",\"2023-11\",\"2023-12\",\"2024-01\",\"2024-02\",\"2024-03\",\"2024-04\"],\"xaxis\":\"x\",\"y\":[15000.0,40000.0,15000.0,30000.0,26500.0,50000.0,37454.545454545456,41100.0,22874.875,29000.0,26666.666666666668,31000.0,39388.88888888889,161666.66666666666,26000.0,58500.0,27375.0,40750.0,32999.71428571428,58999.833333333336,49849.8,87650.0,110362.66666666667,119502.94117647059,47454.51515151515,66970.19047619047,98749.92105263157,92159.66326530612,108339.50943396226,94765.56862745098,96014.29032258065,103922.91408114559,155934.4968553459,156171.8051623647,148957.16176470587,163409.4918755164,147688.36755386565,174589.69213641158,161483.86706363442,136578.58148417607,137197.56178207192],\"yaxis\":\"y\",\"type\":\"scatter\"}],                        {\"template\":{\"data\":{\"histogram2dcontour\":[{\"type\":\"histogram2dcontour\",\"colorbar\":{\"outlinewidth\":0,\"ticks\":\"\"},\"colorscale\":[[0.0,\"#0d0887\"],[0.1111111111111111,\"#46039f\"],[0.2222222222222222,\"#7201a8\"],[0.3333333333333333,\"#9c179e\"],[0.4444444444444444,\"#bd3786\"],[0.5555555555555556,\"#d8576b\"],[0.6666666666666666,\"#ed7953\"],[0.7777777777777778,\"#fb9f3a\"],[0.8888888888888888,\"#fdca26\"],[1.0,\"#f0f921\"]]}],\"choropleth\":[{\"type\":\"choropleth\",\"colorbar\":{\"outlinewidth\":0,\"ticks\":\"\"}}],\"histogram2d\":[{\"type\":\"histogram2d\",\"colorbar\":{\"outlinewidth\":0,\"ticks\":\"\"},\"colorscale\":[[0.0,\"#0d0887\"],[0.1111111111111111,\"#46039f\"],[0.2222222222222222,\"#7201a8\"],[0.3333333333333333,\"#9c179e\"],[0.4444444444444444,\"#bd3786\"],[0.5555555555555556,\"#d8576b\"],[0.6666666666666666,\"#ed7953\"],[0.7777777777777778,\"#fb9f3a\"],[0.8888888888888888,\"#fdca26\"],[1.0,\"#f0f921\"]]}],\"heatmap\":[{\"type\":\"heatmap\",\"colorbar\":{\"outlinewidth\":0,\"ticks\":\"\"},\"colorscale\":[[0.0,\"#0d0887\"],[0.1111111111111111,\"#46039f\"],[0.2222222222222222,\"#7201a8\"],[0.3333333333333333,\"#9c179e\"],[0.4444444444444444,\"#bd3786\"],[0.5555555555555556,\"#d8576b\"],[0.6666666666666666,\"#ed7953\"],[0.7777777777777778,\"#fb9f3a\"],[0.8888888888888888,\"#fdca26\"],[1.0,\"#f0f921\"]]}],\"heatmapgl\":[{\"type\":\"heatmapgl\",\"colorbar\":{\"outlinewidth\":0,\"ticks\":\"\"},\"colorscale\":[[0.0,\"#0d0887\"],[0.1111111111111111,\"#46039f\"],[0.2222222222222222,\"#7201a8\"],[0.3333333333333333,\"#9c179e\"],[0.4444444444444444,\"#bd3786\"],[0.5555555555555556,\"#d8576b\"],[0.6666666666666666,\"#ed7953\"],[0.7777777777777778,\"#fb9f3a\"],[0.8888888888888888,\"#fdca26\"],[1.0,\"#f0f921\"]]}],\"contourcarpet\":[{\"type\":\"contourcarpet\",\"colorbar\":{\"outlinewidth\":0,\"ticks\":\"\"}}],\"contour\":[{\"type\":\"contour\",\"colorbar\":{\"outlinewidth\":0,\"ticks\":\"\"},\"colorscale\":[[0.0,\"#0d0887\"],[0.1111111111111111,\"#46039f\"],[0.2222222222222222,\"#7201a8\"],[0.3333333333333333,\"#9c179e\"],[0.4444444444444444,\"#bd3786\"],[0.5555555555555556,\"#d8576b\"],[0.6666666666666666,\"#ed7953\"],[0.7777777777777778,\"#fb9f3a\"],[0.8888888888888888,\"#fdca26\"],[1.0,\"#f0f921\"]]}],\"surface\":[{\"type\":\"surface\",\"colorbar\":{\"outlinewidth\":0,\"ticks\":\"\"},\"colorscale\":[[0.0,\"#0d0887\"],[0.1111111111111111,\"#46039f\"],[0.2222222222222222,\"#7201a8\"],[0.3333333333333333,\"#9c179e\"],[0.4444444444444444,\"#bd3786\"],[0.5555555555555556,\"#d8576b\"],[0.6666666666666666,\"#ed7953\"],[0.7777777777777778,\"#fb9f3a\"],[0.8888888888888888,\"#fdca26\"],[1.0,\"#f0f921\"]]}],\"mesh3d\":[{\"type\":\"mesh3d\",\"colorbar\":{\"outlinewidth\":0,\"ticks\":\"\"}}],\"scatter\":[{\"fillpattern\":{\"fillmode\":\"overlay\",\"size\":10,\"solidity\":0.2},\"type\":\"scatter\"}],\"parcoords\":[{\"type\":\"parcoords\",\"line\":{\"colorbar\":{\"outlinewidth\":0,\"ticks\":\"\"}}}],\"scatterpolargl\":[{\"type\":\"scatterpolargl\",\"marker\":{\"colorbar\":{\"outlinewidth\":0,\"ticks\":\"\"}}}],\"bar\":[{\"error_x\":{\"color\":\"#2a3f5f\"},\"error_y\":{\"color\":\"#2a3f5f\"},\"marker\":{\"line\":{\"color\":\"#E5ECF6\",\"width\":0.5},\"pattern\":{\"fillmode\":\"overlay\",\"size\":10,\"solidity\":0.2}},\"type\":\"bar\"}],\"scattergeo\":[{\"type\":\"scattergeo\",\"marker\":{\"colorbar\":{\"outlinewidth\":0,\"ticks\":\"\"}}}],\"scatterpolar\":[{\"type\":\"scatterpolar\",\"marker\":{\"colorbar\":{\"outlinewidth\":0,\"ticks\":\"\"}}}],\"histogram\":[{\"marker\":{\"pattern\":{\"fillmode\":\"overlay\",\"size\":10,\"solidity\":0.2}},\"type\":\"histogram\"}],\"scattergl\":[{\"type\":\"scattergl\",\"marker\":{\"colorbar\":{\"outlinewidth\":0,\"ticks\":\"\"}}}],\"scatter3d\":[{\"type\":\"scatter3d\",\"line\":{\"colorbar\":{\"outlinewidth\":0,\"ticks\":\"\"}},\"marker\":{\"colorbar\":{\"outlinewidth\":0,\"ticks\":\"\"}}}],\"scattermapbox\":[{\"type\":\"scattermapbox\",\"marker\":{\"colorbar\":{\"outlinewidth\":0,\"ticks\":\"\"}}}],\"scatterternary\":[{\"type\":\"scatterternary\",\"marker\":{\"colorbar\":{\"outlinewidth\":0,\"ticks\":\"\"}}}],\"scattercarpet\":[{\"type\":\"scattercarpet\",\"marker\":{\"colorbar\":{\"outlinewidth\":0,\"ticks\":\"\"}}}],\"carpet\":[{\"aaxis\":{\"endlinecolor\":\"#2a3f5f\",\"gridcolor\":\"white\",\"linecolor\":\"white\",\"minorgridcolor\":\"white\",\"startlinecolor\":\"#2a3f5f\"},\"baxis\":{\"endlinecolor\":\"#2a3f5f\",\"gridcolor\":\"white\",\"linecolor\":\"white\",\"minorgridcolor\":\"white\",\"startlinecolor\":\"#2a3f5f\"},\"type\":\"carpet\"}],\"table\":[{\"cells\":{\"fill\":{\"color\":\"#EBF0F8\"},\"line\":{\"color\":\"white\"}},\"header\":{\"fill\":{\"color\":\"#C8D4E3\"},\"line\":{\"color\":\"white\"}},\"type\":\"table\"}],\"barpolar\":[{\"marker\":{\"line\":{\"color\":\"#E5ECF6\",\"width\":0.5},\"pattern\":{\"fillmode\":\"overlay\",\"size\":10,\"solidity\":0.2}},\"type\":\"barpolar\"}],\"pie\":[{\"automargin\":true,\"type\":\"pie\"}]},\"layout\":{\"autotypenumbers\":\"strict\",\"colorway\":[\"#636efa\",\"#EF553B\",\"#00cc96\",\"#ab63fa\",\"#FFA15A\",\"#19d3f3\",\"#FF6692\",\"#B6E880\",\"#FF97FF\",\"#FECB52\"],\"font\":{\"color\":\"#2a3f5f\"},\"hovermode\":\"closest\",\"hoverlabel\":{\"align\":\"left\"},\"paper_bgcolor\":\"white\",\"plot_bgcolor\":\"#E5ECF6\",\"polar\":{\"bgcolor\":\"#E5ECF6\",\"angularaxis\":{\"gridcolor\":\"white\",\"linecolor\":\"white\",\"ticks\":\"\"},\"radialaxis\":{\"gridcolor\":\"white\",\"linecolor\":\"white\",\"ticks\":\"\"}},\"ternary\":{\"bgcolor\":\"#E5ECF6\",\"aaxis\":{\"gridcolor\":\"white\",\"linecolor\":\"white\",\"ticks\":\"\"},\"baxis\":{\"gridcolor\":\"white\",\"linecolor\":\"white\",\"ticks\":\"\"},\"caxis\":{\"gridcolor\":\"white\",\"linecolor\":\"white\",\"ticks\":\"\"}},\"coloraxis\":{\"colorbar\":{\"outlinewidth\":0,\"ticks\":\"\"}},\"colorscale\":{\"sequential\":[[0.0,\"#0d0887\"],[0.1111111111111111,\"#46039f\"],[0.2222222222222222,\"#7201a8\"],[0.3333333333333333,\"#9c179e\"],[0.4444444444444444,\"#bd3786\"],[0.5555555555555556,\"#d8576b\"],[0.6666666666666666,\"#ed7953\"],[0.7777777777777778,\"#fb9f3a\"],[0.8888888888888888,\"#fdca26\"],[1.0,\"#f0f921\"]],\"sequentialminus\":[[0.0,\"#0d0887\"],[0.1111111111111111,\"#46039f\"],[0.2222222222222222,\"#7201a8\"],[0.3333333333333333,\"#9c179e\"],[0.4444444444444444,\"#bd3786\"],[0.5555555555555556,\"#d8576b\"],[0.6666666666666666,\"#ed7953\"],[0.7777777777777778,\"#fb9f3a\"],[0.8888888888888888,\"#fdca26\"],[1.0,\"#f0f921\"]],\"diverging\":[[0,\"#8e0152\"],[0.1,\"#c51b7d\"],[0.2,\"#de77ae\"],[0.3,\"#f1b6da\"],[0.4,\"#fde0ef\"],[0.5,\"#f7f7f7\"],[0.6,\"#e6f5d0\"],[0.7,\"#b8e186\"],[0.8,\"#7fbc41\"],[0.9,\"#4d9221\"],[1,\"#276419\"]]},\"xaxis\":{\"gridcolor\":\"white\",\"linecolor\":\"white\",\"ticks\":\"\",\"title\":{\"standoff\":15},\"zerolinecolor\":\"white\",\"automargin\":true,\"zerolinewidth\":2},\"yaxis\":{\"gridcolor\":\"white\",\"linecolor\":\"white\",\"ticks\":\"\",\"title\":{\"standoff\":15},\"zerolinecolor\":\"white\",\"automargin\":true,\"zerolinewidth\":2},\"scene\":{\"xaxis\":{\"backgroundcolor\":\"#E5ECF6\",\"gridcolor\":\"white\",\"linecolor\":\"white\",\"showbackground\":true,\"ticks\":\"\",\"zerolinecolor\":\"white\",\"gridwidth\":2},\"yaxis\":{\"backgroundcolor\":\"#E5ECF6\",\"gridcolor\":\"white\",\"linecolor\":\"white\",\"showbackground\":true,\"ticks\":\"\",\"zerolinecolor\":\"white\",\"gridwidth\":2},\"zaxis\":{\"backgroundcolor\":\"#E5ECF6\",\"gridcolor\":\"white\",\"linecolor\":\"white\",\"showbackground\":true,\"ticks\":\"\",\"zerolinecolor\":\"white\",\"gridwidth\":2}},\"shapedefaults\":{\"line\":{\"color\":\"#2a3f5f\"}},\"annotationdefaults\":{\"arrowcolor\":\"#2a3f5f\",\"arrowhead\":0,\"arrowwidth\":1},\"geo\":{\"bgcolor\":\"white\",\"landcolor\":\"#E5ECF6\",\"subunitcolor\":\"white\",\"showland\":true,\"showlakes\":true,\"lakecolor\":\"white\"},\"title\":{\"x\":0.05},\"mapbox\":{\"style\":\"light\"}}},\"xaxis\":{\"anchor\":\"y\",\"domain\":[0.0,1.0],\"title\":{\"text\":\"Month\"}},\"yaxis\":{\"anchor\":\"x\",\"domain\":[0.0,1.0],\"title\":{\"text\":\"Average Rent (AED)\"}},\"legend\":{\"tracegroupgap\":0},\"title\":{\"text\":\"Average Monthly Rent Prices Over Time\"}},                        {\"responsive\": true}                    ).then(function(){\n",
       "                            \n",
       "var gd = document.getElementById('97cc7107-8396-44a9-8dbe-0c3f00f07d67');\n",
       "var x = new MutationObserver(function (mutations, observer) {{\n",
       "        var display = window.getComputedStyle(gd).display;\n",
       "        if (!display || display === 'none') {{\n",
       "            console.log([gd, 'removed!']);\n",
       "            Plotly.purge(gd);\n",
       "            observer.disconnect();\n",
       "        }}\n",
       "}});\n",
       "\n",
       "// Listen for the removal of the full notebook cells\n",
       "var notebookContainer = gd.closest('#notebook-container');\n",
       "if (notebookContainer) {{\n",
       "    x.observe(notebookContainer, {childList: true});\n",
       "}}\n",
       "\n",
       "// Listen for the clearing of the current output cell\n",
       "var outputEl = gd.closest('.output');\n",
       "if (outputEl) {{\n",
       "    x.observe(outputEl, {childList: true});\n",
       "}}\n",
       "\n",
       "                        })                };                });            </script>        </div>"
      ]
     },
     "metadata": {},
     "output_type": "display_data"
    }
   ],
   "source": [
    "train_data['Posted_date'] = pd.to_datetime(train_data['Posted_date'])\n",
    "rental_trend = train_data.groupby(train_data['Posted_date'].dt.to_period('M'))['Rent'].mean().reset_index()\n",
    "rental_trend['Posted_date'] = rental_trend['Posted_date'].astype(str)  # Convert Period to string\n",
    "\n",
    "fig = px.line(rental_trend, x='Posted_date', y='Rent', \n",
    "              title='Average Monthly Rent Prices Over Time', \n",
    "              labels={'Posted_date': 'Month', 'Rent': 'Average Rent (AED)'})\n",
    "\n",
    "fig.show()"
   ]
  },
  {
   "cell_type": "code",
   "execution_count": 87,
   "id": "83ddde2f-6f04-464e-ad43-e2cfce82363f",
   "metadata": {},
   "outputs": [],
   "source": [
    "train_data[\"Posted_day\"] = pd.to_datetime(train_data.Posted_date, format=\"%Y-%m-%d\").dt.day\n",
    "train_data[\"Posted_month\"] = pd.to_datetime(train_data.Posted_date, format=\"%Y-%m-%d\").dt.month\n",
    "train_data[\"Posted_year\"] = pd.to_datetime(train_data.Posted_date, format=\"%Y-%m-%d\").dt.year"
   ]
  },
  {
   "cell_type": "code",
   "execution_count": 88,
   "id": "17af57e1-48bd-4961-b5d2-87c2fcc955d0",
   "metadata": {},
   "outputs": [
    {
     "data": {
      "text/html": [
       "<div>\n",
       "<style scoped>\n",
       "    .dataframe tbody tr th:only-of-type {\n",
       "        vertical-align: middle;\n",
       "    }\n",
       "\n",
       "    .dataframe tbody tr th {\n",
       "        vertical-align: top;\n",
       "    }\n",
       "\n",
       "    .dataframe thead th {\n",
       "        text-align: right;\n",
       "    }\n",
       "</style>\n",
       "<table border=\"1\" class=\"dataframe\">\n",
       "  <thead>\n",
       "    <tr style=\"text-align: right;\">\n",
       "      <th></th>\n",
       "      <th>Address</th>\n",
       "      <th>Rent</th>\n",
       "      <th>Beds</th>\n",
       "      <th>Baths</th>\n",
       "      <th>Type</th>\n",
       "      <th>Area_in_sqft</th>\n",
       "      <th>Rent_per_sqft</th>\n",
       "      <th>Rent_category</th>\n",
       "      <th>Frequency</th>\n",
       "      <th>Furnishing</th>\n",
       "      <th>Purpose</th>\n",
       "      <th>Posted_date</th>\n",
       "      <th>Age_of_listing_in_days</th>\n",
       "      <th>Location</th>\n",
       "      <th>City</th>\n",
       "      <th>Latitude</th>\n",
       "      <th>Longitude</th>\n",
       "      <th>Posted_day</th>\n",
       "      <th>Posted_month</th>\n",
       "      <th>Posted_year</th>\n",
       "    </tr>\n",
       "  </thead>\n",
       "  <tbody>\n",
       "    <tr>\n",
       "      <th>0</th>\n",
       "      <td>The Gate Tower 2, The Gate Tower, Shams Gate D...</td>\n",
       "      <td>124000</td>\n",
       "      <td>3</td>\n",
       "      <td>4</td>\n",
       "      <td>Apartment</td>\n",
       "      <td>1785</td>\n",
       "      <td>69.467787</td>\n",
       "      <td>Medium</td>\n",
       "      <td>Yearly</td>\n",
       "      <td>Unfurnished</td>\n",
       "      <td>For Rent</td>\n",
       "      <td>2024-03-07</td>\n",
       "      <td>45</td>\n",
       "      <td>Al Reem Island</td>\n",
       "      <td>Abu Dhabi</td>\n",
       "      <td>24.493598</td>\n",
       "      <td>54.407841</td>\n",
       "      <td>7</td>\n",
       "      <td>3</td>\n",
       "      <td>2024</td>\n",
       "    </tr>\n",
       "    <tr>\n",
       "      <th>1</th>\n",
       "      <td>Water's Edge, Yas Island, Abu Dhabi</td>\n",
       "      <td>140000</td>\n",
       "      <td>3</td>\n",
       "      <td>4</td>\n",
       "      <td>Apartment</td>\n",
       "      <td>1422</td>\n",
       "      <td>98.452883</td>\n",
       "      <td>Medium</td>\n",
       "      <td>Yearly</td>\n",
       "      <td>Unfurnished</td>\n",
       "      <td>For Rent</td>\n",
       "      <td>2024-03-08</td>\n",
       "      <td>44</td>\n",
       "      <td>Yas Island</td>\n",
       "      <td>Abu Dhabi</td>\n",
       "      <td>24.494022</td>\n",
       "      <td>54.607372</td>\n",
       "      <td>8</td>\n",
       "      <td>3</td>\n",
       "      <td>2024</td>\n",
       "    </tr>\n",
       "    <tr>\n",
       "      <th>2</th>\n",
       "      <td>Al Raha Lofts, Al Raha Beach, Abu Dhabi</td>\n",
       "      <td>99000</td>\n",
       "      <td>2</td>\n",
       "      <td>3</td>\n",
       "      <td>Apartment</td>\n",
       "      <td>1314</td>\n",
       "      <td>75.342466</td>\n",
       "      <td>Medium</td>\n",
       "      <td>Yearly</td>\n",
       "      <td>Furnished</td>\n",
       "      <td>For Rent</td>\n",
       "      <td>2024-03-21</td>\n",
       "      <td>31</td>\n",
       "      <td>Al Raha Beach</td>\n",
       "      <td>Abu Dhabi</td>\n",
       "      <td>24.485931</td>\n",
       "      <td>54.600939</td>\n",
       "      <td>21</td>\n",
       "      <td>3</td>\n",
       "      <td>2024</td>\n",
       "    </tr>\n",
       "    <tr>\n",
       "      <th>3</th>\n",
       "      <td>Marina Heights, Marina Square, Al Reem Island,...</td>\n",
       "      <td>220000</td>\n",
       "      <td>3</td>\n",
       "      <td>4</td>\n",
       "      <td>Penthouse</td>\n",
       "      <td>3843</td>\n",
       "      <td>57.246942</td>\n",
       "      <td>High</td>\n",
       "      <td>Yearly</td>\n",
       "      <td>Unfurnished</td>\n",
       "      <td>For Rent</td>\n",
       "      <td>2024-02-24</td>\n",
       "      <td>57</td>\n",
       "      <td>Al Reem Island</td>\n",
       "      <td>Abu Dhabi</td>\n",
       "      <td>24.493598</td>\n",
       "      <td>54.407841</td>\n",
       "      <td>24</td>\n",
       "      <td>2</td>\n",
       "      <td>2024</td>\n",
       "    </tr>\n",
       "    <tr>\n",
       "      <th>4</th>\n",
       "      <td>West Yas, Yas Island, Abu Dhabi</td>\n",
       "      <td>350000</td>\n",
       "      <td>5</td>\n",
       "      <td>7</td>\n",
       "      <td>Villa</td>\n",
       "      <td>6860</td>\n",
       "      <td>51.020408</td>\n",
       "      <td>High</td>\n",
       "      <td>Yearly</td>\n",
       "      <td>Unfurnished</td>\n",
       "      <td>For Rent</td>\n",
       "      <td>2024-02-16</td>\n",
       "      <td>65</td>\n",
       "      <td>Yas Island</td>\n",
       "      <td>Abu Dhabi</td>\n",
       "      <td>24.494022</td>\n",
       "      <td>54.607372</td>\n",
       "      <td>16</td>\n",
       "      <td>2</td>\n",
       "      <td>2024</td>\n",
       "    </tr>\n",
       "  </tbody>\n",
       "</table>\n",
       "</div>"
      ],
      "text/plain": [
       "                                             Address    Rent  Beds  Baths  \\\n",
       "0  The Gate Tower 2, The Gate Tower, Shams Gate D...  124000     3      4   \n",
       "1                Water's Edge, Yas Island, Abu Dhabi  140000     3      4   \n",
       "2            Al Raha Lofts, Al Raha Beach, Abu Dhabi   99000     2      3   \n",
       "3  Marina Heights, Marina Square, Al Reem Island,...  220000     3      4   \n",
       "4                    West Yas, Yas Island, Abu Dhabi  350000     5      7   \n",
       "\n",
       "        Type  Area_in_sqft  Rent_per_sqft Rent_category Frequency  \\\n",
       "0  Apartment          1785      69.467787        Medium    Yearly   \n",
       "1  Apartment          1422      98.452883        Medium    Yearly   \n",
       "2  Apartment          1314      75.342466        Medium    Yearly   \n",
       "3  Penthouse          3843      57.246942          High    Yearly   \n",
       "4      Villa          6860      51.020408          High    Yearly   \n",
       "\n",
       "    Furnishing   Purpose Posted_date  Age_of_listing_in_days        Location  \\\n",
       "0  Unfurnished  For Rent  2024-03-07                      45  Al Reem Island   \n",
       "1  Unfurnished  For Rent  2024-03-08                      44      Yas Island   \n",
       "2    Furnished  For Rent  2024-03-21                      31   Al Raha Beach   \n",
       "3  Unfurnished  For Rent  2024-02-24                      57  Al Reem Island   \n",
       "4  Unfurnished  For Rent  2024-02-16                      65      Yas Island   \n",
       "\n",
       "        City   Latitude  Longitude  Posted_day  Posted_month  Posted_year  \n",
       "0  Abu Dhabi  24.493598  54.407841           7             3         2024  \n",
       "1  Abu Dhabi  24.494022  54.607372           8             3         2024  \n",
       "2  Abu Dhabi  24.485931  54.600939          21             3         2024  \n",
       "3  Abu Dhabi  24.493598  54.407841          24             2         2024  \n",
       "4  Abu Dhabi  24.494022  54.607372          16             2         2024  "
      ]
     },
     "execution_count": 88,
     "metadata": {},
     "output_type": "execute_result"
    }
   ],
   "source": [
    "train_data.head()"
   ]
  },
  {
   "cell_type": "code",
   "execution_count": 89,
   "id": "973443bf-0315-4e4d-9634-f983892392ab",
   "metadata": {},
   "outputs": [],
   "source": [
    "train_data.drop([\"Posted_date\"], axis = 1, inplace = True)"
   ]
  },
  {
   "cell_type": "code",
   "execution_count": 90,
   "id": "f55220bb-aae3-4907-8237-da3302cd03f4",
   "metadata": {},
   "outputs": [],
   "source": [
    "train_data.replace({\"Unfurnished\": 0, \"Furnished\": 1}, inplace = True)\n",
    "train_data.drop([\"Frequency\"], axis = 1, inplace = True)\n",
    "train_data.drop([\"Purpose\"], axis = 1, inplace = True)"
   ]
  },
  {
   "cell_type": "code",
   "execution_count": 91,
   "id": "3f5a8418-dffe-47cf-8e92-b87875bc11d1",
   "metadata": {},
   "outputs": [
    {
     "data": {
      "text/plain": [
       "Location\n",
       "Al Reem Island                   3668\n",
       "Jumeirah Village Circle (JVC)    3117\n",
       "Downtown Dubai                   3003\n",
       "Khalifa City                     2751\n",
       "Dubai Marina                     2600\n",
       "                                 ... \n",
       "Mina Al Fajer                       1\n",
       "Gurfah Area                         1\n",
       "Oud Al Muteena                      1\n",
       "Al Lisaili                          1\n",
       "Al Dar Al Baida                     1\n",
       "Name: count, Length: 441, dtype: int64"
      ]
     },
     "execution_count": 91,
     "metadata": {},
     "output_type": "execute_result"
    }
   ],
   "source": [
    "train_data[\"Location\"].value_counts()"
   ]
  },
  {
   "cell_type": "code",
   "execution_count": 92,
   "id": "e8230c27-5578-40a8-af79-6445c02e6222",
   "metadata": {},
   "outputs": [],
   "source": [
    "from sklearn.preprocessing import OrdinalEncoder\n",
    "# Create a OrdialEncoder object\n",
    "ordinal_encoder = OrdinalEncoder(categories=[[\"Low\",\"Medium\",\"High\"]])\n",
    "\n",
    "# Specify the column to be encoded\n",
    "column_to_encode = 'Rent_category'\n",
    "\n",
    "# Apply the label encoder to the specified column\n",
    "train_data[column_to_encode] = ordinal_encoder.fit_transform(train_data[[column_to_encode]])"
   ]
  },
  {
   "cell_type": "code",
   "execution_count": 93,
   "id": "4e757d89-3b9b-499b-a285-6921b232e9d1",
   "metadata": {},
   "outputs": [
    {
     "data": {
      "text/html": [
       "<div>\n",
       "<style scoped>\n",
       "    .dataframe tbody tr th:only-of-type {\n",
       "        vertical-align: middle;\n",
       "    }\n",
       "\n",
       "    .dataframe tbody tr th {\n",
       "        vertical-align: top;\n",
       "    }\n",
       "\n",
       "    .dataframe thead th {\n",
       "        text-align: right;\n",
       "    }\n",
       "</style>\n",
       "<table border=\"1\" class=\"dataframe\">\n",
       "  <thead>\n",
       "    <tr style=\"text-align: right;\">\n",
       "      <th></th>\n",
       "      <th>Address</th>\n",
       "      <th>Rent</th>\n",
       "      <th>Beds</th>\n",
       "      <th>Baths</th>\n",
       "      <th>Type</th>\n",
       "      <th>Area_in_sqft</th>\n",
       "      <th>Rent_per_sqft</th>\n",
       "      <th>Rent_category</th>\n",
       "      <th>Furnishing</th>\n",
       "      <th>Age_of_listing_in_days</th>\n",
       "      <th>Location</th>\n",
       "      <th>City</th>\n",
       "      <th>Latitude</th>\n",
       "      <th>Longitude</th>\n",
       "      <th>Posted_day</th>\n",
       "      <th>Posted_month</th>\n",
       "      <th>Posted_year</th>\n",
       "    </tr>\n",
       "  </thead>\n",
       "  <tbody>\n",
       "    <tr>\n",
       "      <th>0</th>\n",
       "      <td>The Gate Tower 2, The Gate Tower, Shams Gate D...</td>\n",
       "      <td>124000</td>\n",
       "      <td>3</td>\n",
       "      <td>4</td>\n",
       "      <td>Apartment</td>\n",
       "      <td>1785</td>\n",
       "      <td>69.467787</td>\n",
       "      <td>1.0</td>\n",
       "      <td>0</td>\n",
       "      <td>45</td>\n",
       "      <td>Al Reem Island</td>\n",
       "      <td>Abu Dhabi</td>\n",
       "      <td>24.493598</td>\n",
       "      <td>54.407841</td>\n",
       "      <td>7</td>\n",
       "      <td>3</td>\n",
       "      <td>2024</td>\n",
       "    </tr>\n",
       "    <tr>\n",
       "      <th>1</th>\n",
       "      <td>Water's Edge, Yas Island, Abu Dhabi</td>\n",
       "      <td>140000</td>\n",
       "      <td>3</td>\n",
       "      <td>4</td>\n",
       "      <td>Apartment</td>\n",
       "      <td>1422</td>\n",
       "      <td>98.452883</td>\n",
       "      <td>1.0</td>\n",
       "      <td>0</td>\n",
       "      <td>44</td>\n",
       "      <td>Yas Island</td>\n",
       "      <td>Abu Dhabi</td>\n",
       "      <td>24.494022</td>\n",
       "      <td>54.607372</td>\n",
       "      <td>8</td>\n",
       "      <td>3</td>\n",
       "      <td>2024</td>\n",
       "    </tr>\n",
       "    <tr>\n",
       "      <th>2</th>\n",
       "      <td>Al Raha Lofts, Al Raha Beach, Abu Dhabi</td>\n",
       "      <td>99000</td>\n",
       "      <td>2</td>\n",
       "      <td>3</td>\n",
       "      <td>Apartment</td>\n",
       "      <td>1314</td>\n",
       "      <td>75.342466</td>\n",
       "      <td>1.0</td>\n",
       "      <td>1</td>\n",
       "      <td>31</td>\n",
       "      <td>Al Raha Beach</td>\n",
       "      <td>Abu Dhabi</td>\n",
       "      <td>24.485931</td>\n",
       "      <td>54.600939</td>\n",
       "      <td>21</td>\n",
       "      <td>3</td>\n",
       "      <td>2024</td>\n",
       "    </tr>\n",
       "    <tr>\n",
       "      <th>3</th>\n",
       "      <td>Marina Heights, Marina Square, Al Reem Island,...</td>\n",
       "      <td>220000</td>\n",
       "      <td>3</td>\n",
       "      <td>4</td>\n",
       "      <td>Penthouse</td>\n",
       "      <td>3843</td>\n",
       "      <td>57.246942</td>\n",
       "      <td>2.0</td>\n",
       "      <td>0</td>\n",
       "      <td>57</td>\n",
       "      <td>Al Reem Island</td>\n",
       "      <td>Abu Dhabi</td>\n",
       "      <td>24.493598</td>\n",
       "      <td>54.407841</td>\n",
       "      <td>24</td>\n",
       "      <td>2</td>\n",
       "      <td>2024</td>\n",
       "    </tr>\n",
       "    <tr>\n",
       "      <th>4</th>\n",
       "      <td>West Yas, Yas Island, Abu Dhabi</td>\n",
       "      <td>350000</td>\n",
       "      <td>5</td>\n",
       "      <td>7</td>\n",
       "      <td>Villa</td>\n",
       "      <td>6860</td>\n",
       "      <td>51.020408</td>\n",
       "      <td>2.0</td>\n",
       "      <td>0</td>\n",
       "      <td>65</td>\n",
       "      <td>Yas Island</td>\n",
       "      <td>Abu Dhabi</td>\n",
       "      <td>24.494022</td>\n",
       "      <td>54.607372</td>\n",
       "      <td>16</td>\n",
       "      <td>2</td>\n",
       "      <td>2024</td>\n",
       "    </tr>\n",
       "  </tbody>\n",
       "</table>\n",
       "</div>"
      ],
      "text/plain": [
       "                                             Address    Rent  Beds  Baths  \\\n",
       "0  The Gate Tower 2, The Gate Tower, Shams Gate D...  124000     3      4   \n",
       "1                Water's Edge, Yas Island, Abu Dhabi  140000     3      4   \n",
       "2            Al Raha Lofts, Al Raha Beach, Abu Dhabi   99000     2      3   \n",
       "3  Marina Heights, Marina Square, Al Reem Island,...  220000     3      4   \n",
       "4                    West Yas, Yas Island, Abu Dhabi  350000     5      7   \n",
       "\n",
       "        Type  Area_in_sqft  Rent_per_sqft  Rent_category  Furnishing  \\\n",
       "0  Apartment          1785      69.467787            1.0           0   \n",
       "1  Apartment          1422      98.452883            1.0           0   \n",
       "2  Apartment          1314      75.342466            1.0           1   \n",
       "3  Penthouse          3843      57.246942            2.0           0   \n",
       "4      Villa          6860      51.020408            2.0           0   \n",
       "\n",
       "   Age_of_listing_in_days        Location       City   Latitude  Longitude  \\\n",
       "0                      45  Al Reem Island  Abu Dhabi  24.493598  54.407841   \n",
       "1                      44      Yas Island  Abu Dhabi  24.494022  54.607372   \n",
       "2                      31   Al Raha Beach  Abu Dhabi  24.485931  54.600939   \n",
       "3                      57  Al Reem Island  Abu Dhabi  24.493598  54.407841   \n",
       "4                      65      Yas Island  Abu Dhabi  24.494022  54.607372   \n",
       "\n",
       "   Posted_day  Posted_month  Posted_year  \n",
       "0           7             3         2024  \n",
       "1           8             3         2024  \n",
       "2          21             3         2024  \n",
       "3          24             2         2024  \n",
       "4          16             2         2024  "
      ]
     },
     "execution_count": 93,
     "metadata": {},
     "output_type": "execute_result"
    }
   ],
   "source": [
    "train_data.head()"
   ]
  },
  {
   "cell_type": "code",
   "execution_count": 94,
   "id": "30d0e2aa-57fc-409f-acd4-677bad297e0c",
   "metadata": {},
   "outputs": [],
   "source": [
    "from sklearn.preprocessing import LabelEncoder\n",
    "# Create a LabelEncoder object\n",
    "Label_encoder = LabelEncoder()\n",
    "\n",
    "# Specify the column to be encoded\n",
    "column_to_encode = ['Type','Location','Address']\n",
    "\n",
    "for column in column_to_encode:\n",
    "    train_data[column] = Label_encoder.fit_transform(train_data[column])"
   ]
  },
  {
   "cell_type": "code",
   "execution_count": 95,
   "id": "83e92c33-d44b-43c3-b10e-49536afade02",
   "metadata": {},
   "outputs": [
    {
     "data": {
      "text/html": [
       "<div>\n",
       "<style scoped>\n",
       "    .dataframe tbody tr th:only-of-type {\n",
       "        vertical-align: middle;\n",
       "    }\n",
       "\n",
       "    .dataframe tbody tr th {\n",
       "        vertical-align: top;\n",
       "    }\n",
       "\n",
       "    .dataframe thead th {\n",
       "        text-align: right;\n",
       "    }\n",
       "</style>\n",
       "<table border=\"1\" class=\"dataframe\">\n",
       "  <thead>\n",
       "    <tr style=\"text-align: right;\">\n",
       "      <th></th>\n",
       "      <th>Address</th>\n",
       "      <th>Rent</th>\n",
       "      <th>Beds</th>\n",
       "      <th>Baths</th>\n",
       "      <th>Type</th>\n",
       "      <th>Area_in_sqft</th>\n",
       "      <th>Rent_per_sqft</th>\n",
       "      <th>Rent_category</th>\n",
       "      <th>Furnishing</th>\n",
       "      <th>Age_of_listing_in_days</th>\n",
       "      <th>Location</th>\n",
       "      <th>City</th>\n",
       "      <th>Latitude</th>\n",
       "      <th>Longitude</th>\n",
       "      <th>Posted_day</th>\n",
       "      <th>Posted_month</th>\n",
       "      <th>Posted_year</th>\n",
       "    </tr>\n",
       "  </thead>\n",
       "  <tbody>\n",
       "    <tr>\n",
       "      <th>0</th>\n",
       "      <td>4023</td>\n",
       "      <td>124000</td>\n",
       "      <td>3</td>\n",
       "      <td>4</td>\n",
       "      <td>0</td>\n",
       "      <td>1785</td>\n",
       "      <td>69.467787</td>\n",
       "      <td>1.0</td>\n",
       "      <td>0</td>\n",
       "      <td>45</td>\n",
       "      <td>167</td>\n",
       "      <td>Abu Dhabi</td>\n",
       "      <td>24.493598</td>\n",
       "      <td>54.407841</td>\n",
       "      <td>7</td>\n",
       "      <td>3</td>\n",
       "      <td>2024</td>\n",
       "    </tr>\n",
       "    <tr>\n",
       "      <th>1</th>\n",
       "      <td>4344</td>\n",
       "      <td>140000</td>\n",
       "      <td>3</td>\n",
       "      <td>4</td>\n",
       "      <td>0</td>\n",
       "      <td>1422</td>\n",
       "      <td>98.452883</td>\n",
       "      <td>1.0</td>\n",
       "      <td>0</td>\n",
       "      <td>44</td>\n",
       "      <td>435</td>\n",
       "      <td>Abu Dhabi</td>\n",
       "      <td>24.494022</td>\n",
       "      <td>54.607372</td>\n",
       "      <td>8</td>\n",
       "      <td>3</td>\n",
       "      <td>2024</td>\n",
       "    </tr>\n",
       "    <tr>\n",
       "      <th>2</th>\n",
       "      <td>706</td>\n",
       "      <td>99000</td>\n",
       "      <td>2</td>\n",
       "      <td>3</td>\n",
       "      <td>0</td>\n",
       "      <td>1314</td>\n",
       "      <td>75.342466</td>\n",
       "      <td>1.0</td>\n",
       "      <td>1</td>\n",
       "      <td>31</td>\n",
       "      <td>149</td>\n",
       "      <td>Abu Dhabi</td>\n",
       "      <td>24.485931</td>\n",
       "      <td>54.600939</td>\n",
       "      <td>21</td>\n",
       "      <td>3</td>\n",
       "      <td>2024</td>\n",
       "    </tr>\n",
       "    <tr>\n",
       "      <th>3</th>\n",
       "      <td>2773</td>\n",
       "      <td>220000</td>\n",
       "      <td>3</td>\n",
       "      <td>4</td>\n",
       "      <td>2</td>\n",
       "      <td>3843</td>\n",
       "      <td>57.246942</td>\n",
       "      <td>2.0</td>\n",
       "      <td>0</td>\n",
       "      <td>57</td>\n",
       "      <td>167</td>\n",
       "      <td>Abu Dhabi</td>\n",
       "      <td>24.493598</td>\n",
       "      <td>54.407841</td>\n",
       "      <td>24</td>\n",
       "      <td>2</td>\n",
       "      <td>2024</td>\n",
       "    </tr>\n",
       "    <tr>\n",
       "      <th>4</th>\n",
       "      <td>4358</td>\n",
       "      <td>350000</td>\n",
       "      <td>5</td>\n",
       "      <td>7</td>\n",
       "      <td>7</td>\n",
       "      <td>6860</td>\n",
       "      <td>51.020408</td>\n",
       "      <td>2.0</td>\n",
       "      <td>0</td>\n",
       "      <td>65</td>\n",
       "      <td>435</td>\n",
       "      <td>Abu Dhabi</td>\n",
       "      <td>24.494022</td>\n",
       "      <td>54.607372</td>\n",
       "      <td>16</td>\n",
       "      <td>2</td>\n",
       "      <td>2024</td>\n",
       "    </tr>\n",
       "  </tbody>\n",
       "</table>\n",
       "</div>"
      ],
      "text/plain": [
       "   Address    Rent  Beds  Baths  Type  Area_in_sqft  Rent_per_sqft  \\\n",
       "0     4023  124000     3      4     0          1785      69.467787   \n",
       "1     4344  140000     3      4     0          1422      98.452883   \n",
       "2      706   99000     2      3     0          1314      75.342466   \n",
       "3     2773  220000     3      4     2          3843      57.246942   \n",
       "4     4358  350000     5      7     7          6860      51.020408   \n",
       "\n",
       "   Rent_category  Furnishing  Age_of_listing_in_days  Location       City  \\\n",
       "0            1.0           0                      45       167  Abu Dhabi   \n",
       "1            1.0           0                      44       435  Abu Dhabi   \n",
       "2            1.0           1                      31       149  Abu Dhabi   \n",
       "3            2.0           0                      57       167  Abu Dhabi   \n",
       "4            2.0           0                      65       435  Abu Dhabi   \n",
       "\n",
       "    Latitude  Longitude  Posted_day  Posted_month  Posted_year  \n",
       "0  24.493598  54.407841           7             3         2024  \n",
       "1  24.494022  54.607372           8             3         2024  \n",
       "2  24.485931  54.600939          21             3         2024  \n",
       "3  24.493598  54.407841          24             2         2024  \n",
       "4  24.494022  54.607372          16             2         2024  "
      ]
     },
     "execution_count": 95,
     "metadata": {},
     "output_type": "execute_result"
    }
   ],
   "source": [
    "train_data.head()"
   ]
  },
  {
   "cell_type": "code",
   "execution_count": 96,
   "id": "8dae4d49-ce3e-4816-83e2-9c6a40943872",
   "metadata": {},
   "outputs": [
    {
     "data": {
      "text/html": [
       "<div>\n",
       "<style scoped>\n",
       "    .dataframe tbody tr th:only-of-type {\n",
       "        vertical-align: middle;\n",
       "    }\n",
       "\n",
       "    .dataframe tbody tr th {\n",
       "        vertical-align: top;\n",
       "    }\n",
       "\n",
       "    .dataframe thead th {\n",
       "        text-align: right;\n",
       "    }\n",
       "</style>\n",
       "<table border=\"1\" class=\"dataframe\">\n",
       "  <thead>\n",
       "    <tr style=\"text-align: right;\">\n",
       "      <th></th>\n",
       "      <th>City_Ajman</th>\n",
       "      <th>City_Al Ain</th>\n",
       "      <th>City_Dubai</th>\n",
       "      <th>City_Fujairah</th>\n",
       "      <th>City_Ras Al Khaimah</th>\n",
       "      <th>City_Sharjah</th>\n",
       "      <th>City_Umm Al Quwain</th>\n",
       "    </tr>\n",
       "  </thead>\n",
       "  <tbody>\n",
       "    <tr>\n",
       "      <th>0</th>\n",
       "      <td>0</td>\n",
       "      <td>0</td>\n",
       "      <td>0</td>\n",
       "      <td>0</td>\n",
       "      <td>0</td>\n",
       "      <td>0</td>\n",
       "      <td>0</td>\n",
       "    </tr>\n",
       "    <tr>\n",
       "      <th>1</th>\n",
       "      <td>0</td>\n",
       "      <td>0</td>\n",
       "      <td>0</td>\n",
       "      <td>0</td>\n",
       "      <td>0</td>\n",
       "      <td>0</td>\n",
       "      <td>0</td>\n",
       "    </tr>\n",
       "    <tr>\n",
       "      <th>2</th>\n",
       "      <td>0</td>\n",
       "      <td>0</td>\n",
       "      <td>0</td>\n",
       "      <td>0</td>\n",
       "      <td>0</td>\n",
       "      <td>0</td>\n",
       "      <td>0</td>\n",
       "    </tr>\n",
       "    <tr>\n",
       "      <th>3</th>\n",
       "      <td>0</td>\n",
       "      <td>0</td>\n",
       "      <td>0</td>\n",
       "      <td>0</td>\n",
       "      <td>0</td>\n",
       "      <td>0</td>\n",
       "      <td>0</td>\n",
       "    </tr>\n",
       "    <tr>\n",
       "      <th>4</th>\n",
       "      <td>0</td>\n",
       "      <td>0</td>\n",
       "      <td>0</td>\n",
       "      <td>0</td>\n",
       "      <td>0</td>\n",
       "      <td>0</td>\n",
       "      <td>0</td>\n",
       "    </tr>\n",
       "  </tbody>\n",
       "</table>\n",
       "</div>"
      ],
      "text/plain": [
       "   City_Ajman  City_Al Ain  City_Dubai  City_Fujairah  City_Ras Al Khaimah  \\\n",
       "0           0            0           0              0                    0   \n",
       "1           0            0           0              0                    0   \n",
       "2           0            0           0              0                    0   \n",
       "3           0            0           0              0                    0   \n",
       "4           0            0           0              0                    0   \n",
       "\n",
       "   City_Sharjah  City_Umm Al Quwain  \n",
       "0             0                   0  \n",
       "1             0                   0  \n",
       "2             0                   0  \n",
       "3             0                   0  \n",
       "4             0                   0  "
      ]
     },
     "execution_count": 96,
     "metadata": {},
     "output_type": "execute_result"
    }
   ],
   "source": [
    "City = train_data[[\"City\"]]\n",
    "City = pd.get_dummies(City, drop_first = True)\n",
    "City=City.astype(int)\n",
    "City.head()"
   ]
  },
  {
   "cell_type": "code",
   "execution_count": 97,
   "id": "a5cea3d8-4445-4119-bfed-82915ed557c6",
   "metadata": {},
   "outputs": [],
   "source": [
    "train_data.drop([\"City\"], axis = 1, inplace = True)"
   ]
  },
  {
   "cell_type": "code",
   "execution_count": 98,
   "id": "3637e072-e04f-412b-8abb-e5b61678192a",
   "metadata": {},
   "outputs": [],
   "source": [
    "data=pd.concat([train_data,City],axis=1)"
   ]
  },
  {
   "cell_type": "code",
   "execution_count": 99,
   "id": "e7a8c058-f931-40c6-8bea-c5ac70b3da27",
   "metadata": {},
   "outputs": [],
   "source": [
    "col = data.pop('Rent')\n",
    "data.insert(22, 'Rent', col)"
   ]
  },
  {
   "cell_type": "code",
   "execution_count": 100,
   "id": "310ba8ab-ff1a-4e05-b426-e3ddd9e65398",
   "metadata": {},
   "outputs": [
    {
     "data": {
      "text/html": [
       "<div>\n",
       "<style scoped>\n",
       "    .dataframe tbody tr th:only-of-type {\n",
       "        vertical-align: middle;\n",
       "    }\n",
       "\n",
       "    .dataframe tbody tr th {\n",
       "        vertical-align: top;\n",
       "    }\n",
       "\n",
       "    .dataframe thead th {\n",
       "        text-align: right;\n",
       "    }\n",
       "</style>\n",
       "<table border=\"1\" class=\"dataframe\">\n",
       "  <thead>\n",
       "    <tr style=\"text-align: right;\">\n",
       "      <th></th>\n",
       "      <th>Address</th>\n",
       "      <th>Beds</th>\n",
       "      <th>Baths</th>\n",
       "      <th>Type</th>\n",
       "      <th>Area_in_sqft</th>\n",
       "      <th>Rent_per_sqft</th>\n",
       "      <th>Rent_category</th>\n",
       "      <th>Furnishing</th>\n",
       "      <th>Age_of_listing_in_days</th>\n",
       "      <th>Location</th>\n",
       "      <th>Latitude</th>\n",
       "      <th>Longitude</th>\n",
       "      <th>Posted_day</th>\n",
       "      <th>Posted_month</th>\n",
       "      <th>Posted_year</th>\n",
       "      <th>City_Ajman</th>\n",
       "      <th>City_Al Ain</th>\n",
       "      <th>City_Dubai</th>\n",
       "      <th>City_Fujairah</th>\n",
       "      <th>City_Ras Al Khaimah</th>\n",
       "      <th>City_Sharjah</th>\n",
       "      <th>City_Umm Al Quwain</th>\n",
       "      <th>Rent</th>\n",
       "    </tr>\n",
       "  </thead>\n",
       "  <tbody>\n",
       "    <tr>\n",
       "      <th>0</th>\n",
       "      <td>4023</td>\n",
       "      <td>3</td>\n",
       "      <td>4</td>\n",
       "      <td>0</td>\n",
       "      <td>1785</td>\n",
       "      <td>69.467787</td>\n",
       "      <td>1.0</td>\n",
       "      <td>0</td>\n",
       "      <td>45</td>\n",
       "      <td>167</td>\n",
       "      <td>24.493598</td>\n",
       "      <td>54.407841</td>\n",
       "      <td>7</td>\n",
       "      <td>3</td>\n",
       "      <td>2024</td>\n",
       "      <td>0</td>\n",
       "      <td>0</td>\n",
       "      <td>0</td>\n",
       "      <td>0</td>\n",
       "      <td>0</td>\n",
       "      <td>0</td>\n",
       "      <td>0</td>\n",
       "      <td>124000</td>\n",
       "    </tr>\n",
       "    <tr>\n",
       "      <th>1</th>\n",
       "      <td>4344</td>\n",
       "      <td>3</td>\n",
       "      <td>4</td>\n",
       "      <td>0</td>\n",
       "      <td>1422</td>\n",
       "      <td>98.452883</td>\n",
       "      <td>1.0</td>\n",
       "      <td>0</td>\n",
       "      <td>44</td>\n",
       "      <td>435</td>\n",
       "      <td>24.494022</td>\n",
       "      <td>54.607372</td>\n",
       "      <td>8</td>\n",
       "      <td>3</td>\n",
       "      <td>2024</td>\n",
       "      <td>0</td>\n",
       "      <td>0</td>\n",
       "      <td>0</td>\n",
       "      <td>0</td>\n",
       "      <td>0</td>\n",
       "      <td>0</td>\n",
       "      <td>0</td>\n",
       "      <td>140000</td>\n",
       "    </tr>\n",
       "    <tr>\n",
       "      <th>2</th>\n",
       "      <td>706</td>\n",
       "      <td>2</td>\n",
       "      <td>3</td>\n",
       "      <td>0</td>\n",
       "      <td>1314</td>\n",
       "      <td>75.342466</td>\n",
       "      <td>1.0</td>\n",
       "      <td>1</td>\n",
       "      <td>31</td>\n",
       "      <td>149</td>\n",
       "      <td>24.485931</td>\n",
       "      <td>54.600939</td>\n",
       "      <td>21</td>\n",
       "      <td>3</td>\n",
       "      <td>2024</td>\n",
       "      <td>0</td>\n",
       "      <td>0</td>\n",
       "      <td>0</td>\n",
       "      <td>0</td>\n",
       "      <td>0</td>\n",
       "      <td>0</td>\n",
       "      <td>0</td>\n",
       "      <td>99000</td>\n",
       "    </tr>\n",
       "    <tr>\n",
       "      <th>3</th>\n",
       "      <td>2773</td>\n",
       "      <td>3</td>\n",
       "      <td>4</td>\n",
       "      <td>2</td>\n",
       "      <td>3843</td>\n",
       "      <td>57.246942</td>\n",
       "      <td>2.0</td>\n",
       "      <td>0</td>\n",
       "      <td>57</td>\n",
       "      <td>167</td>\n",
       "      <td>24.493598</td>\n",
       "      <td>54.407841</td>\n",
       "      <td>24</td>\n",
       "      <td>2</td>\n",
       "      <td>2024</td>\n",
       "      <td>0</td>\n",
       "      <td>0</td>\n",
       "      <td>0</td>\n",
       "      <td>0</td>\n",
       "      <td>0</td>\n",
       "      <td>0</td>\n",
       "      <td>0</td>\n",
       "      <td>220000</td>\n",
       "    </tr>\n",
       "    <tr>\n",
       "      <th>4</th>\n",
       "      <td>4358</td>\n",
       "      <td>5</td>\n",
       "      <td>7</td>\n",
       "      <td>7</td>\n",
       "      <td>6860</td>\n",
       "      <td>51.020408</td>\n",
       "      <td>2.0</td>\n",
       "      <td>0</td>\n",
       "      <td>65</td>\n",
       "      <td>435</td>\n",
       "      <td>24.494022</td>\n",
       "      <td>54.607372</td>\n",
       "      <td>16</td>\n",
       "      <td>2</td>\n",
       "      <td>2024</td>\n",
       "      <td>0</td>\n",
       "      <td>0</td>\n",
       "      <td>0</td>\n",
       "      <td>0</td>\n",
       "      <td>0</td>\n",
       "      <td>0</td>\n",
       "      <td>0</td>\n",
       "      <td>350000</td>\n",
       "    </tr>\n",
       "    <tr>\n",
       "      <th>5</th>\n",
       "      <td>3420</td>\n",
       "      <td>1</td>\n",
       "      <td>1</td>\n",
       "      <td>0</td>\n",
       "      <td>706</td>\n",
       "      <td>106.232295</td>\n",
       "      <td>1.0</td>\n",
       "      <td>1</td>\n",
       "      <td>131</td>\n",
       "      <td>167</td>\n",
       "      <td>24.493598</td>\n",
       "      <td>54.407841</td>\n",
       "      <td>12</td>\n",
       "      <td>12</td>\n",
       "      <td>2023</td>\n",
       "      <td>0</td>\n",
       "      <td>0</td>\n",
       "      <td>0</td>\n",
       "      <td>0</td>\n",
       "      <td>0</td>\n",
       "      <td>0</td>\n",
       "      <td>0</td>\n",
       "      <td>75000</td>\n",
       "    </tr>\n",
       "    <tr>\n",
       "      <th>6</th>\n",
       "      <td>4344</td>\n",
       "      <td>1</td>\n",
       "      <td>1</td>\n",
       "      <td>0</td>\n",
       "      <td>698</td>\n",
       "      <td>93.123209</td>\n",
       "      <td>0.0</td>\n",
       "      <td>0</td>\n",
       "      <td>41</td>\n",
       "      <td>435</td>\n",
       "      <td>24.494022</td>\n",
       "      <td>54.607372</td>\n",
       "      <td>11</td>\n",
       "      <td>3</td>\n",
       "      <td>2024</td>\n",
       "      <td>0</td>\n",
       "      <td>0</td>\n",
       "      <td>0</td>\n",
       "      <td>0</td>\n",
       "      <td>0</td>\n",
       "      <td>0</td>\n",
       "      <td>0</td>\n",
       "      <td>65000</td>\n",
       "    </tr>\n",
       "    <tr>\n",
       "      <th>7</th>\n",
       "      <td>3115</td>\n",
       "      <td>3</td>\n",
       "      <td>4</td>\n",
       "      <td>6</td>\n",
       "      <td>1989</td>\n",
       "      <td>85.470085</td>\n",
       "      <td>2.0</td>\n",
       "      <td>0</td>\n",
       "      <td>59</td>\n",
       "      <td>435</td>\n",
       "      <td>24.494022</td>\n",
       "      <td>54.607372</td>\n",
       "      <td>22</td>\n",
       "      <td>2</td>\n",
       "      <td>2024</td>\n",
       "      <td>0</td>\n",
       "      <td>0</td>\n",
       "      <td>0</td>\n",
       "      <td>0</td>\n",
       "      <td>0</td>\n",
       "      <td>0</td>\n",
       "      <td>0</td>\n",
       "      <td>170000</td>\n",
       "    </tr>\n",
       "    <tr>\n",
       "      <th>8</th>\n",
       "      <td>1028</td>\n",
       "      <td>1</td>\n",
       "      <td>2</td>\n",
       "      <td>0</td>\n",
       "      <td>886</td>\n",
       "      <td>84.650113</td>\n",
       "      <td>1.0</td>\n",
       "      <td>0</td>\n",
       "      <td>16</td>\n",
       "      <td>435</td>\n",
       "      <td>24.494022</td>\n",
       "      <td>54.607372</td>\n",
       "      <td>5</td>\n",
       "      <td>4</td>\n",
       "      <td>2024</td>\n",
       "      <td>0</td>\n",
       "      <td>0</td>\n",
       "      <td>0</td>\n",
       "      <td>0</td>\n",
       "      <td>0</td>\n",
       "      <td>0</td>\n",
       "      <td>0</td>\n",
       "      <td>75000</td>\n",
       "    </tr>\n",
       "    <tr>\n",
       "      <th>9</th>\n",
       "      <td>2770</td>\n",
       "      <td>2</td>\n",
       "      <td>3</td>\n",
       "      <td>0</td>\n",
       "      <td>1430</td>\n",
       "      <td>111.888112</td>\n",
       "      <td>2.0</td>\n",
       "      <td>0</td>\n",
       "      <td>16</td>\n",
       "      <td>167</td>\n",
       "      <td>24.493598</td>\n",
       "      <td>54.407841</td>\n",
       "      <td>5</td>\n",
       "      <td>4</td>\n",
       "      <td>2024</td>\n",
       "      <td>0</td>\n",
       "      <td>0</td>\n",
       "      <td>0</td>\n",
       "      <td>0</td>\n",
       "      <td>0</td>\n",
       "      <td>0</td>\n",
       "      <td>0</td>\n",
       "      <td>160000</td>\n",
       "    </tr>\n",
       "    <tr>\n",
       "      <th>10</th>\n",
       "      <td>1347</td>\n",
       "      <td>2</td>\n",
       "      <td>2</td>\n",
       "      <td>0</td>\n",
       "      <td>1356</td>\n",
       "      <td>81.120944</td>\n",
       "      <td>1.0</td>\n",
       "      <td>0</td>\n",
       "      <td>448</td>\n",
       "      <td>26</td>\n",
       "      <td>24.204894</td>\n",
       "      <td>55.619661</td>\n",
       "      <td>29</td>\n",
       "      <td>1</td>\n",
       "      <td>2023</td>\n",
       "      <td>0</td>\n",
       "      <td>0</td>\n",
       "      <td>0</td>\n",
       "      <td>0</td>\n",
       "      <td>0</td>\n",
       "      <td>0</td>\n",
       "      <td>0</td>\n",
       "      <td>110000</td>\n",
       "    </tr>\n",
       "    <tr>\n",
       "      <th>11</th>\n",
       "      <td>3115</td>\n",
       "      <td>3</td>\n",
       "      <td>4</td>\n",
       "      <td>6</td>\n",
       "      <td>1816</td>\n",
       "      <td>95.814978</td>\n",
       "      <td>2.0</td>\n",
       "      <td>0</td>\n",
       "      <td>27</td>\n",
       "      <td>435</td>\n",
       "      <td>24.494022</td>\n",
       "      <td>54.607372</td>\n",
       "      <td>25</td>\n",
       "      <td>3</td>\n",
       "      <td>2024</td>\n",
       "      <td>0</td>\n",
       "      <td>0</td>\n",
       "      <td>0</td>\n",
       "      <td>0</td>\n",
       "      <td>0</td>\n",
       "      <td>0</td>\n",
       "      <td>0</td>\n",
       "      <td>174000</td>\n",
       "    </tr>\n",
       "    <tr>\n",
       "      <th>12</th>\n",
       "      <td>4358</td>\n",
       "      <td>5</td>\n",
       "      <td>7</td>\n",
       "      <td>7</td>\n",
       "      <td>5907</td>\n",
       "      <td>55.865922</td>\n",
       "      <td>2.0</td>\n",
       "      <td>0</td>\n",
       "      <td>30</td>\n",
       "      <td>435</td>\n",
       "      <td>24.494022</td>\n",
       "      <td>54.607372</td>\n",
       "      <td>22</td>\n",
       "      <td>3</td>\n",
       "      <td>2024</td>\n",
       "      <td>0</td>\n",
       "      <td>0</td>\n",
       "      <td>0</td>\n",
       "      <td>0</td>\n",
       "      <td>0</td>\n",
       "      <td>0</td>\n",
       "      <td>0</td>\n",
       "      <td>330000</td>\n",
       "    </tr>\n",
       "    <tr>\n",
       "      <th>13</th>\n",
       "      <td>1676</td>\n",
       "      <td>5</td>\n",
       "      <td>6</td>\n",
       "      <td>7</td>\n",
       "      <td>3750</td>\n",
       "      <td>39.733333</td>\n",
       "      <td>2.0</td>\n",
       "      <td>0</td>\n",
       "      <td>19</td>\n",
       "      <td>166</td>\n",
       "      <td>24.466437</td>\n",
       "      <td>54.656891</td>\n",
       "      <td>2</td>\n",
       "      <td>4</td>\n",
       "      <td>2024</td>\n",
       "      <td>0</td>\n",
       "      <td>0</td>\n",
       "      <td>0</td>\n",
       "      <td>0</td>\n",
       "      <td>0</td>\n",
       "      <td>0</td>\n",
       "      <td>0</td>\n",
       "      <td>149000</td>\n",
       "    </tr>\n",
       "    <tr>\n",
       "      <th>14</th>\n",
       "      <td>2006</td>\n",
       "      <td>1</td>\n",
       "      <td>2</td>\n",
       "      <td>0</td>\n",
       "      <td>1022</td>\n",
       "      <td>146.771037</td>\n",
       "      <td>2.0</td>\n",
       "      <td>1</td>\n",
       "      <td>34</td>\n",
       "      <td>410</td>\n",
       "      <td>24.479853</td>\n",
       "      <td>54.319951</td>\n",
       "      <td>18</td>\n",
       "      <td>3</td>\n",
       "      <td>2024</td>\n",
       "      <td>0</td>\n",
       "      <td>0</td>\n",
       "      <td>0</td>\n",
       "      <td>0</td>\n",
       "      <td>0</td>\n",
       "      <td>0</td>\n",
       "      <td>0</td>\n",
       "      <td>150000</td>\n",
       "    </tr>\n",
       "    <tr>\n",
       "      <th>15</th>\n",
       "      <td>1447</td>\n",
       "      <td>2</td>\n",
       "      <td>2</td>\n",
       "      <td>0</td>\n",
       "      <td>1477</td>\n",
       "      <td>54.163846</td>\n",
       "      <td>1.0</td>\n",
       "      <td>0</td>\n",
       "      <td>38</td>\n",
       "      <td>166</td>\n",
       "      <td>24.466437</td>\n",
       "      <td>54.656891</td>\n",
       "      <td>14</td>\n",
       "      <td>3</td>\n",
       "      <td>2024</td>\n",
       "      <td>0</td>\n",
       "      <td>0</td>\n",
       "      <td>0</td>\n",
       "      <td>0</td>\n",
       "      <td>0</td>\n",
       "      <td>0</td>\n",
       "      <td>0</td>\n",
       "      <td>80000</td>\n",
       "    </tr>\n",
       "    <tr>\n",
       "      <th>16</th>\n",
       "      <td>2770</td>\n",
       "      <td>3</td>\n",
       "      <td>4</td>\n",
       "      <td>0</td>\n",
       "      <td>1744</td>\n",
       "      <td>71.674312</td>\n",
       "      <td>1.0</td>\n",
       "      <td>0</td>\n",
       "      <td>142</td>\n",
       "      <td>167</td>\n",
       "      <td>24.493598</td>\n",
       "      <td>54.407841</td>\n",
       "      <td>1</td>\n",
       "      <td>12</td>\n",
       "      <td>2023</td>\n",
       "      <td>0</td>\n",
       "      <td>0</td>\n",
       "      <td>0</td>\n",
       "      <td>0</td>\n",
       "      <td>0</td>\n",
       "      <td>0</td>\n",
       "      <td>0</td>\n",
       "      <td>125000</td>\n",
       "    </tr>\n",
       "    <tr>\n",
       "      <th>17</th>\n",
       "      <td>1676</td>\n",
       "      <td>4</td>\n",
       "      <td>5</td>\n",
       "      <td>7</td>\n",
       "      <td>2828</td>\n",
       "      <td>45.967115</td>\n",
       "      <td>1.0</td>\n",
       "      <td>0</td>\n",
       "      <td>41</td>\n",
       "      <td>166</td>\n",
       "      <td>24.466437</td>\n",
       "      <td>54.656891</td>\n",
       "      <td>11</td>\n",
       "      <td>3</td>\n",
       "      <td>2024</td>\n",
       "      <td>0</td>\n",
       "      <td>0</td>\n",
       "      <td>0</td>\n",
       "      <td>0</td>\n",
       "      <td>0</td>\n",
       "      <td>0</td>\n",
       "      <td>0</td>\n",
       "      <td>129995</td>\n",
       "    </tr>\n",
       "    <tr>\n",
       "      <th>18</th>\n",
       "      <td>1426</td>\n",
       "      <td>2</td>\n",
       "      <td>2</td>\n",
       "      <td>0</td>\n",
       "      <td>1237</td>\n",
       "      <td>50.848828</td>\n",
       "      <td>0.0</td>\n",
       "      <td>0</td>\n",
       "      <td>19</td>\n",
       "      <td>166</td>\n",
       "      <td>24.466437</td>\n",
       "      <td>54.656891</td>\n",
       "      <td>2</td>\n",
       "      <td>4</td>\n",
       "      <td>2024</td>\n",
       "      <td>0</td>\n",
       "      <td>0</td>\n",
       "      <td>0</td>\n",
       "      <td>0</td>\n",
       "      <td>0</td>\n",
       "      <td>0</td>\n",
       "      <td>0</td>\n",
       "      <td>62900</td>\n",
       "    </tr>\n",
       "    <tr>\n",
       "      <th>19</th>\n",
       "      <td>3115</td>\n",
       "      <td>2</td>\n",
       "      <td>4</td>\n",
       "      <td>6</td>\n",
       "      <td>1821</td>\n",
       "      <td>79.626579</td>\n",
       "      <td>2.0</td>\n",
       "      <td>0</td>\n",
       "      <td>54</td>\n",
       "      <td>435</td>\n",
       "      <td>24.494022</td>\n",
       "      <td>54.607372</td>\n",
       "      <td>27</td>\n",
       "      <td>2</td>\n",
       "      <td>2024</td>\n",
       "      <td>0</td>\n",
       "      <td>0</td>\n",
       "      <td>0</td>\n",
       "      <td>0</td>\n",
       "      <td>0</td>\n",
       "      <td>0</td>\n",
       "      <td>0</td>\n",
       "      <td>145000</td>\n",
       "    </tr>\n",
       "    <tr>\n",
       "      <th>20</th>\n",
       "      <td>355</td>\n",
       "      <td>3</td>\n",
       "      <td>3</td>\n",
       "      <td>0</td>\n",
       "      <td>1689</td>\n",
       "      <td>56.246300</td>\n",
       "      <td>1.0</td>\n",
       "      <td>0</td>\n",
       "      <td>448</td>\n",
       "      <td>84</td>\n",
       "      <td>24.469344</td>\n",
       "      <td>54.348806</td>\n",
       "      <td>29</td>\n",
       "      <td>1</td>\n",
       "      <td>2023</td>\n",
       "      <td>0</td>\n",
       "      <td>0</td>\n",
       "      <td>0</td>\n",
       "      <td>0</td>\n",
       "      <td>0</td>\n",
       "      <td>0</td>\n",
       "      <td>0</td>\n",
       "      <td>95000</td>\n",
       "    </tr>\n",
       "    <tr>\n",
       "      <th>21</th>\n",
       "      <td>1341</td>\n",
       "      <td>3</td>\n",
       "      <td>3</td>\n",
       "      <td>0</td>\n",
       "      <td>2195</td>\n",
       "      <td>63.781321</td>\n",
       "      <td>1.0</td>\n",
       "      <td>0</td>\n",
       "      <td>46</td>\n",
       "      <td>204</td>\n",
       "      <td>NaN</td>\n",
       "      <td>NaN</td>\n",
       "      <td>6</td>\n",
       "      <td>3</td>\n",
       "      <td>2024</td>\n",
       "      <td>0</td>\n",
       "      <td>0</td>\n",
       "      <td>0</td>\n",
       "      <td>0</td>\n",
       "      <td>0</td>\n",
       "      <td>0</td>\n",
       "      <td>0</td>\n",
       "      <td>140000</td>\n",
       "    </tr>\n",
       "    <tr>\n",
       "      <th>22</th>\n",
       "      <td>4344</td>\n",
       "      <td>0</td>\n",
       "      <td>1</td>\n",
       "      <td>0</td>\n",
       "      <td>490</td>\n",
       "      <td>102.040816</td>\n",
       "      <td>0.0</td>\n",
       "      <td>0</td>\n",
       "      <td>23</td>\n",
       "      <td>435</td>\n",
       "      <td>24.494022</td>\n",
       "      <td>54.607372</td>\n",
       "      <td>29</td>\n",
       "      <td>3</td>\n",
       "      <td>2024</td>\n",
       "      <td>0</td>\n",
       "      <td>0</td>\n",
       "      <td>0</td>\n",
       "      <td>0</td>\n",
       "      <td>0</td>\n",
       "      <td>0</td>\n",
       "      <td>0</td>\n",
       "      <td>50000</td>\n",
       "    </tr>\n",
       "    <tr>\n",
       "      <th>23</th>\n",
       "      <td>3115</td>\n",
       "      <td>3</td>\n",
       "      <td>4</td>\n",
       "      <td>6</td>\n",
       "      <td>1816</td>\n",
       "      <td>99.118943</td>\n",
       "      <td>2.0</td>\n",
       "      <td>0</td>\n",
       "      <td>53</td>\n",
       "      <td>435</td>\n",
       "      <td>24.494022</td>\n",
       "      <td>54.607372</td>\n",
       "      <td>28</td>\n",
       "      <td>2</td>\n",
       "      <td>2024</td>\n",
       "      <td>0</td>\n",
       "      <td>0</td>\n",
       "      <td>0</td>\n",
       "      <td>0</td>\n",
       "      <td>0</td>\n",
       "      <td>0</td>\n",
       "      <td>0</td>\n",
       "      <td>180000</td>\n",
       "    </tr>\n",
       "  </tbody>\n",
       "</table>\n",
       "</div>"
      ],
      "text/plain": [
       "    Address  Beds  Baths  Type  Area_in_sqft  Rent_per_sqft  Rent_category  \\\n",
       "0      4023     3      4     0          1785      69.467787            1.0   \n",
       "1      4344     3      4     0          1422      98.452883            1.0   \n",
       "2       706     2      3     0          1314      75.342466            1.0   \n",
       "3      2773     3      4     2          3843      57.246942            2.0   \n",
       "4      4358     5      7     7          6860      51.020408            2.0   \n",
       "5      3420     1      1     0           706     106.232295            1.0   \n",
       "6      4344     1      1     0           698      93.123209            0.0   \n",
       "7      3115     3      4     6          1989      85.470085            2.0   \n",
       "8      1028     1      2     0           886      84.650113            1.0   \n",
       "9      2770     2      3     0          1430     111.888112            2.0   \n",
       "10     1347     2      2     0          1356      81.120944            1.0   \n",
       "11     3115     3      4     6          1816      95.814978            2.0   \n",
       "12     4358     5      7     7          5907      55.865922            2.0   \n",
       "13     1676     5      6     7          3750      39.733333            2.0   \n",
       "14     2006     1      2     0          1022     146.771037            2.0   \n",
       "15     1447     2      2     0          1477      54.163846            1.0   \n",
       "16     2770     3      4     0          1744      71.674312            1.0   \n",
       "17     1676     4      5     7          2828      45.967115            1.0   \n",
       "18     1426     2      2     0          1237      50.848828            0.0   \n",
       "19     3115     2      4     6          1821      79.626579            2.0   \n",
       "20      355     3      3     0          1689      56.246300            1.0   \n",
       "21     1341     3      3     0          2195      63.781321            1.0   \n",
       "22     4344     0      1     0           490     102.040816            0.0   \n",
       "23     3115     3      4     6          1816      99.118943            2.0   \n",
       "\n",
       "    Furnishing  Age_of_listing_in_days  Location   Latitude  Longitude  \\\n",
       "0            0                      45       167  24.493598  54.407841   \n",
       "1            0                      44       435  24.494022  54.607372   \n",
       "2            1                      31       149  24.485931  54.600939   \n",
       "3            0                      57       167  24.493598  54.407841   \n",
       "4            0                      65       435  24.494022  54.607372   \n",
       "5            1                     131       167  24.493598  54.407841   \n",
       "6            0                      41       435  24.494022  54.607372   \n",
       "7            0                      59       435  24.494022  54.607372   \n",
       "8            0                      16       435  24.494022  54.607372   \n",
       "9            0                      16       167  24.493598  54.407841   \n",
       "10           0                     448        26  24.204894  55.619661   \n",
       "11           0                      27       435  24.494022  54.607372   \n",
       "12           0                      30       435  24.494022  54.607372   \n",
       "13           0                      19       166  24.466437  54.656891   \n",
       "14           1                      34       410  24.479853  54.319951   \n",
       "15           0                      38       166  24.466437  54.656891   \n",
       "16           0                     142       167  24.493598  54.407841   \n",
       "17           0                      41       166  24.466437  54.656891   \n",
       "18           0                      19       166  24.466437  54.656891   \n",
       "19           0                      54       435  24.494022  54.607372   \n",
       "20           0                     448        84  24.469344  54.348806   \n",
       "21           0                      46       204        NaN        NaN   \n",
       "22           0                      23       435  24.494022  54.607372   \n",
       "23           0                      53       435  24.494022  54.607372   \n",
       "\n",
       "    Posted_day  Posted_month  Posted_year  City_Ajman  City_Al Ain  \\\n",
       "0            7             3         2024           0            0   \n",
       "1            8             3         2024           0            0   \n",
       "2           21             3         2024           0            0   \n",
       "3           24             2         2024           0            0   \n",
       "4           16             2         2024           0            0   \n",
       "5           12            12         2023           0            0   \n",
       "6           11             3         2024           0            0   \n",
       "7           22             2         2024           0            0   \n",
       "8            5             4         2024           0            0   \n",
       "9            5             4         2024           0            0   \n",
       "10          29             1         2023           0            0   \n",
       "11          25             3         2024           0            0   \n",
       "12          22             3         2024           0            0   \n",
       "13           2             4         2024           0            0   \n",
       "14          18             3         2024           0            0   \n",
       "15          14             3         2024           0            0   \n",
       "16           1            12         2023           0            0   \n",
       "17          11             3         2024           0            0   \n",
       "18           2             4         2024           0            0   \n",
       "19          27             2         2024           0            0   \n",
       "20          29             1         2023           0            0   \n",
       "21           6             3         2024           0            0   \n",
       "22          29             3         2024           0            0   \n",
       "23          28             2         2024           0            0   \n",
       "\n",
       "    City_Dubai  City_Fujairah  City_Ras Al Khaimah  City_Sharjah  \\\n",
       "0            0              0                    0             0   \n",
       "1            0              0                    0             0   \n",
       "2            0              0                    0             0   \n",
       "3            0              0                    0             0   \n",
       "4            0              0                    0             0   \n",
       "5            0              0                    0             0   \n",
       "6            0              0                    0             0   \n",
       "7            0              0                    0             0   \n",
       "8            0              0                    0             0   \n",
       "9            0              0                    0             0   \n",
       "10           0              0                    0             0   \n",
       "11           0              0                    0             0   \n",
       "12           0              0                    0             0   \n",
       "13           0              0                    0             0   \n",
       "14           0              0                    0             0   \n",
       "15           0              0                    0             0   \n",
       "16           0              0                    0             0   \n",
       "17           0              0                    0             0   \n",
       "18           0              0                    0             0   \n",
       "19           0              0                    0             0   \n",
       "20           0              0                    0             0   \n",
       "21           0              0                    0             0   \n",
       "22           0              0                    0             0   \n",
       "23           0              0                    0             0   \n",
       "\n",
       "    City_Umm Al Quwain    Rent  \n",
       "0                    0  124000  \n",
       "1                    0  140000  \n",
       "2                    0   99000  \n",
       "3                    0  220000  \n",
       "4                    0  350000  \n",
       "5                    0   75000  \n",
       "6                    0   65000  \n",
       "7                    0  170000  \n",
       "8                    0   75000  \n",
       "9                    0  160000  \n",
       "10                   0  110000  \n",
       "11                   0  174000  \n",
       "12                   0  330000  \n",
       "13                   0  149000  \n",
       "14                   0  150000  \n",
       "15                   0   80000  \n",
       "16                   0  125000  \n",
       "17                   0  129995  \n",
       "18                   0   62900  \n",
       "19                   0  145000  \n",
       "20                   0   95000  \n",
       "21                   0  140000  \n",
       "22                   0   50000  \n",
       "23                   0  180000  "
      ]
     },
     "execution_count": 100,
     "metadata": {},
     "output_type": "execute_result"
    }
   ],
   "source": [
    "data.head(24)"
   ]
  },
  {
   "cell_type": "code",
   "execution_count": 101,
   "id": "a1f05916-8146-4fd0-a8b9-bbb7c14d10a1",
   "metadata": {},
   "outputs": [],
   "source": [
    "replacement_values = {\n",
    "    #'Longitude': '1',          # Replace with a specific value\n",
    "    'Latitude': data['Latitude'].mean(),  # Replace with the mean of the column\n",
    "    'Longitude': data['Longitude'].mean(), # Replace with the median of the column\n",
    "    # Add more columns as needed\n",
    "}\n",
    "data.fillna(replacement_values, inplace=True)"
   ]
  },
  {
   "cell_type": "code",
   "execution_count": 102,
   "id": "d508059f-ee6d-4a9f-9b25-2fcf434cef80",
   "metadata": {},
   "outputs": [
    {
     "data": {
      "text/plain": [
       "Address                   0\n",
       "Beds                      0\n",
       "Baths                     0\n",
       "Type                      0\n",
       "Area_in_sqft              0\n",
       "Rent_per_sqft             0\n",
       "Rent_category             0\n",
       "Furnishing                0\n",
       "Age_of_listing_in_days    0\n",
       "Location                  0\n",
       "Latitude                  0\n",
       "Longitude                 0\n",
       "Posted_day                0\n",
       "Posted_month              0\n",
       "Posted_year               0\n",
       "City_Ajman                0\n",
       "City_Al Ain               0\n",
       "City_Dubai                0\n",
       "City_Fujairah             0\n",
       "City_Ras Al Khaimah       0\n",
       "City_Sharjah              0\n",
       "City_Umm Al Quwain        0\n",
       "Rent                      0\n",
       "dtype: int64"
      ]
     },
     "execution_count": 102,
     "metadata": {},
     "output_type": "execute_result"
    }
   ],
   "source": [
    "data.isnull().sum()\n"
   ]
  },
  {
   "cell_type": "code",
   "execution_count": 103,
   "id": "24ab7813-e76c-4360-9015-41b3c0c77865",
   "metadata": {},
   "outputs": [
    {
     "data": {
      "text/plain": [
       "Address                   0\n",
       "Beds                      0\n",
       "Baths                     0\n",
       "Type                      0\n",
       "Area_in_sqft              0\n",
       "Rent_per_sqft             0\n",
       "Rent_category             0\n",
       "Furnishing                0\n",
       "Age_of_listing_in_days    0\n",
       "Location                  0\n",
       "Latitude                  0\n",
       "Longitude                 0\n",
       "Posted_day                0\n",
       "Posted_month              0\n",
       "Posted_year               0\n",
       "City_Ajman                0\n",
       "City_Al Ain               0\n",
       "City_Dubai                0\n",
       "City_Fujairah             0\n",
       "City_Ras Al Khaimah       0\n",
       "City_Sharjah              0\n",
       "City_Umm Al Quwain        0\n",
       "Rent                      0\n",
       "dtype: int64"
      ]
     },
     "execution_count": 103,
     "metadata": {},
     "output_type": "execute_result"
    }
   ],
   "source": [
    "data.isnull().sum()"
   ]
  },
  {
   "cell_type": "code",
   "execution_count": 104,
   "id": "d19c324e-c015-4d23-b85b-2bbb688844c1",
   "metadata": {},
   "outputs": [
    {
     "name": "stdout",
     "output_type": "stream",
     "text": [
      "Mean Absolute Error (MAE): 15608.06\n",
      "Mean Squared Error (MSE): 1256259766.22\n",
      "Root Mean Squared Error (RMSE): 35443.75\n",
      "Train R^2: 0.9946843539675226\n",
      "Test R^2: 0.9734817289595793\n"
     ]
    }
   ],
   "source": [
    "from sklearn import datasets, ensemble\n",
    "from sklearn.inspection import permutation_importance\n",
    "from sklearn.metrics import mean_squared_error,mean_absolute_error\n",
    "from sklearn.model_selection import train_test_split\n",
    "from sklearn.metrics import r2_score\n",
    "\n",
    "X = data.drop(['Address','Location','Latitude','Longitude','Rent'], axis=1)\n",
    "#['Address','Age_of_listing_in_days','Location',\n",
    "y = data['Rent']\n",
    "\n",
    "X_train, X_test, y_train, y_test = train_test_split(X, y, test_size=0.2, random_state=13)\n",
    "\n",
    "params = {\n",
    "    \"n_estimators\": 500,\n",
    "    \"max_depth\": 4,\n",
    "    \"min_samples_split\": 5,\n",
    "    \"learning_rate\": 0.01,\n",
    "    \"loss\": \"squared_error\",\n",
    "}\n",
    "reg = ensemble.GradientBoostingRegressor(**params)\n",
    "reg.fit(X_train, y_train)\n",
    "\n",
    "y_pred = reg.predict(X_test)\n",
    "\n",
    "mse = mean_squared_error(y_test, y_pred)\n",
    "mae = mean_absolute_error(y_test, y_pred)\n",
    "rmse = np.sqrt(mse)\n",
    "\n",
    "print(f\"Mean Absolute Error (MAE): {mae:.2f}\")\n",
    "print(f\"Mean Squared Error (MSE): {mse:.2f}\")\n",
    "print(f\"Root Mean Squared Error (RMSE): {rmse:.2f}\")\n",
    "\n",
    "train_pred = reg.predict(X_train)\n",
    "test_pred = reg.predict(X_test)\n",
    "train_score = r2_score(y_train, train_pred)\n",
    "test_score = r2_score(y_test, test_pred)\n",
    "\n",
    "print(\"Train R^2:\", train_score)\n",
    "print(\"Test R^2:\", test_score)"
   ]
  },
  {
   "cell_type": "code",
   "execution_count": 105,
   "id": "51aeb51e-eeca-43dd-85c0-bebdf3a2988e",
   "metadata": {},
   "outputs": [
    {
     "data": {
      "text/html": [
       "<div>\n",
       "<style scoped>\n",
       "    .dataframe tbody tr th:only-of-type {\n",
       "        vertical-align: middle;\n",
       "    }\n",
       "\n",
       "    .dataframe tbody tr th {\n",
       "        vertical-align: top;\n",
       "    }\n",
       "\n",
       "    .dataframe thead th {\n",
       "        text-align: right;\n",
       "    }\n",
       "</style>\n",
       "<table border=\"1\" class=\"dataframe\">\n",
       "  <thead>\n",
       "    <tr style=\"text-align: right;\">\n",
       "      <th></th>\n",
       "      <th>Beds</th>\n",
       "      <th>Baths</th>\n",
       "      <th>Type</th>\n",
       "      <th>Area_in_sqft</th>\n",
       "      <th>Rent_per_sqft</th>\n",
       "      <th>Rent_category</th>\n",
       "      <th>Furnishing</th>\n",
       "      <th>Age_of_listing_in_days</th>\n",
       "      <th>Posted_day</th>\n",
       "      <th>Posted_month</th>\n",
       "      <th>Posted_year</th>\n",
       "      <th>City_Ajman</th>\n",
       "      <th>City_Al Ain</th>\n",
       "      <th>City_Dubai</th>\n",
       "      <th>City_Fujairah</th>\n",
       "      <th>City_Ras Al Khaimah</th>\n",
       "      <th>City_Sharjah</th>\n",
       "      <th>City_Umm Al Quwain</th>\n",
       "    </tr>\n",
       "  </thead>\n",
       "  <tbody>\n",
       "    <tr>\n",
       "      <th>0</th>\n",
       "      <td>3</td>\n",
       "      <td>4</td>\n",
       "      <td>0</td>\n",
       "      <td>1785</td>\n",
       "      <td>69.467787</td>\n",
       "      <td>1.0</td>\n",
       "      <td>0</td>\n",
       "      <td>45</td>\n",
       "      <td>7</td>\n",
       "      <td>3</td>\n",
       "      <td>2024</td>\n",
       "      <td>0</td>\n",
       "      <td>0</td>\n",
       "      <td>0</td>\n",
       "      <td>0</td>\n",
       "      <td>0</td>\n",
       "      <td>0</td>\n",
       "      <td>0</td>\n",
       "    </tr>\n",
       "    <tr>\n",
       "      <th>1</th>\n",
       "      <td>3</td>\n",
       "      <td>4</td>\n",
       "      <td>0</td>\n",
       "      <td>1422</td>\n",
       "      <td>98.452883</td>\n",
       "      <td>1.0</td>\n",
       "      <td>0</td>\n",
       "      <td>44</td>\n",
       "      <td>8</td>\n",
       "      <td>3</td>\n",
       "      <td>2024</td>\n",
       "      <td>0</td>\n",
       "      <td>0</td>\n",
       "      <td>0</td>\n",
       "      <td>0</td>\n",
       "      <td>0</td>\n",
       "      <td>0</td>\n",
       "      <td>0</td>\n",
       "    </tr>\n",
       "    <tr>\n",
       "      <th>2</th>\n",
       "      <td>2</td>\n",
       "      <td>3</td>\n",
       "      <td>0</td>\n",
       "      <td>1314</td>\n",
       "      <td>75.342466</td>\n",
       "      <td>1.0</td>\n",
       "      <td>1</td>\n",
       "      <td>31</td>\n",
       "      <td>21</td>\n",
       "      <td>3</td>\n",
       "      <td>2024</td>\n",
       "      <td>0</td>\n",
       "      <td>0</td>\n",
       "      <td>0</td>\n",
       "      <td>0</td>\n",
       "      <td>0</td>\n",
       "      <td>0</td>\n",
       "      <td>0</td>\n",
       "    </tr>\n",
       "    <tr>\n",
       "      <th>3</th>\n",
       "      <td>3</td>\n",
       "      <td>4</td>\n",
       "      <td>2</td>\n",
       "      <td>3843</td>\n",
       "      <td>57.246942</td>\n",
       "      <td>2.0</td>\n",
       "      <td>0</td>\n",
       "      <td>57</td>\n",
       "      <td>24</td>\n",
       "      <td>2</td>\n",
       "      <td>2024</td>\n",
       "      <td>0</td>\n",
       "      <td>0</td>\n",
       "      <td>0</td>\n",
       "      <td>0</td>\n",
       "      <td>0</td>\n",
       "      <td>0</td>\n",
       "      <td>0</td>\n",
       "    </tr>\n",
       "    <tr>\n",
       "      <th>4</th>\n",
       "      <td>5</td>\n",
       "      <td>7</td>\n",
       "      <td>7</td>\n",
       "      <td>6860</td>\n",
       "      <td>51.020408</td>\n",
       "      <td>2.0</td>\n",
       "      <td>0</td>\n",
       "      <td>65</td>\n",
       "      <td>16</td>\n",
       "      <td>2</td>\n",
       "      <td>2024</td>\n",
       "      <td>0</td>\n",
       "      <td>0</td>\n",
       "      <td>0</td>\n",
       "      <td>0</td>\n",
       "      <td>0</td>\n",
       "      <td>0</td>\n",
       "      <td>0</td>\n",
       "    </tr>\n",
       "    <tr>\n",
       "      <th>...</th>\n",
       "      <td>...</td>\n",
       "      <td>...</td>\n",
       "      <td>...</td>\n",
       "      <td>...</td>\n",
       "      <td>...</td>\n",
       "      <td>...</td>\n",
       "      <td>...</td>\n",
       "      <td>...</td>\n",
       "      <td>...</td>\n",
       "      <td>...</td>\n",
       "      <td>...</td>\n",
       "      <td>...</td>\n",
       "      <td>...</td>\n",
       "      <td>...</td>\n",
       "      <td>...</td>\n",
       "      <td>...</td>\n",
       "      <td>...</td>\n",
       "      <td>...</td>\n",
       "    </tr>\n",
       "    <tr>\n",
       "      <th>73737</th>\n",
       "      <td>0</td>\n",
       "      <td>1</td>\n",
       "      <td>0</td>\n",
       "      <td>419</td>\n",
       "      <td>33.412888</td>\n",
       "      <td>0.0</td>\n",
       "      <td>0</td>\n",
       "      <td>129</td>\n",
       "      <td>14</td>\n",
       "      <td>12</td>\n",
       "      <td>2023</td>\n",
       "      <td>0</td>\n",
       "      <td>0</td>\n",
       "      <td>0</td>\n",
       "      <td>0</td>\n",
       "      <td>0</td>\n",
       "      <td>0</td>\n",
       "      <td>1</td>\n",
       "    </tr>\n",
       "    <tr>\n",
       "      <th>73738</th>\n",
       "      <td>0</td>\n",
       "      <td>1</td>\n",
       "      <td>0</td>\n",
       "      <td>500</td>\n",
       "      <td>28.000000</td>\n",
       "      <td>0.0</td>\n",
       "      <td>0</td>\n",
       "      <td>129</td>\n",
       "      <td>14</td>\n",
       "      <td>12</td>\n",
       "      <td>2023</td>\n",
       "      <td>0</td>\n",
       "      <td>0</td>\n",
       "      <td>0</td>\n",
       "      <td>0</td>\n",
       "      <td>0</td>\n",
       "      <td>0</td>\n",
       "      <td>1</td>\n",
       "    </tr>\n",
       "    <tr>\n",
       "      <th>73739</th>\n",
       "      <td>3</td>\n",
       "      <td>4</td>\n",
       "      <td>0</td>\n",
       "      <td>2000</td>\n",
       "      <td>25.000000</td>\n",
       "      <td>0.0</td>\n",
       "      <td>0</td>\n",
       "      <td>110</td>\n",
       "      <td>2</td>\n",
       "      <td>1</td>\n",
       "      <td>2024</td>\n",
       "      <td>0</td>\n",
       "      <td>0</td>\n",
       "      <td>0</td>\n",
       "      <td>0</td>\n",
       "      <td>0</td>\n",
       "      <td>0</td>\n",
       "      <td>1</td>\n",
       "    </tr>\n",
       "    <tr>\n",
       "      <th>73740</th>\n",
       "      <td>1</td>\n",
       "      <td>2</td>\n",
       "      <td>0</td>\n",
       "      <td>989</td>\n",
       "      <td>37.411527</td>\n",
       "      <td>0.0</td>\n",
       "      <td>0</td>\n",
       "      <td>181</td>\n",
       "      <td>23</td>\n",
       "      <td>10</td>\n",
       "      <td>2023</td>\n",
       "      <td>0</td>\n",
       "      <td>0</td>\n",
       "      <td>0</td>\n",
       "      <td>0</td>\n",
       "      <td>0</td>\n",
       "      <td>0</td>\n",
       "      <td>1</td>\n",
       "    </tr>\n",
       "    <tr>\n",
       "      <th>73741</th>\n",
       "      <td>0</td>\n",
       "      <td>1</td>\n",
       "      <td>0</td>\n",
       "      <td>300</td>\n",
       "      <td>36.666667</td>\n",
       "      <td>0.0</td>\n",
       "      <td>0</td>\n",
       "      <td>69</td>\n",
       "      <td>12</td>\n",
       "      <td>2</td>\n",
       "      <td>2024</td>\n",
       "      <td>0</td>\n",
       "      <td>0</td>\n",
       "      <td>0</td>\n",
       "      <td>0</td>\n",
       "      <td>0</td>\n",
       "      <td>0</td>\n",
       "      <td>1</td>\n",
       "    </tr>\n",
       "  </tbody>\n",
       "</table>\n",
       "<p>73742 rows × 18 columns</p>\n",
       "</div>"
      ],
      "text/plain": [
       "       Beds  Baths  Type  Area_in_sqft  Rent_per_sqft  Rent_category  \\\n",
       "0         3      4     0          1785      69.467787            1.0   \n",
       "1         3      4     0          1422      98.452883            1.0   \n",
       "2         2      3     0          1314      75.342466            1.0   \n",
       "3         3      4     2          3843      57.246942            2.0   \n",
       "4         5      7     7          6860      51.020408            2.0   \n",
       "...     ...    ...   ...           ...            ...            ...   \n",
       "73737     0      1     0           419      33.412888            0.0   \n",
       "73738     0      1     0           500      28.000000            0.0   \n",
       "73739     3      4     0          2000      25.000000            0.0   \n",
       "73740     1      2     0           989      37.411527            0.0   \n",
       "73741     0      1     0           300      36.666667            0.0   \n",
       "\n",
       "       Furnishing  Age_of_listing_in_days  Posted_day  Posted_month  \\\n",
       "0               0                      45           7             3   \n",
       "1               0                      44           8             3   \n",
       "2               1                      31          21             3   \n",
       "3               0                      57          24             2   \n",
       "4               0                      65          16             2   \n",
       "...           ...                     ...         ...           ...   \n",
       "73737           0                     129          14            12   \n",
       "73738           0                     129          14            12   \n",
       "73739           0                     110           2             1   \n",
       "73740           0                     181          23            10   \n",
       "73741           0                      69          12             2   \n",
       "\n",
       "       Posted_year  City_Ajman  City_Al Ain  City_Dubai  City_Fujairah  \\\n",
       "0             2024           0            0           0              0   \n",
       "1             2024           0            0           0              0   \n",
       "2             2024           0            0           0              0   \n",
       "3             2024           0            0           0              0   \n",
       "4             2024           0            0           0              0   \n",
       "...            ...         ...          ...         ...            ...   \n",
       "73737         2023           0            0           0              0   \n",
       "73738         2023           0            0           0              0   \n",
       "73739         2024           0            0           0              0   \n",
       "73740         2023           0            0           0              0   \n",
       "73741         2024           0            0           0              0   \n",
       "\n",
       "       City_Ras Al Khaimah  City_Sharjah  City_Umm Al Quwain  \n",
       "0                        0             0                   0  \n",
       "1                        0             0                   0  \n",
       "2                        0             0                   0  \n",
       "3                        0             0                   0  \n",
       "4                        0             0                   0  \n",
       "...                    ...           ...                 ...  \n",
       "73737                    0             0                   1  \n",
       "73738                    0             0                   1  \n",
       "73739                    0             0                   1  \n",
       "73740                    0             0                   1  \n",
       "73741                    0             0                   1  \n",
       "\n",
       "[73742 rows x 18 columns]"
      ]
     },
     "execution_count": 105,
     "metadata": {},
     "output_type": "execute_result"
    }
   ],
   "source": [
    "X"
   ]
  },
  {
   "cell_type": "code",
   "execution_count": 106,
   "id": "c53b6972-a37d-4b53-9b64-47654797eb44",
   "metadata": {},
   "outputs": [],
   "source": [
    "import pickle"
   ]
  },
  {
   "cell_type": "code",
   "execution_count": 107,
   "id": "0ef9b05e-c6a8-4541-9692-79e52c83eefc",
   "metadata": {},
   "outputs": [],
   "source": [
    "filename = 'Project_UAE.sav'\n",
    "pickle.dump(reg, open(filename, 'wb'))"
   ]
  },
  {
   "cell_type": "code",
   "execution_count": 108,
   "id": "47b8cc1c-85dd-426c-b839-fd81884ab34a",
   "metadata": {},
   "outputs": [],
   "source": [
    "# loading the saved model\n",
    "loaded_model = pickle.load(open('Project_UAE.sav', 'rb'))"
   ]
  },
  {
   "cell_type": "code",
   "execution_count": 110,
   "id": "1f4ed578-aa91-4cec-9a06-560fc7f1cb95",
   "metadata": {},
   "outputs": [
    {
     "name": "stdout",
     "output_type": "stream",
     "text": [
      "[375442.73657259]\n"
     ]
    },
    {
     "name": "stderr",
     "output_type": "stream",
     "text": [
      "C:\\ProgramData\\anaconda3\\Lib\\site-packages\\sklearn\\base.py:439: UserWarning:\n",
      "\n",
      "X does not have valid feature names, but GradientBoostingRegressor was fitted with feature names\n",
      "\n"
     ]
    }
   ],
   "source": [
    "input_data = (5,7,7,6860,51.020408,2.0,0,65,16,2,2024,0,0,0,0,0,0,0)\n",
    "\n",
    "# changing the input_data to numpy array\n",
    "input_data_as_numpy_array = np.asarray(input_data)\n",
    "\n",
    "\n",
    "# reshape the array as we are predicting for one instance\n",
    "input_data_reshaped = input_data_as_numpy_array.reshape(1,-1)\n",
    "\n",
    "prediction = loaded_model.predict(input_data_reshaped)\n",
    "print(prediction)"
   ]
  },
  {
   "cell_type": "code",
   "execution_count": null,
   "id": "4d9d68a0-05ea-4a98-b5da-538f7109ea52",
   "metadata": {},
   "outputs": [],
   "source": []
  },
  {
   "cell_type": "code",
   "execution_count": null,
   "id": "b50c6898-74a2-4e18-8a02-626b15018e1a",
   "metadata": {},
   "outputs": [],
   "source": []
  },
  {
   "cell_type": "code",
   "execution_count": null,
   "id": "16c24aa6-5fd4-4787-9e0a-138b81f1d987",
   "metadata": {},
   "outputs": [],
   "source": []
  },
  {
   "cell_type": "code",
   "execution_count": null,
   "id": "1e8cc71e-91a5-48c6-a57e-190f6e1db4c1",
   "metadata": {},
   "outputs": [],
   "source": []
  },
  {
   "cell_type": "code",
   "execution_count": null,
   "id": "6c5cd757-c3d2-404e-ab55-05707002479c",
   "metadata": {},
   "outputs": [],
   "source": []
  },
  {
   "cell_type": "code",
   "execution_count": null,
   "id": "9290baf8-0f40-4145-bdd6-d19a732967fa",
   "metadata": {},
   "outputs": [],
   "source": []
  }
 ],
 "metadata": {
  "kernelspec": {
   "display_name": "Python 3 (ipykernel)",
   "language": "python",
   "name": "python3"
  },
  "language_info": {
   "codemirror_mode": {
    "name": "ipython",
    "version": 3
   },
   "file_extension": ".py",
   "mimetype": "text/x-python",
   "name": "python",
   "nbconvert_exporter": "python",
   "pygments_lexer": "ipython3",
   "version": "3.11.7"
  }
 },
 "nbformat": 4,
 "nbformat_minor": 5
}
